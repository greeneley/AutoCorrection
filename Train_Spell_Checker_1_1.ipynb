{
  "nbformat": 4,
  "nbformat_minor": 0,
  "metadata": {
    "colab": {
      "name": "Train_Spell_Checker_1.1",
      "provenance": [],
      "collapsed_sections": []
    },
    "kernelspec": {
      "name": "python3",
      "display_name": "Python 3"
    },
    "accelerator": "GPU"
  },
  "cells": [
    {
      "cell_type": "code",
      "metadata": {
        "id": "G4ijsar9VhFv",
        "colab_type": "code",
        "colab": {
          "base_uri": "https://localhost:8080/",
          "height": 1000
        },
        "outputId": "30f7fbce-5ee2-45fd-9f02-d671ff04f07b"
      },
      "source": [
        "!pip install tensorflow==1.14.0\n",
        "!pip install tensorflow-gpu==1.15"
      ],
      "execution_count": 9,
      "outputs": [
        {
          "output_type": "stream",
          "text": [
            "Requirement already satisfied: tensorflow==1.14.0 in /usr/local/lib/python3.6/dist-packages (1.14.0)\n",
            "Requirement already satisfied: termcolor>=1.1.0 in /usr/local/lib/python3.6/dist-packages (from tensorflow==1.14.0) (1.1.0)\n",
            "Requirement already satisfied: protobuf>=3.6.1 in /usr/local/lib/python3.6/dist-packages (from tensorflow==1.14.0) (3.12.4)\n",
            "Collecting tensorflow-estimator<1.15.0rc0,>=1.14.0rc0\n",
            "  Using cached https://files.pythonhosted.org/packages/3c/d5/21860a5b11caf0678fbc8319341b0ae21a07156911132e0e71bffed0510d/tensorflow_estimator-1.14.0-py2.py3-none-any.whl\n",
            "Requirement already satisfied: wheel>=0.26 in /usr/local/lib/python3.6/dist-packages (from tensorflow==1.14.0) (0.34.2)\n",
            "Requirement already satisfied: wrapt>=1.11.1 in /usr/local/lib/python3.6/dist-packages (from tensorflow==1.14.0) (1.12.1)\n",
            "Requirement already satisfied: keras-preprocessing>=1.0.5 in /usr/local/lib/python3.6/dist-packages (from tensorflow==1.14.0) (1.1.2)\n",
            "Requirement already satisfied: keras-applications>=1.0.6 in /usr/local/lib/python3.6/dist-packages (from tensorflow==1.14.0) (1.0.8)\n",
            "Requirement already satisfied: absl-py>=0.7.0 in /usr/local/lib/python3.6/dist-packages (from tensorflow==1.14.0) (0.9.0)\n",
            "Requirement already satisfied: numpy<2.0,>=1.14.5 in /usr/local/lib/python3.6/dist-packages (from tensorflow==1.14.0) (1.18.5)\n",
            "Requirement already satisfied: google-pasta>=0.1.6 in /usr/local/lib/python3.6/dist-packages (from tensorflow==1.14.0) (0.2.0)\n",
            "Requirement already satisfied: astor>=0.6.0 in /usr/local/lib/python3.6/dist-packages (from tensorflow==1.14.0) (0.8.1)\n",
            "Requirement already satisfied: grpcio>=1.8.6 in /usr/local/lib/python3.6/dist-packages (from tensorflow==1.14.0) (1.30.0)\n",
            "Requirement already satisfied: gast>=0.2.0 in /usr/local/lib/python3.6/dist-packages (from tensorflow==1.14.0) (0.2.2)\n",
            "Requirement already satisfied: six>=1.10.0 in /usr/local/lib/python3.6/dist-packages (from tensorflow==1.14.0) (1.15.0)\n",
            "Collecting tensorboard<1.15.0,>=1.14.0\n",
            "  Using cached https://files.pythonhosted.org/packages/91/2d/2ed263449a078cd9c8a9ba50ebd50123adf1f8cfbea1492f9084169b89d9/tensorboard-1.14.0-py3-none-any.whl\n",
            "Requirement already satisfied: setuptools in /usr/local/lib/python3.6/dist-packages (from protobuf>=3.6.1->tensorflow==1.14.0) (49.2.0)\n",
            "Requirement already satisfied: h5py in /usr/local/lib/python3.6/dist-packages (from keras-applications>=1.0.6->tensorflow==1.14.0) (2.10.0)\n",
            "Requirement already satisfied: markdown>=2.6.8 in /usr/local/lib/python3.6/dist-packages (from tensorboard<1.15.0,>=1.14.0->tensorflow==1.14.0) (3.2.2)\n",
            "Requirement already satisfied: werkzeug>=0.11.15 in /usr/local/lib/python3.6/dist-packages (from tensorboard<1.15.0,>=1.14.0->tensorflow==1.14.0) (1.0.1)\n",
            "Requirement already satisfied: importlib-metadata; python_version < \"3.8\" in /usr/local/lib/python3.6/dist-packages (from markdown>=2.6.8->tensorboard<1.15.0,>=1.14.0->tensorflow==1.14.0) (1.7.0)\n",
            "Requirement already satisfied: zipp>=0.5 in /usr/local/lib/python3.6/dist-packages (from importlib-metadata; python_version < \"3.8\"->markdown>=2.6.8->tensorboard<1.15.0,>=1.14.0->tensorflow==1.14.0) (3.1.0)\n",
            "\u001b[31mERROR: tensorflow-gpu 1.15.0 has requirement tensorboard<1.16.0,>=1.15.0, but you'll have tensorboard 1.14.0 which is incompatible.\u001b[0m\n",
            "\u001b[31mERROR: tensorflow-gpu 1.15.0 has requirement tensorflow-estimator==1.15.1, but you'll have tensorflow-estimator 1.14.0 which is incompatible.\u001b[0m\n",
            "Installing collected packages: tensorflow-estimator, tensorboard\n",
            "  Found existing installation: tensorflow-estimator 1.15.1\n",
            "    Uninstalling tensorflow-estimator-1.15.1:\n",
            "      Successfully uninstalled tensorflow-estimator-1.15.1\n",
            "  Found existing installation: tensorboard 1.15.0\n",
            "    Uninstalling tensorboard-1.15.0:\n",
            "      Successfully uninstalled tensorboard-1.15.0\n",
            "Successfully installed tensorboard-1.14.0 tensorflow-estimator-1.14.0\n"
          ],
          "name": "stdout"
        },
        {
          "output_type": "display_data",
          "data": {
            "application/vnd.colab-display-data+json": {
              "pip_warning": {
                "packages": [
                  "tensorboard",
                  "tensorflow_estimator"
                ]
              }
            }
          },
          "metadata": {
            "tags": []
          }
        },
        {
          "output_type": "stream",
          "text": [
            "Requirement already satisfied: tensorflow-gpu==1.15 in /usr/local/lib/python3.6/dist-packages (1.15.0)\n",
            "Requirement already satisfied: wrapt>=1.11.1 in /usr/local/lib/python3.6/dist-packages (from tensorflow-gpu==1.15) (1.12.1)\n",
            "Collecting tensorboard<1.16.0,>=1.15.0\n",
            "  Using cached https://files.pythonhosted.org/packages/1e/e9/d3d747a97f7188f48aa5eda486907f3b345cd409f0a0850468ba867db246/tensorboard-1.15.0-py3-none-any.whl\n",
            "Requirement already satisfied: opt-einsum>=2.3.2 in /usr/local/lib/python3.6/dist-packages (from tensorflow-gpu==1.15) (3.3.0)\n",
            "Requirement already satisfied: wheel>=0.26 in /usr/local/lib/python3.6/dist-packages (from tensorflow-gpu==1.15) (0.34.2)\n",
            "Requirement already satisfied: termcolor>=1.1.0 in /usr/local/lib/python3.6/dist-packages (from tensorflow-gpu==1.15) (1.1.0)\n",
            "Requirement already satisfied: numpy<2.0,>=1.16.0 in /usr/local/lib/python3.6/dist-packages (from tensorflow-gpu==1.15) (1.18.5)\n",
            "Requirement already satisfied: grpcio>=1.8.6 in /usr/local/lib/python3.6/dist-packages (from tensorflow-gpu==1.15) (1.30.0)\n",
            "Requirement already satisfied: keras-applications>=1.0.8 in /usr/local/lib/python3.6/dist-packages (from tensorflow-gpu==1.15) (1.0.8)\n",
            "Requirement already satisfied: absl-py>=0.7.0 in /usr/local/lib/python3.6/dist-packages (from tensorflow-gpu==1.15) (0.9.0)\n",
            "Requirement already satisfied: six>=1.10.0 in /usr/local/lib/python3.6/dist-packages (from tensorflow-gpu==1.15) (1.15.0)\n",
            "Requirement already satisfied: keras-preprocessing>=1.0.5 in /usr/local/lib/python3.6/dist-packages (from tensorflow-gpu==1.15) (1.1.2)\n",
            "Collecting tensorflow-estimator==1.15.1\n",
            "  Using cached https://files.pythonhosted.org/packages/de/62/2ee9cd74c9fa2fa450877847ba560b260f5d0fb70ee0595203082dafcc9d/tensorflow_estimator-1.15.1-py2.py3-none-any.whl\n",
            "Requirement already satisfied: google-pasta>=0.1.6 in /usr/local/lib/python3.6/dist-packages (from tensorflow-gpu==1.15) (0.2.0)\n",
            "Requirement already satisfied: astor>=0.6.0 in /usr/local/lib/python3.6/dist-packages (from tensorflow-gpu==1.15) (0.8.1)\n",
            "Requirement already satisfied: protobuf>=3.6.1 in /usr/local/lib/python3.6/dist-packages (from tensorflow-gpu==1.15) (3.12.4)\n",
            "Requirement already satisfied: gast==0.2.2 in /usr/local/lib/python3.6/dist-packages (from tensorflow-gpu==1.15) (0.2.2)\n",
            "Requirement already satisfied: werkzeug>=0.11.15 in /usr/local/lib/python3.6/dist-packages (from tensorboard<1.16.0,>=1.15.0->tensorflow-gpu==1.15) (1.0.1)\n",
            "Requirement already satisfied: setuptools>=41.0.0 in /usr/local/lib/python3.6/dist-packages (from tensorboard<1.16.0,>=1.15.0->tensorflow-gpu==1.15) (49.2.0)\n",
            "Requirement already satisfied: markdown>=2.6.8 in /usr/local/lib/python3.6/dist-packages (from tensorboard<1.16.0,>=1.15.0->tensorflow-gpu==1.15) (3.2.2)\n",
            "Requirement already satisfied: h5py in /usr/local/lib/python3.6/dist-packages (from keras-applications>=1.0.8->tensorflow-gpu==1.15) (2.10.0)\n",
            "Requirement already satisfied: importlib-metadata; python_version < \"3.8\" in /usr/local/lib/python3.6/dist-packages (from markdown>=2.6.8->tensorboard<1.16.0,>=1.15.0->tensorflow-gpu==1.15) (1.7.0)\n",
            "Requirement already satisfied: zipp>=0.5 in /usr/local/lib/python3.6/dist-packages (from importlib-metadata; python_version < \"3.8\"->markdown>=2.6.8->tensorboard<1.16.0,>=1.15.0->tensorflow-gpu==1.15) (3.1.0)\n",
            "\u001b[31mERROR: tensorflow 1.14.0 has requirement tensorboard<1.15.0,>=1.14.0, but you'll have tensorboard 1.15.0 which is incompatible.\u001b[0m\n",
            "\u001b[31mERROR: tensorflow 1.14.0 has requirement tensorflow-estimator<1.15.0rc0,>=1.14.0rc0, but you'll have tensorflow-estimator 1.15.1 which is incompatible.\u001b[0m\n",
            "Installing collected packages: tensorboard, tensorflow-estimator\n",
            "  Found existing installation: tensorboard 1.14.0\n",
            "    Uninstalling tensorboard-1.14.0:\n",
            "      Successfully uninstalled tensorboard-1.14.0\n",
            "  Found existing installation: tensorflow-estimator 1.14.0\n",
            "    Uninstalling tensorflow-estimator-1.14.0:\n",
            "      Successfully uninstalled tensorflow-estimator-1.14.0\n",
            "Successfully installed tensorboard-1.15.0 tensorflow-estimator-1.15.1\n"
          ],
          "name": "stdout"
        },
        {
          "output_type": "display_data",
          "data": {
            "application/vnd.colab-display-data+json": {
              "pip_warning": {
                "packages": [
                  "tensorboard",
                  "tensorflow_estimator"
                ]
              }
            }
          },
          "metadata": {
            "tags": []
          }
        }
      ]
    },
    {
      "cell_type": "code",
      "metadata": {
        "id": "NcQmoDiLSLLt",
        "colab_type": "code",
        "colab": {
          "base_uri": "https://localhost:8080/",
          "height": 272
        },
        "outputId": "78ac674b-0f43-4f97-c99e-93e2744c0416"
      },
      "source": [
        "!pip install keras==2.3.1\n"
      ],
      "execution_count": null,
      "outputs": [
        {
          "output_type": "stream",
          "text": [
            "Collecting keras==2.3.1\n",
            "\u001b[?25l  Downloading https://files.pythonhosted.org/packages/ad/fd/6bfe87920d7f4fd475acd28500a42482b6b84479832bdc0fe9e589a60ceb/Keras-2.3.1-py2.py3-none-any.whl (377kB)\n",
            "\r\u001b[K     |▉                               | 10kB 22.2MB/s eta 0:00:01\r\u001b[K     |█▊                              | 20kB 5.8MB/s eta 0:00:01\r\u001b[K     |██▋                             | 30kB 6.9MB/s eta 0:00:01\r\u001b[K     |███▌                            | 40kB 6.5MB/s eta 0:00:01\r\u001b[K     |████▍                           | 51kB 6.3MB/s eta 0:00:01\r\u001b[K     |█████▏                          | 61kB 6.9MB/s eta 0:00:01\r\u001b[K     |██████                          | 71kB 7.0MB/s eta 0:00:01\r\u001b[K     |███████                         | 81kB 7.6MB/s eta 0:00:01\r\u001b[K     |███████▉                        | 92kB 7.5MB/s eta 0:00:01\r\u001b[K     |████████▊                       | 102kB 7.1MB/s eta 0:00:01\r\u001b[K     |█████████▌                      | 112kB 7.1MB/s eta 0:00:01\r\u001b[K     |██████████▍                     | 122kB 7.1MB/s eta 0:00:01\r\u001b[K     |███████████▎                    | 133kB 7.1MB/s eta 0:00:01\r\u001b[K     |████████████▏                   | 143kB 7.1MB/s eta 0:00:01\r\u001b[K     |█████████████                   | 153kB 7.1MB/s eta 0:00:01\r\u001b[K     |█████████████▉                  | 163kB 7.1MB/s eta 0:00:01\r\u001b[K     |██████████████▊                 | 174kB 7.1MB/s eta 0:00:01\r\u001b[K     |███████████████▋                | 184kB 7.1MB/s eta 0:00:01\r\u001b[K     |████████████████▌               | 194kB 7.1MB/s eta 0:00:01\r\u001b[K     |█████████████████▍              | 204kB 7.1MB/s eta 0:00:01\r\u001b[K     |██████████████████▏             | 215kB 7.1MB/s eta 0:00:01\r\u001b[K     |███████████████████             | 225kB 7.1MB/s eta 0:00:01\r\u001b[K     |████████████████████            | 235kB 7.1MB/s eta 0:00:01\r\u001b[K     |████████████████████▉           | 245kB 7.1MB/s eta 0:00:01\r\u001b[K     |█████████████████████▊          | 256kB 7.1MB/s eta 0:00:01\r\u001b[K     |██████████████████████▌         | 266kB 7.1MB/s eta 0:00:01\r\u001b[K     |███████████████████████▍        | 276kB 7.1MB/s eta 0:00:01\r\u001b[K     |████████████████████████▎       | 286kB 7.1MB/s eta 0:00:01\r\u001b[K     |█████████████████████████▏      | 296kB 7.1MB/s eta 0:00:01\r\u001b[K     |██████████████████████████      | 307kB 7.1MB/s eta 0:00:01\r\u001b[K     |██████████████████████████▉     | 317kB 7.1MB/s eta 0:00:01\r\u001b[K     |███████████████████████████▊    | 327kB 7.1MB/s eta 0:00:01\r\u001b[K     |████████████████████████████▋   | 337kB 7.1MB/s eta 0:00:01\r\u001b[K     |█████████████████████████████▌  | 348kB 7.1MB/s eta 0:00:01\r\u001b[K     |██████████████████████████████▍ | 358kB 7.1MB/s eta 0:00:01\r\u001b[K     |███████████████████████████████▏| 368kB 7.1MB/s eta 0:00:01\r\u001b[K     |████████████████████████████████| 378kB 7.1MB/s \n",
            "\u001b[?25hRequirement already satisfied: h5py in /usr/local/lib/python3.6/dist-packages (from keras==2.3.1) (2.10.0)\n",
            "Requirement already satisfied: keras-applications>=1.0.6 in /usr/local/lib/python3.6/dist-packages (from keras==2.3.1) (1.0.8)\n",
            "Requirement already satisfied: pyyaml in /usr/local/lib/python3.6/dist-packages (from keras==2.3.1) (3.13)\n",
            "Requirement already satisfied: six>=1.9.0 in /usr/local/lib/python3.6/dist-packages (from keras==2.3.1) (1.15.0)\n",
            "Requirement already satisfied: scipy>=0.14 in /usr/local/lib/python3.6/dist-packages (from keras==2.3.1) (1.4.1)\n",
            "Requirement already satisfied: keras-preprocessing>=1.0.5 in /usr/local/lib/python3.6/dist-packages (from keras==2.3.1) (1.1.2)\n",
            "Requirement already satisfied: numpy>=1.9.1 in /usr/local/lib/python3.6/dist-packages (from keras==2.3.1) (1.18.5)\n",
            "Installing collected packages: keras\n",
            "  Found existing installation: Keras 2.4.3\n",
            "    Uninstalling Keras-2.4.3:\n",
            "      Successfully uninstalled Keras-2.4.3\n",
            "Successfully installed keras-2.3.1\n"
          ],
          "name": "stdout"
        }
      ]
    },
    {
      "cell_type": "code",
      "metadata": {
        "id": "oWcGZrZvS8D_",
        "colab_type": "code",
        "colab": {
          "base_uri": "https://localhost:8080/",
          "height": 102
        },
        "outputId": "aa5e6e65-37fb-4174-ce3f-ccc069572fd4"
      },
      "source": [
        "!pip install unidecode"
      ],
      "execution_count": null,
      "outputs": [
        {
          "output_type": "stream",
          "text": [
            "Collecting unidecode\n",
            "\u001b[?25l  Downloading https://files.pythonhosted.org/packages/d0/42/d9edfed04228bacea2d824904cae367ee9efd05e6cce7ceaaedd0b0ad964/Unidecode-1.1.1-py2.py3-none-any.whl (238kB)\n",
            "\r\u001b[K     |█▍                              | 10kB 23.0MB/s eta 0:00:01\r\u001b[K     |██▊                             | 20kB 6.2MB/s eta 0:00:01\r\u001b[K     |████▏                           | 30kB 7.7MB/s eta 0:00:01\r\u001b[K     |█████▌                          | 40kB 8.4MB/s eta 0:00:01\r\u001b[K     |██████▉                         | 51kB 7.3MB/s eta 0:00:01\r\u001b[K     |████████▎                       | 61kB 8.1MB/s eta 0:00:01\r\u001b[K     |█████████▋                      | 71kB 8.3MB/s eta 0:00:01\r\u001b[K     |███████████                     | 81kB 8.7MB/s eta 0:00:01\r\u001b[K     |████████████▍                   | 92kB 8.9MB/s eta 0:00:01\r\u001b[K     |█████████████▊                  | 102kB 9.5MB/s eta 0:00:01\r\u001b[K     |███████████████▏                | 112kB 9.5MB/s eta 0:00:01\r\u001b[K     |████████████████▌               | 122kB 9.5MB/s eta 0:00:01\r\u001b[K     |█████████████████▉              | 133kB 9.5MB/s eta 0:00:01\r\u001b[K     |███████████████████▎            | 143kB 9.5MB/s eta 0:00:01\r\u001b[K     |████████████████████▋           | 153kB 9.5MB/s eta 0:00:01\r\u001b[K     |██████████████████████          | 163kB 9.5MB/s eta 0:00:01\r\u001b[K     |███████████████████████▍        | 174kB 9.5MB/s eta 0:00:01\r\u001b[K     |████████████████████████▊       | 184kB 9.5MB/s eta 0:00:01\r\u001b[K     |██████████████████████████▏     | 194kB 9.5MB/s eta 0:00:01\r\u001b[K     |███████████████████████████▌    | 204kB 9.5MB/s eta 0:00:01\r\u001b[K     |████████████████████████████▉   | 215kB 9.5MB/s eta 0:00:01\r\u001b[K     |██████████████████████████████▎ | 225kB 9.5MB/s eta 0:00:01\r\u001b[K     |███████████████████████████████▋| 235kB 9.5MB/s eta 0:00:01\r\u001b[K     |████████████████████████████████| 245kB 9.5MB/s \n",
            "\u001b[?25hInstalling collected packages: unidecode\n",
            "Successfully installed unidecode-1.1.1\n"
          ],
          "name": "stdout"
        }
      ]
    },
    {
      "cell_type": "code",
      "metadata": {
        "id": "ADaWypZbYFwj",
        "colab_type": "code",
        "colab": {
          "base_uri": "https://localhost:8080/",
          "height": 34
        },
        "outputId": "9e38c675-d0e5-4dfe-dfe6-fe512336bff1"
      },
      "source": [
        "import re\n",
        "from collections import Counter\n",
        "from keras.models import load_model\n",
        "from nltk.tokenize import word_tokenize\n",
        "from nltk import ngrams,word_tokenize\n",
        "import numpy as np\n",
        "import re\n",
        "from unidecode import unidecode\n",
        "import string\n",
        "from tqdm import tqdm\n",
        "from random import shuffle\n",
        "from datetime import datetime\n",
        "import os\n",
        "import time\n"
      ],
      "execution_count": null,
      "outputs": [
        {
          "output_type": "stream",
          "text": [
            "Using TensorFlow backend.\n"
          ],
          "name": "stderr"
        }
      ]
    },
    {
      "cell_type": "code",
      "metadata": {
        "id": "SldjWsF4VKL3",
        "colab_type": "code",
        "colab": {
          "base_uri": "https://localhost:8080/",
          "height": 241
        },
        "outputId": "52aa1864-b218-4ec3-9b54-06667748049a"
      },
      "source": [
        "# BASIC INSTALL \n",
        "# KEY: 4/2gFyJvqhPILwIRMw0tT1EIh97zJx4LqRiUE8rhhQ3kDp8_Auvq-AlWA\n",
        "!apt-get update -qq 2>&1 > /dev/null\n",
        "!apt-get install -y -qq software-properties-common python-software-properties module-init-tools\n",
        "!add-apt-repository -y ppa:alessandro-strada/ppa 2>&1 > /dev/null\n",
        "!apt-get update -qq 2>&1 > /dev/null\n",
        "!apt-get -y install -qq google-drive-ocamlfuse fuse \n",
        "from google.colab import drive\n",
        "drive.mount('/content/drive')"
      ],
      "execution_count": null,
      "outputs": [
        {
          "output_type": "stream",
          "text": [
            "E: Package 'python-software-properties' has no installation candidate\n",
            "Selecting previously unselected package google-drive-ocamlfuse.\n",
            "(Reading database ... 144487 files and directories currently installed.)\n",
            "Preparing to unpack .../google-drive-ocamlfuse_0.7.22-0ubuntu3~ubuntu18.04.1_amd64.deb ...\n",
            "Unpacking google-drive-ocamlfuse (0.7.22-0ubuntu3~ubuntu18.04.1) ...\n",
            "Setting up google-drive-ocamlfuse (0.7.22-0ubuntu3~ubuntu18.04.1) ...\n",
            "Processing triggers for man-db (2.8.3-2ubuntu0.1) ...\n",
            "Go to this URL in a browser: https://accounts.google.com/o/oauth2/auth?client_id=947318989803-6bn6qk8qdgf4n4g3pfee6491hc0brc4i.apps.googleusercontent.com&redirect_uri=urn%3aietf%3awg%3aoauth%3a2.0%3aoob&response_type=code&scope=email%20https%3a%2f%2fwww.googleapis.com%2fauth%2fdocs.test%20https%3a%2f%2fwww.googleapis.com%2fauth%2fdrive%20https%3a%2f%2fwww.googleapis.com%2fauth%2fdrive.photos.readonly%20https%3a%2f%2fwww.googleapis.com%2fauth%2fpeopleapi.readonly\n",
            "\n",
            "Enter your authorization code:\n",
            "··········\n",
            "Mounted at /content/drive\n"
          ],
          "name": "stdout"
        }
      ]
    },
    {
      "cell_type": "code",
      "metadata": {
        "id": "1AoARic-XBNX",
        "colab_type": "code",
        "colab": {
          "base_uri": "https://localhost:8080/",
          "height": 34
        },
        "outputId": "c700e0f6-be90-4443-8885-a044c6eb19f2"
      },
      "source": [
        "%cd /content/drive/My\\ Drive/Colab \n"
      ],
      "execution_count": null,
      "outputs": [
        {
          "output_type": "stream",
          "text": [
            "/content/drive/My Drive/Colab\n"
          ],
          "name": "stdout"
        }
      ]
    },
    {
      "cell_type": "code",
      "metadata": {
        "id": "1QUeTuavXJ6z",
        "colab_type": "code",
        "colab": {
          "base_uri": "https://localhost:8080/",
          "height": 34
        },
        "outputId": "adc3ba37-88c8-4006-9ad0-ec8bc433f2aa"
      },
      "source": [
        "%cd Spell-Checker-master/\n"
      ],
      "execution_count": null,
      "outputs": [
        {
          "output_type": "stream",
          "text": [
            "/content/drive/My Drive/Colab/Spell-Checker-master\n"
          ],
          "name": "stdout"
        }
      ]
    },
    {
      "cell_type": "code",
      "metadata": {
        "id": "LEzVhNGmXTPq",
        "colab_type": "code",
        "colab": {
          "base_uri": "https://localhost:8080/",
          "height": 34
        },
        "outputId": "83d3189b-3a60-46e7-ebb4-df473b66f78f"
      },
      "source": [
        "!ls"
      ],
      "execution_count": 8,
      "outputs": [
        {
          "output_type": "stream",
          "text": [
            "ls: cannot open directory '.': Input/output error\n"
          ],
          "name": "stdout"
        }
      ]
    },
    {
      "cell_type": "code",
      "metadata": {
        "id": "K7X19fIYXatC",
        "colab_type": "code",
        "colab": {
          "base_uri": "https://localhost:8080/",
          "height": 34
        },
        "outputId": "bf07c6ff-161c-4d36-d125-cff0c66c74dc"
      },
      "source": [
        "\n",
        "# load the data by pkl file\n",
        "import pickle\n",
        "data = pickle.load(open('./Data/VNTC_data.pkl', 'rb'))\n",
        "print(len(data),len(set(i for i in data)))\n"
      ],
      "execution_count": null,
      "outputs": [
        {
          "output_type": "stream",
          "text": [
            "261 259\n"
          ],
          "name": "stdout"
        }
      ]
    },
    {
      "cell_type": "code",
      "metadata": {
        "id": "9qlJRXcPI4eT",
        "colab_type": "code",
        "colab": {
          "base_uri": "https://localhost:8080/",
          "height": 35
        },
        "outputId": "90e657f2-d45e-4582-ce05-26110f85a366"
      },
      "source": [
        "data[10]"
      ],
      "execution_count": null,
      "outputs": [
        {
          "output_type": "execute_result",
          "data": {
            "application/vnd.google.colaboratory.intrinsic+json": {
              "type": "string"
            },
            "text/plain": [
              "'Đình, đền, chùa, miếu, mạo'"
            ]
          },
          "metadata": {
            "tags": []
          },
          "execution_count": 60
        }
      ]
    },
    {
      "cell_type": "code",
      "metadata": {
        "id": "vSqaZD1DX5dE",
        "colab_type": "code",
        "colab": {
          "base_uri": "https://localhost:8080/",
          "height": 285
        },
        "outputId": "702805d9-f4fc-48fd-ab70-026ec75d0779"
      },
      "source": [
        "alphabet = '^[ _abcdefghijklmnopqrstuvwxyz0123456789áàảãạâấầẩẫậăắằẳẵặóòỏõọôốồổỗộơớờởỡợéèẻẽẹêếềểễệúùủũụưứừửữựíìỉĩịýỳỷỹỵđ!\\\"\\',\\-\\.:;?_\\(\\)]+$'\n",
        "training_data = []\n",
        "for i in data:\n",
        "  i=i.replace(\"\\n\",\".\")\n",
        "  sentences=i.split(\".\")\n",
        "  for j in sentences:\n",
        "      if len(j.split()) > 2 and re.match(alphabet, j.lower()):\n",
        "          training_data.append(j)\n",
        "print(len(training_data))"
      ],
      "execution_count": null,
      "outputs": [
        {
          "output_type": "error",
          "ename": "NameError",
          "evalue": "ignored",
          "traceback": [
            "\u001b[0;31m---------------------------------------------------------------------------\u001b[0m",
            "\u001b[0;31mNameError\u001b[0m                                 Traceback (most recent call last)",
            "\u001b[0;32m<ipython-input-8-be4455d12460>\u001b[0m in \u001b[0;36m<module>\u001b[0;34m()\u001b[0m\n\u001b[1;32m      1\u001b[0m \u001b[0malphabet\u001b[0m \u001b[0;34m=\u001b[0m \u001b[0;34m'^[ _abcdefghijklmnopqrstuvwxyz0123456789áàảãạâấầẩẫậăắằẳẵặóòỏõọôốồổỗộơớờởỡợéèẻẽẹêếềểễệúùủũụưứừửữựíìỉĩịýỳỷỹỵđ!\\\"\\',\\-\\.:;?_\\(\\)]+$'\u001b[0m\u001b[0;34m\u001b[0m\u001b[0;34m\u001b[0m\u001b[0m\n\u001b[1;32m      2\u001b[0m \u001b[0mtraining_data\u001b[0m \u001b[0;34m=\u001b[0m \u001b[0;34m[\u001b[0m\u001b[0;34m]\u001b[0m\u001b[0;34m\u001b[0m\u001b[0;34m\u001b[0m\u001b[0m\n\u001b[0;32m----> 3\u001b[0;31m \u001b[0;32mfor\u001b[0m \u001b[0mi\u001b[0m \u001b[0;32min\u001b[0m \u001b[0mdata\u001b[0m\u001b[0;34m:\u001b[0m\u001b[0;34m\u001b[0m\u001b[0;34m\u001b[0m\u001b[0m\n\u001b[0m\u001b[1;32m      4\u001b[0m   \u001b[0mi\u001b[0m\u001b[0;34m=\u001b[0m\u001b[0mi\u001b[0m\u001b[0;34m.\u001b[0m\u001b[0mreplace\u001b[0m\u001b[0;34m(\u001b[0m\u001b[0;34m\"\\n\"\u001b[0m\u001b[0;34m,\u001b[0m\u001b[0;34m\".\"\u001b[0m\u001b[0;34m)\u001b[0m\u001b[0;34m\u001b[0m\u001b[0;34m\u001b[0m\u001b[0m\n\u001b[1;32m      5\u001b[0m   \u001b[0msentences\u001b[0m\u001b[0;34m=\u001b[0m\u001b[0mi\u001b[0m\u001b[0;34m.\u001b[0m\u001b[0msplit\u001b[0m\u001b[0;34m(\u001b[0m\u001b[0;34m\".\"\u001b[0m\u001b[0;34m)\u001b[0m\u001b[0;34m\u001b[0m\u001b[0;34m\u001b[0m\u001b[0m\n",
            "\u001b[0;31mNameError\u001b[0m: name 'data' is not defined"
          ]
        }
      ]
    },
    {
      "cell_type": "code",
      "metadata": {
        "id": "kY8HP1txYInv",
        "colab_type": "code",
        "colab": {}
      },
      "source": [
        "# del data\n"
      ],
      "execution_count": null,
      "outputs": []
    },
    {
      "cell_type": "code",
      "metadata": {
        "id": "r9CjSxUIZB13",
        "colab_type": "code",
        "colab": {
          "base_uri": "https://localhost:8080/",
          "height": 54
        },
        "outputId": "e0a82b45-1ebd-4bbb-c774-75a7ad93fa50"
      },
      "source": [
        "print(training_data[:10])"
      ],
      "execution_count": null,
      "outputs": [
        {
          "output_type": "stream",
          "text": [
            "['Tòa cao ốc, chung cư, trung tâm thị xã, thị trấn', 'Tòa nhà, chung cư', 'Xã, thị xã, thị trấn', 'Khu tham quan ngắm cảnh', 'Tòa thánh, nhà thờ, tu viện', 'Nghĩa trang, đài tưởng niệm liệt sỹ', 'Tượng đài, đài tưởng niệm, bia tưởng niệm', 'Rừng quốc gia, vườn quốc gia, khu bảo tồn', 'Đình, đền, chùa, miếu, mạo', 'Sông, hồ, khu du lịch']\n"
          ],
          "name": "stdout"
        }
      ]
    },
    {
      "cell_type": "code",
      "metadata": {
        "id": "e1ontivKZG06",
        "colab_type": "code",
        "colab": {
          "base_uri": "https://localhost:8080/",
          "height": 34
        },
        "outputId": "87dd9ac3-8058-4f69-c544-2ef9eb4c9284"
      },
      "source": [
        "!pip install unidecode # this module removes tones\n"
      ],
      "execution_count": null,
      "outputs": [
        {
          "output_type": "stream",
          "text": [
            "Requirement already satisfied: unidecode in /usr/local/lib/python3.6/dist-packages (1.1.1)\n"
          ],
          "name": "stdout"
        }
      ]
    },
    {
      "cell_type": "code",
      "metadata": {
        "id": "3kHQ_bOiZQCJ",
        "colab_type": "code",
        "colab": {}
      },
      "source": [
        "import re\n",
        "import numpy as np\n",
        "from unidecode import unidecode\n",
        "# some common Vietnamese spell mistake\n",
        "letters = list(\"abcdefghijklmnopqrstuvwxyzáàảãạâấầẩẫậăắằẳẵặóòỏõọôốồổỗộơớờởỡợéèẻẽẹêếềểễệúùủũụưứừửữựíìỉĩịýỳỷỹỵđABCDEFGHIJKLMNOPQRSTUVWXYZÁÀẢÃẠÂẤẦẨẪẬĂẮẰẲẴẶÓÒỎÕỌÔỐỒỔỖỘƠỚỜỞỠỢÉÈẺẼẸÊẾỀỂỄỆÚÙỦŨỤƯỨỪỬỮỰÍÌỈĨỊÝỲỶỸỴĐ\")\n",
        "letters2 = list(\"abcdefghijklmnopqrstuvwxyz\")\n",
        "\n",
        "typo={\"ă\":\"aw\",\"â\":\"aa\",\"á\":\"as\",\"à\":\"af\",\"ả\":\"ar\",\"ã\":\"ax\",\"ạ\":\"aj\",\"ắ\":\"aws\",\"ổ\":\"oor\",\"ỗ\":\"oox\",\"ộ\":\"ooj\",\"ơ\":\"ow\",\n",
        "\"ằ\":\"awf\",\"ẳ\":\"awr\",\"ẵ\":\"awx\",\"ặ\":\"awj\",\"ó\":\"os\",\"ò\":\"of\",\"ỏ\":\"or\",\"õ\":\"ox\",\"ọ\":\"oj\",\"ô\":\"oo\",\"ố\":\"oos\",\"ồ\":\"oof\",\n",
        "\"ớ\":\"ows\",\"ờ\":\"owf\",\"ở\":\"owr\",\"ỡ\":\"owx\",\"ợ\":\"owj\",\"é\":\"es\",\"è\":\"ef\",\"ẻ\":\"er\",\"ẽ\":\"ex\",\"ẹ\":\"ej\",\"ê\":\"ee\",\"ế\":\"ees\",\"ề\":\"eef\",\n",
        "\"ể\":\"eer\",\"ễ\":\"eex\",\"ệ\":\"eej\",\"ú\":\"us\",\"ù\":\"uf\",\"ủ\":\"ur\",\"ũ\":\"ux\",\"ụ\":\"uj\",\"ư\":\"uw\",\"ứ\":\"uws\",\"ừ\":\"uwf\",\"ử\":\"uwr\",\"ữ\":\"uwx\",\n",
        "\"ự\":\"uwj\",\"í\":\"is\",\"ì\":\"if\",\"ỉ\":\"ir\",\"ị\":\"ij\",\"ĩ\":\"ix\",\"ý\":\"ys\",\"ỳ\":\"yf\",\"ỷ\":\"yr\",\"ỵ\":\"yj\",\"đ\":\"dd\",\n",
        "\"Ă\":\"Aw\",\"Â\":\"Aa\",\"Á\":\"As\",\"À\":\"Af\",\"Ả\":\"Ar\",\"Ã\":\"Ax\",\"Ạ\":\"Aj\",\"Ắ\":\"Aws\",\"Ổ\":\"Oor\",\"Ỗ\":\"Oox\",\"Ộ\":\"Ooj\",\"Ơ\":\"Ow\",\n",
        "\"Ằ\":\"AWF\",\"Ẳ\":\"Awr\",\"Ẵ\":\"Awx\",\"Ặ\":\"Awj\",\"Ó\":\"Os\",\"Ò\":\"Of\",\"Ỏ\":\"Or\",\"Õ\":\"Ox\",\"Ọ\":\"Oj\",\"Ô\":\"Oo\",\"Ố\":\"Oos\",\"Ồ\":\"Oof\",\n",
        "\"Ớ\":\"Ows\",\"Ờ\":\"Owf\",\"Ở\":\"Owr\",\"Ỡ\":\"Owx\",\"Ợ\":\"Owj\",\"É\":\"Es\",\"È\":\"Ef\",\"Ẻ\":\"Er\",\"Ẽ\":\"Ex\",\"Ẹ\":\"Ej\",\"Ê\":\"Ee\",\"Ế\":\"Ees\",\"Ề\":\"Eef\",\n",
        "\"Ể\":\"Eer\",\"Ễ\":\"Eex\",\"Ệ\":\"Eej\",\"Ú\":\"Us\",\"Ù\":\"Uf\",\"Ủ\":\"Ur\",\"Ũ\":\"Ux\",\"Ụ\":\"Uj\",\"Ư\":\"Uw\",\"Ứ\":\"Uws\",\"Ừ\":\"Uwf\",\"Ử\":\"Uwr\",\"Ữ\":\"Uwx\",\n",
        "\"Ự\":\"Uwj\",\"Í\":\"Is\",\"Ì\":\"If\",\"Ỉ\":\"Ir\",\"Ị\":\"Ij\",\"Ĩ\":\"Ix\",\"Ý\":\"Ys\",\"Ỳ\":\"Yf\",\"Ỷ\":\"Yr\",\"Ỵ\":\"Yj\",\"Đ\":\"Dd\"}\n",
        "\n",
        "region={\"ẻ\":\"ẽ\",\"ẽ\":\"ẻ\",\"ũ\":\"ủ\",\"ủ\":\"ũ\",\"ã\":\"ả\",\"ả\":\"ã\",\"ỏ\":\"õ\",\"õ\":\"ỏ\",\"i\":\"j\"}\n",
        "region2={\"s\":\"x\",\"l\":\"n\",\"n\":\"l\",\"x\":\"s\",\"d\":\"gi\",\"S\":\"X\",\"L\":\"N\",\"N\":\"L\",\"X\":\"S\",\"Gi\":\"D\",\"D\":\"Gi\"}\n",
        "\n",
        "vowel=list(\"aeiouyáàảãạâấầẩẫậăắằẳẵặóòỏõọôốồổỗộơớờởỡợéèẻẽẹêếềểễệúùủũụưứừửữựíìỉĩịýỳỷỹỵ\")\n",
        "acronym={\"không\":\"ko\",\" anh\":\" a\",\"em\":\"e\",\"biết\":\"bít\",\"giờ\":\"h\",\"gì\":\"j\",\"muốn\":\"mún\",\"học\":\"hok\",\"yêu\":\"iu\",\n",
        "         \"chồng\":\"ck\",\"vợ\":\"vk\",\" ông\":\" ô\",\"được\":\"đc\",\"tôi\":\"t\",\n",
        "         \"Không\":\"Ko\",\" Anh\":\" A\",\"Em\":\"E\",\"Biết\":\"Bít\",\"Giờ\":\"H\",\"Gì\":\"J\",\"Muốn\":\"Mún\",\"Học\":\"Hok\",\"Yêu\":\"Iu\",\n",
        "         \"Chồng\":\"Ck\",\"Vợ\":\"Vk\",\" Ông\":\" Ô\",\"Được\":\"Đc\",\"Tôi\":\"T\",}\n",
        "\n",
        "teen={\"ch\":\"ck\",\"ph\":\"f\",\"th\":\"tk\",\"nh\":\"nk\",\n",
        "      \"Ch\":\"Ck\",\"Ph\":\"F\",\"Th\":\"Tk\",\"Nh\":\"Nk\", \"Tr\": \"Ch\",\"Tr\":\"Ch\", \"tr\":\"ch\"}"
      ],
      "execution_count": null,
      "outputs": []
    },
    {
      "cell_type": "code",
      "metadata": {
        "id": "TP1R8B3HZRlS",
        "colab_type": "code",
        "colab": {}
      },
      "source": [
        "# function for adding mistake( noise)\n",
        "def teen_code(sentence,pivot):\n",
        "    random = np.random.uniform(0,1,1)[0]\n",
        "    new_sentence=str(sentence)\n",
        "    if random>pivot:\n",
        "        for word in acronym.keys():\n",
        "            if re.search(word, new_sentence):\n",
        "                random2 = np.random.uniform(0,1,1)[0]\n",
        "                if random2 <0.5:\n",
        "                    new_sentence=new_sentence.replace(word,acronym[word])\n",
        "        for word in teen.keys(): \n",
        "            if re.search(word, new_sentence):\n",
        "                random3 = np.random.uniform(0,1,1)[0]\n",
        "                if random3 <0.05:\n",
        "                    new_sentence=new_sentence.replace(word,teen[word])        \n",
        "        return new_sentence\n",
        "    else:\n",
        "        return sentence\n",
        "    \n",
        "\n",
        "def add_noise(sentence, pivot1, pivot2):\n",
        "    sentence = teen_code(sentence,0.4)\n",
        "    noisy_sentence = \"\"\n",
        "    i = 0\n",
        "    while i < len(sentence):\n",
        "        if sentence[i] not in letters:\n",
        "            noisy_sentence+=sentence[i]\n",
        "        else: \n",
        "            random = np.random.uniform(0,1,1)[0]   \n",
        "            if random < pivot1:\n",
        "                noisy_sentence+=(sentence[i])\n",
        "            elif random<pivot2:\n",
        "                if sentence[i] in typo.keys() and sentence[i] in region.keys():\n",
        "                    random2=np.random.uniform(0,1,1)[0]\n",
        "                    if random2<=0.4:\n",
        "                        noisy_sentence+=typo[sentence[i]]\n",
        "                    elif random2<0.8:\n",
        "                        noisy_sentence+=region[sentence[i]]\n",
        "                    elif random2<0.95 :\n",
        "                        noisy_sentence+=unidecode(sentence[i])\n",
        "                    else:\n",
        "                        noisy_sentence+=sentence[i]\n",
        "                elif sentence[i] in typo.keys():\n",
        "                    random3=np.random.uniform(0,1,1)[0]\n",
        "                    if random3<=0.6:\n",
        "                        noisy_sentence+=typo[sentence[i]]\n",
        "                    elif random3<0.9 :\n",
        "                        noisy_sentence+=unidecode(sentence[i])                        \n",
        "                    else:\n",
        "                        noisy_sentence+=sentence[i]\n",
        "                elif sentence[i] in region.keys():\n",
        "                    random4=np.random.uniform(0,1,1)[0]\n",
        "                    if random4<=0.6:\n",
        "                        noisy_sentence+=region[sentence[i]]\n",
        "                    elif random4<0.85 :\n",
        "                        noisy_sentence+=unidecode(sentence[i])                        \n",
        "                    else:\n",
        "                        noisy_sentence+=sentence[i]\n",
        "                elif i<len(sentence)-1 :\n",
        "                    if sentence[i] in region2.keys() and (i==0 or sentence[i-1] not in letters) and sentence[i+1] in vowel:\n",
        "                        random5=np.random.uniform(0,1,1)[0]\n",
        "                        if random5<=0.9:\n",
        "                            noisy_sentence+=region2[sentence[i]]\n",
        "                        else:\n",
        "                            noisy_sentence+=sentence[i]\n",
        "                    else:\n",
        "                        noisy_sentence+=sentence[i]\n",
        "\n",
        "            else:\n",
        "                new_random = np.random.uniform(0,1,1)[0]\n",
        "                if new_random <=0.33:\n",
        "                    if i == (len(sentence) - 1):\n",
        "                        continue\n",
        "                    else:\n",
        "                        noisy_sentence+=(sentence[i+1])\n",
        "                        noisy_sentence+=(sentence[i])\n",
        "                        i += 1\n",
        "                elif new_random <= 0.66:\n",
        "                    random_letter = np.random.choice(letters2, 1)[0]\n",
        "                    noisy_sentence+=random_letter\n",
        "                else:\n",
        "                    pass\n",
        "      \n",
        "        i += 1\n",
        "    return noisy_sentence"
      ],
      "execution_count": null,
      "outputs": []
    },
    {
      "cell_type": "code",
      "metadata": {
        "id": "d-GdzDoIZWTV",
        "colab_type": "code",
        "colab": {}
      },
      "source": [
        "def extract_phrases(text):\n",
        "    return re.findall(r'\\w[\\w ]+', text)"
      ],
      "execution_count": null,
      "outputs": []
    },
    {
      "cell_type": "code",
      "metadata": {
        "id": "KpzAFHspZY84",
        "colab_type": "code",
        "colab": {
          "base_uri": "https://localhost:8080/",
          "height": 51
        },
        "outputId": "5b98e619-d385-4cf2-c174-ff46cd780cd9"
      },
      "source": [
        "import itertools\n",
        "phrases = itertools.chain.from_iterable(extract_phrases(text) for text in training_data)\n",
        "phrases = [p.strip() for p in phrases if len(p.split()) > 1]\n",
        "\n",
        "print(len(phrases))\n",
        "print(phrases[-10:])"
      ],
      "execution_count": null,
      "outputs": [
        {
          "output_type": "stream",
          "text": [
            "0\n",
            "[]\n"
          ],
          "name": "stdout"
        }
      ]
    },
    {
      "cell_type": "code",
      "metadata": {
        "id": "lM89btopZb5o",
        "colab_type": "code",
        "colab": {
          "base_uri": "https://localhost:8080/",
          "height": 231
        },
        "outputId": "d15c6ae0-a72f-4c5c-c7b9-6c083235ac63"
      },
      "source": [
        "from nltk import ngrams\n",
        "import string\n",
        "import numpy as np\n",
        "from tqdm import tqdm\n",
        "\n",
        "# divide document into 5-grams \n",
        "# a single Vietnamese word cant contain more than 7 characters ( nghiêng )\n",
        "MAXNGRAM = 4\n",
        "MAXLEN = 40\n",
        "def gen_ngrams(words, n=2):\n",
        "    return ngrams(words.split(), n)\n",
        "   \n",
        "list_ngrams = []\n",
        "for p in tqdm(phrases):\n",
        "  if not re.match(alphabet, p.lower()):\n",
        "    continue\n",
        "  for NGRAM in range(2,MAXNGRAM + 1):\n",
        "    for ngr in gen_ngrams(p, NGRAM):\n",
        "      if len(\" \".join(ngr)) < MAXLEN:\n",
        "        list_ngrams.append(\" \".join(ngr))\n"
      ],
      "execution_count": null,
      "outputs": [
        {
          "output_type": "error",
          "ename": "NameError",
          "evalue": "ignored",
          "traceback": [
            "\u001b[0;31m---------------------------------------------------------------------------\u001b[0m",
            "\u001b[0;31mNameError\u001b[0m                                 Traceback (most recent call last)",
            "\u001b[0;32m<ipython-input-18-c4ecaf1e21cb>\u001b[0m in \u001b[0;36m<module>\u001b[0;34m()\u001b[0m\n\u001b[1;32m     12\u001b[0m \u001b[0;34m\u001b[0m\u001b[0m\n\u001b[1;32m     13\u001b[0m \u001b[0mlist_ngrams\u001b[0m \u001b[0;34m=\u001b[0m \u001b[0;34m[\u001b[0m\u001b[0;34m]\u001b[0m\u001b[0;34m\u001b[0m\u001b[0;34m\u001b[0m\u001b[0m\n\u001b[0;32m---> 14\u001b[0;31m \u001b[0;32mfor\u001b[0m \u001b[0mp\u001b[0m \u001b[0;32min\u001b[0m \u001b[0mtqdm\u001b[0m\u001b[0;34m(\u001b[0m\u001b[0mphrases\u001b[0m\u001b[0;34m)\u001b[0m\u001b[0;34m:\u001b[0m\u001b[0;34m\u001b[0m\u001b[0;34m\u001b[0m\u001b[0m\n\u001b[0m\u001b[1;32m     15\u001b[0m   \u001b[0;32mif\u001b[0m \u001b[0;32mnot\u001b[0m \u001b[0mre\u001b[0m\u001b[0;34m.\u001b[0m\u001b[0mmatch\u001b[0m\u001b[0;34m(\u001b[0m\u001b[0malphabet\u001b[0m\u001b[0;34m,\u001b[0m \u001b[0mp\u001b[0m\u001b[0;34m.\u001b[0m\u001b[0mlower\u001b[0m\u001b[0;34m(\u001b[0m\u001b[0;34m)\u001b[0m\u001b[0;34m)\u001b[0m\u001b[0;34m:\u001b[0m\u001b[0;34m\u001b[0m\u001b[0;34m\u001b[0m\u001b[0m\n\u001b[1;32m     16\u001b[0m     \u001b[0;32mcontinue\u001b[0m\u001b[0;34m\u001b[0m\u001b[0;34m\u001b[0m\u001b[0m\n",
            "\u001b[0;31mNameError\u001b[0m: name 'phrases' is not defined"
          ]
        }
      ]
    },
    {
      "cell_type": "code",
      "metadata": {
        "id": "ztjLhB8MZiQx",
        "colab_type": "code",
        "colab": {
          "base_uri": "https://localhost:8080/",
          "height": 34
        },
        "outputId": "9eb12404-3131-466e-e68d-1d8efa4cf21e"
      },
      "source": [
        "# del phrases\n",
        "list_ngrams = list((list_ngrams))\n",
        "print(len(list_ngrams))"
      ],
      "execution_count": null,
      "outputs": [
        {
          "output_type": "stream",
          "text": [
            "724\n"
          ],
          "name": "stdout"
        }
      ]
    },
    {
      "cell_type": "code",
      "metadata": {
        "id": "eDbn_AJGZlH0",
        "colab_type": "code",
        "colab": {
          "base_uri": "https://localhost:8080/",
          "height": 71
        },
        "outputId": "5b95eb7e-b884-44e7-9993-acb54bef2295"
      },
      "source": [
        "alphabet = ['\\x00', ' ', '_', 'a', 'b', 'c', 'd', 'e', 'f', 'g', 'h', 'i', 'j', 'k', 'l', 'm', 'n', 'o', 'p', 'q', 'r', 's', 't', 'u', 'v', 'w', 'x', 'y', 'z', 'A', 'B', 'C', 'D', 'E', 'F', 'G', 'H', 'I', 'J', 'K', 'L', 'M', 'N', 'O', 'P', 'Q', 'R', 'S', 'T', 'U', 'V', 'W', 'X', 'Y', 'Z', '0', '1', '2', '3', '4', '5', '6', '7', '8', '9', 'á', 'à', 'ả', 'ã', 'ạ', 'â', 'ấ', 'ầ', 'ẩ', 'ẫ', 'ậ', 'ă', 'ắ', 'ằ', 'ẳ', 'ẵ', 'ặ', 'ó', 'ò', 'ỏ', 'õ', 'ọ', 'ô', 'ố', 'ồ', 'ổ', 'ỗ', 'ộ', 'ơ', 'ớ', 'ờ', 'ở', 'ỡ', 'ợ', 'é', 'è', 'ẻ', 'ẽ', 'ẹ', 'ê', 'ế', 'ề', 'ể', 'ễ', 'ệ', 'ú', 'ù', 'ủ', 'ũ', 'ụ', 'ư', 'ứ', 'ừ', 'ử', 'ữ', 'ự', 'í', 'ì', 'ỉ', 'ĩ', 'ị', 'ý', 'ỳ', 'ỷ', 'ỹ', 'ỵ', 'đ', 'Á', 'À', 'Ả', 'Ã', 'Ạ', 'Â', 'Ấ', 'Ầ', 'Ẩ', 'Ẫ', 'Ậ', 'Ă', 'Ắ', 'Ằ', 'Ẳ', 'Ẵ', 'Ặ', 'Ó', 'Ò', 'Ỏ', 'Õ', 'Ọ', 'Ô', 'Ố', 'Ồ', 'Ổ', 'Ỗ', 'Ộ', 'Ơ', 'Ớ', 'Ờ', 'Ở', 'Ỡ', 'Ợ', 'É', 'È', 'Ẻ', 'Ẽ', 'Ẹ', 'Ê', 'Ế', 'Ề', 'Ể', 'Ễ', 'Ệ', 'Ú', 'Ù', 'Ủ', 'Ũ', 'Ụ', 'Ư', 'Ứ', 'Ừ', 'Ử', 'Ữ', 'Ự', 'Í', 'Ì', 'Ỉ', 'Ĩ', 'Ị', 'Ý', 'Ỳ', 'Ỷ', 'Ỹ', 'Ỵ', 'Đ']\n",
        "print(alphabet)\n",
        "print(len(alphabet))\n"
      ],
      "execution_count": null,
      "outputs": [
        {
          "output_type": "stream",
          "text": [
            "['\\x00', ' ', '_', 'a', 'b', 'c', 'd', 'e', 'f', 'g', 'h', 'i', 'j', 'k', 'l', 'm', 'n', 'o', 'p', 'q', 'r', 's', 't', 'u', 'v', 'w', 'x', 'y', 'z', 'A', 'B', 'C', 'D', 'E', 'F', 'G', 'H', 'I', 'J', 'K', 'L', 'M', 'N', 'O', 'P', 'Q', 'R', 'S', 'T', 'U', 'V', 'W', 'X', 'Y', 'Z', '0', '1', '2', '3', '4', '5', '6', '7', '8', '9', 'á', 'à', 'ả', 'ã', 'ạ', 'â', 'ấ', 'ầ', 'ẩ', 'ẫ', 'ậ', 'ă', 'ắ', 'ằ', 'ẳ', 'ẵ', 'ặ', 'ó', 'ò', 'ỏ', 'õ', 'ọ', 'ô', 'ố', 'ồ', 'ổ', 'ỗ', 'ộ', 'ơ', 'ớ', 'ờ', 'ở', 'ỡ', 'ợ', 'é', 'è', 'ẻ', 'ẽ', 'ẹ', 'ê', 'ế', 'ề', 'ể', 'ễ', 'ệ', 'ú', 'ù', 'ủ', 'ũ', 'ụ', 'ư', 'ứ', 'ừ', 'ử', 'ữ', 'ự', 'í', 'ì', 'ỉ', 'ĩ', 'ị', 'ý', 'ỳ', 'ỷ', 'ỹ', 'ỵ', 'đ', 'Á', 'À', 'Ả', 'Ã', 'Ạ', 'Â', 'Ấ', 'Ầ', 'Ẩ', 'Ẫ', 'Ậ', 'Ă', 'Ắ', 'Ằ', 'Ẳ', 'Ẵ', 'Ặ', 'Ó', 'Ò', 'Ỏ', 'Õ', 'Ọ', 'Ô', 'Ố', 'Ồ', 'Ổ', 'Ỗ', 'Ộ', 'Ơ', 'Ớ', 'Ờ', 'Ở', 'Ỡ', 'Ợ', 'É', 'È', 'Ẻ', 'Ẽ', 'Ẹ', 'Ê', 'Ế', 'Ề', 'Ể', 'Ễ', 'Ệ', 'Ú', 'Ù', 'Ủ', 'Ũ', 'Ụ', 'Ư', 'Ứ', 'Ừ', 'Ử', 'Ữ', 'Ự', 'Í', 'Ì', 'Ỉ', 'Ĩ', 'Ị', 'Ý', 'Ỳ', 'Ỷ', 'Ỹ', 'Ỵ', 'Đ']\n",
            "199\n"
          ],
          "name": "stdout"
        }
      ]
    },
    {
      "cell_type": "code",
      "metadata": {
        "id": "JtpgP3fJZmkM",
        "colab_type": "code",
        "colab": {}
      },
      "source": [
        "\n",
        "# So a 5-grams contain at most 7*5 = 35 character (except one that has spell mistake)\n",
        "# add \"\\x00\" padding at the end of 5-grams in order to equal their length\n",
        "\n",
        "MAXLEN = 40\n",
        "\n",
        "def encoder_data(text, maxlen=MAXLEN):\n",
        "        text = \"\\x00\" + text\n",
        "        x = np.zeros((maxlen, len(alphabet)))\n",
        "        for i, c in enumerate(text[:maxlen]):\n",
        "            x[i, alphabet.index(c)] = 1\n",
        "        if i < maxlen - 1:\n",
        "          for j in range(i+1, maxlen):\n",
        "            x[j, 0] = 1\n",
        "        return x\n",
        "      \n",
        "def decoder_data(x):\n",
        "    x = x.argmax(axis=-1)\n",
        "    return ''.join(alphabet[i] for i in x)\n"
      ],
      "execution_count": null,
      "outputs": []
    },
    {
      "cell_type": "code",
      "metadata": {
        "id": "krRXlgTIZtms",
        "colab_type": "code",
        "colab": {}
      },
      "source": [
        "# Build the neural network\n",
        "# this is adapted from the seq2seq architecture, which can be used for Machine Translation, Text Summarization Image Captioning ...\n",
        "from keras.models import Sequential\n",
        "from keras.layers import Activation, TimeDistributed, Dense,LSTM, Bidirectional\n",
        "from keras.callbacks import Callback, ModelCheckpoint, EarlyStopping\n",
        "from keras.optimizers import Adam\n",
        "import matplotlib.pyplot as plt\n"
      ],
      "execution_count": null,
      "outputs": []
    },
    {
      "cell_type": "code",
      "metadata": {
        "id": "puOccxt1539z",
        "colab_type": "code",
        "colab": {}
      },
      "source": [
        "encoder = LSTM(256, input_shape=(MAXLEN, len(alphabet)), return_sequences=True)\n"
      ],
      "execution_count": null,
      "outputs": []
    },
    {
      "cell_type": "code",
      "metadata": {
        "id": "U82riNor54_j",
        "colab_type": "code",
        "colab": {}
      },
      "source": [
        "decoder = Bidirectional(LSTM(256, return_sequences=True, dropout=0.3))"
      ],
      "execution_count": null,
      "outputs": []
    },
    {
      "cell_type": "code",
      "metadata": {
        "id": "HuM0ou0cZwzJ",
        "colab_type": "code",
        "colab": {}
      },
      "source": [
        "# model = load_model(\"./model/spell.h5\")\n",
        "# model._make_predict_function()\n",
        "model=Sequential()\n",
        "model.add(encoder)\n",
        "model.add(decoder)\n",
        "model.add(TimeDistributed(Dense(256)))\n",
        "model.add(Activation('relu'))\n",
        "model.add(TimeDistributed(Dense(len(alphabet))))\n",
        "model.add(Activation('softmax'))"
      ],
      "execution_count": null,
      "outputs": []
    },
    {
      "cell_type": "code",
      "metadata": {
        "id": "B7Pzeyn86MGg",
        "colab_type": "code",
        "colab": {
          "base_uri": "https://localhost:8080/",
          "height": 357
        },
        "outputId": "7b80d2ae-1d0d-4edc-ea35-02bf362a2689"
      },
      "source": [
        "model.compile(loss='categorical_crossentropy',\n",
        "              optimizer=Adam(lr=0.001),\n",
        "              metrics=['accuracy'])\n",
        "model.summary()"
      ],
      "execution_count": null,
      "outputs": [
        {
          "output_type": "stream",
          "text": [
            "Model: \"sequential_2\"\n",
            "_________________________________________________________________\n",
            "Layer (type)                 Output Shape              Param #   \n",
            "=================================================================\n",
            "lstm_1 (LSTM)                (None, 40, 256)           466944    \n",
            "_________________________________________________________________\n",
            "bidirectional_1 (Bidirection (None, 40, 512)           1050624   \n",
            "_________________________________________________________________\n",
            "time_distributed_3 (TimeDist (None, 40, 256)           131328    \n",
            "_________________________________________________________________\n",
            "activation_3 (Activation)    (None, 40, 256)           0         \n",
            "_________________________________________________________________\n",
            "time_distributed_4 (TimeDist (None, 40, 199)           51143     \n",
            "_________________________________________________________________\n",
            "activation_4 (Activation)    (None, 40, 199)           0         \n",
            "=================================================================\n",
            "Total params: 1,700,039\n",
            "Trainable params: 1,700,039\n",
            "Non-trainable params: 0\n",
            "_________________________________________________________________\n"
          ],
          "name": "stdout"
        }
      ]
    },
    {
      "cell_type": "code",
      "metadata": {
        "id": "e3uBykblZ5Oh",
        "colab_type": "code",
        "colab": {
          "base_uri": "https://localhost:8080/",
          "height": 661
        },
        "outputId": "17a54725-bde7-4800-afc6-420e2fff4f2e"
      },
      "source": [
        "from keras.utils import plot_model\n",
        "plot_model(model, to_file='model.png')\n"
      ],
      "execution_count": null,
      "outputs": [
        {
          "output_type": "execute_result",
          "data": {
            "image/png": "[encoded data removed]",
            "text/plain": [
              "<IPython.core.display.Image object>"
            ]
          },
          "metadata": {
            "tags": []
          },
          "execution_count": 95
        }
      ]
    },
    {
      "cell_type": "code",
      "metadata": {
        "id": "e1s3EV-nZ8YT",
        "colab_type": "code",
        "colab": {}
      },
      "source": [
        "from sklearn.model_selection import train_test_split\n",
        "train_data, valid_data = train_test_split(list_ngrams, test_size=0.2, random_state=42)"
      ],
      "execution_count": null,
      "outputs": []
    },
    {
      "cell_type": "code",
      "metadata": {
        "id": "Kv6s_FN4Z_CK",
        "colab_type": "code",
        "colab": {}
      },
      "source": [
        "train_data = [\"Đà Nẵng\"]\n",
        "valid_data = [\"Đà Nẵng\"]"
      ],
      "execution_count": null,
      "outputs": []
    },
    {
      "cell_type": "code",
      "metadata": {
        "id": "61oKyQIbaChg",
        "colab_type": "code",
        "colab": {}
      },
      "source": [
        "def generate_data(data, batch_size):\n",
        "  cur_index = 0\n",
        "  while True:\n",
        "      x, y = [], []\n",
        "      for i in range(batch_size):  \n",
        "          y.append(encoder_data(data[cur_index]))\n",
        "          x.append(encoder_data(add_noise(data[cur_index],0.94,0.985)))\n",
        "          cur_index += 1\n",
        "          if cur_index > len(data)-1:\n",
        "              cur_index = 0\n",
        "      yield np.array(x), np.array(y)\n",
        "\n",
        "# ============ CODE OK ==============\n",
        "# def generate_data_non_encode(data, batch_size):\n",
        "#     x, y = [], []\n",
        "#     cur_index = 0 \n",
        "#     while cur_index != batch_size:\n",
        "#           noise_text = add_noise(data[0],0.94,0.986)\n",
        "#           if (noise_text not in x) and (noise_text != data[0]):\n",
        "#                 y.append(data[0])\n",
        "#                 x.append(noise_text)\n",
        "#                 cur_index += 1\n",
        "#     return list(zip(x, y))\n",
        "\n",
        "\n",
        "# def generate_data_encode(data, batch_size):\n",
        "#       cur_index = 0\n",
        "#       while True:\n",
        "#           x, y = [], []\n",
        "#           for i in range(batch_size):  \n",
        "#               y.append(encoder_data(data[cur_index][1]))\n",
        "#               x.append(encoder_data(data[cur_index][0]))\n",
        "#               cur_index += 1\n",
        "#               if cur_index > len(data)-1:\n",
        "#                   cur_index = 0\n",
        "#           yield np.array(x), np.array(y)\n",
        "#===================================\n",
        "\n",
        "def generate_data_non_encode(data, batch_size):\n",
        "    x_non_decode, y_non_decode = [], []\n",
        "    for cur_index in range(0, len(data)):\n",
        "      batch_size_noise = 0\n",
        "      while batch_size_noise != batch_size:\n",
        "            noise_text = add_noise(data[cur_index],0.94,0.986)\n",
        "            if (noise_text not in x_non_decode) and (noise_text != data[cur_index]):\n",
        "                  y_non_decode.append(data[cur_index])\n",
        "                  x_non_decode.append(noise_text)\n",
        "                  batch_size_noise += 1\n",
        "    return list(zip(x_non_decode, y_non_decode))\n",
        "\n",
        "def generate_data_encode(data, batch_size):\n",
        "      cur_index = 0\n",
        "      while True:\n",
        "          x, y = [], []\n",
        "          for i in range(batch_size):  \n",
        "              y.append(encoder_data(data[cur_index][1]))\n",
        "              x.append(encoder_data(data[cur_index][0]))\n",
        "              cur_index += 1\n",
        "              if cur_index > len(data)-1:\n",
        "                  cur_index = 0\n",
        "          yield np.array(x), np.array(y)    "
      ],
      "execution_count": null,
      "outputs": []
    },
    {
      "cell_type": "code",
      "metadata": {
        "id": "_A3LK16UaXJ0",
        "colab_type": "code",
        "colab": {}
      },
      "source": [
        "import random\n",
        "BATCH_TRAIN_SIZE = 512\n",
        "BATCH_VALID_SIZE = 256\n",
        "# [\"Đà Nẵng\", \"Sơn Trà\", \"bệnh viện\", \"Hoàng Diệu\", \"Nguyễn Văn Linh\", \"Nhà Hàng\", \"Nguyễn Thái Học\", \"Khách sạn\", \"Ngũ Hành Sơn\", \"Đà Lạt\", \"Phạm Công Trứ\", \"Cửa hàng\", \"Hiệu thuốc\"\n",
        "# \"Bưu điện\", \"Tạp hóa\", \"Trần Đình Đàn\", \"Trần Thanh Mại\", \"Phan Thúc Duyện\", \"Nhà may\", \"Cây xăng\"]\n",
        "\n",
        "\n",
        "train_data = [\"Đà Nẵng\", \"Sơn Trà\", \"bệnh viện\", \"Hoàng Diệu\", \"Nguyễn Văn Linh\", \"Nhà Hàng\", \"Nguyễn Thái Học\", \"Khách sạn\", \"Ngũ Hành Sơn\"]\n",
        "valid_data = train_data\n",
        "# ==================== OK ===========\n",
        "train_non_encode = generate_data_non_encode(train_data, batch_size = BATCH_TRAIN_SIZE)\n",
        "validation_non_encode = generate_data_non_encode(valid_data, batch_size = BATCH_VALID_SIZE)\n",
        "random.shuffle(train_non_encode)\n",
        "random.shuffle(validation_non_encode)\n",
        "train_generator = generate_data_encode(train_non_encode, batch_size = BATCH_TRAIN_SIZE)\n",
        "validation_generator = generate_data_encode(validation_non_encode, batch_size = BATCH_VALID_SIZE)\n",
        "# ===================================\n",
        "\n",
        "\n",
        "# ==============================\n",
        "# train_generator = generate_data_noisy(train_data, batch_size=BATCH_SIZE)\n",
        "\n",
        "# train_generator = generate_data(train_data, batch_size=BATCH_TRAIN_SIZE)\n",
        "# validation_generator = generate_data(valid_data, batch_size=BATCH_VALID_SIZE)"
      ],
      "execution_count": null,
      "outputs": []
    },
    {
      "cell_type": "code",
      "metadata": {
        "id": "mpOei1zoMmPy",
        "colab_type": "code",
        "colab": {}
      },
      "source": [
        "random.shuffle(train_non_encode,random.random)"
      ],
      "execution_count": null,
      "outputs": []
    },
    {
      "cell_type": "code",
      "metadata": {
        "id": "RJueXf5Jz7mb",
        "colab_type": "code",
        "colab": {
          "base_uri": "https://localhost:8080/",
          "height": 54
        },
        "outputId": "93f10ece-4a9e-4d86-ede3-c67b58797889"
      },
      "source": [
        "print(train_non_encode)\n"
      ],
      "execution_count": null,
      "outputs": [
        {
          "output_type": "stream",
          "text": [
            "[('Hoàng Djeu', 'Hoàng Diệu'), ('bệnh vihn', 'bệnh viện'), ('nguyễn Tkái Học', 'Nguyễn Thái Học'), ('Ngubễn Văn Link', 'Nguyễn Văn Linh'), ('Nhà làn', 'Nhà Hàng'), ('Ngũ àHnh Xơn', 'Ngũ Hành Sơn'), ('Nguyen Tháj Học', 'Nguyễn Thái Học'), ('Đà Nang', 'Đà Nẵng'), ('Đaf Nẵeg', 'Đà Nẵng'), ('Đà Nẵog', 'Đà Nẵng'), ('Nhà Hafpg', 'Nhà Hàng'), ('Khach san', 'Khách sạn'), ('Sowu Trà', 'Sơn Trà'), ('Nhà càng', 'Nhà Hàng'), ('Hoàng nệu', 'Hoàng Diệu'), ('bệnx việ', 'bệnh viện'), ('Hoàn gDiệ', 'Hoàng Diệu'), ('Nguyễn thái Hok', 'Nguyễn Thái Học'), ('Hoang Giieu', 'Hoàng Diệu'), ('Khách sạc', 'Khách sạn'), ('bệnh vden', 'bệnh viện'), ('sách sạn', 'Khách sạn'), ('Kpách sạ', 'Khách sạn'), ('Nhà Hkng', 'Nhà Hàng'), ('Nguyễn Thasa Hok', 'Nguyễn Thái Học'), ('Nhà Hdng', 'Nhà Hàng'), ('Ngũ àhn Sơn', 'Ngũ Hành Sơn'), ('Nguyễn khái Học', 'Nguyễn Thái Học'), ('Khsch ạn', 'Khách sạn'), ('Ngũ rành Sơn', 'Ngũ Hành Sơn'), ('Hoyng Diệu', 'Hoàng Diệu'), ('Ngulễn Văn Linh', 'Nguyễn Văn Linh'), ('iháh sạn', 'Khách sạn'), ('Nguyễn Văn Nilh', 'Nguyễn Văn Linh'), ('Nguyễn Vin Linh', 'Nguyễn Văn Linh'), ('nguyễn Văn Ljnh', 'Nguyễn Văn Linh'), ('Nguyyn Thái Học', 'Nguyễn Thái Học'), ('Khasc hsạn', 'Khách sạn'), ('Ngũ Hành Xxn', 'Ngũ Hành Sơn'), ('Đaf Nnẵ', 'Đà Nẵng'), ('oHàng Giiệu', 'Hoàng Diệu'), ('woàn gDiệu', 'Hoàng Diệu'), ('Hoafnm Diệu', 'Hoàng Diệu'), ('Khách sln', 'Khách sạn'), ('pà Lẵng', 'Đà Nẵng'), ('Kdách sạn', 'Khách sạn'), ('Nũg Hànk Sơn', 'Ngũ Hành Sơn'), ('bệnk vvện', 'bệnh viện'), ('Khách stn', 'Khách sạn'), ('Nguyễn Tkiá Hok', 'Nguyễn Thái Học'), ('Nguyễq Thái Hok', 'Nguyễn Thái Học'), ('beejn việ', 'bệnh viện'), ('Khách xajy', 'Khách sạn'), ('Hàng Dnệu', 'Hoàng Diệu'), ('ơn Tr', 'Sơn Trà'), ('Sơn fr', 'Sơn Trà'), ('Nguyễn Thiá Hk', 'Nguyễn Thái Học'), ('uhách sạn', 'Khách sạn'), ('háck sạn', 'Khách sạn'), ('Nhà Hànl', 'Nhà Hàng'), ('Nhx Hàng', 'Nhà Hàng'), ('Nguyễn Ttái Ho', 'Nguyễn Thái Học'), ('pguyễn Thái Học', 'Nguyễn Thái Học'), ('Sơn Teaf', 'Sơn Trà'), ('Nhà Hzng', 'Nhà Hàng'), ('hhách sạn', 'Khách sạn'), ('Nguyeexn Văn Lieh', 'Nguyễn Văn Linh'), ('Ngũ Hank Sơn', 'Ngũ Hành Sơn'), ('Nguyễn Thái Hk', 'Nguyễn Thái Học'), ('Sown orà', 'Sơn Trà'), ('Nka Hàng', 'Nhà Hàng'), ('Đà Nawxmg', 'Đà Nẵng'), ('bệkn viện', 'bệnh viện'), ('Đà Nagn', 'Đà Nẵng'), ('Nhà wàna', 'Nhà Hàng'), ('Nguyễn Vhn Ninh', 'Nguyễn Văn Linh'), ('Đaf Nẵnz', 'Đà Nẵng'), ('Đà ẵn', 'Đà Nẵng'), ('Xfn Trà', 'Sơn Trà'), ('Ngũ Hàwh Sơn', 'Ngũ Hành Sơn'), ('Nguyễn Văn Livh', 'Nguyễn Văn Linh'), ('Nguyễn Tkái Hok', 'Nguyễn Thái Học'), ('Ddaf Nẵng', 'Đà Nẵng'), ('gNuyeexn Thái Học', 'Nguyễn Thái Học'), ('Hoafng Diu', 'Hoàng Diệu'), ('Hoàog Giiệu', 'Hoàng Diệu'), ('Hoàng xiệu', 'Hoàng Diệu'), ('oàvg Diệu', 'Hoàng Diệu'), ('Ngmyễn Thái Học', 'Nguyễn Thái Học'), ('Ngũ Hàvh Sơn', 'Ngũ Hành Sơn'), ('Sơn Cha', 'Sơn Trà'), ('Ngũ Hàk nơn', 'Ngũ Hành Sơn'), ('Khasch sajn', 'Khách sạn'), ('Xơv Trà', 'Sơn Trà'), ('Xơn Tgà', 'Sơn Trà'), ('bệnh vrện', 'bệnh viện'), ('Nguyễn Thni Học', 'Nguyễn Thái Học'), ('Ngũ Han hSơn', 'Ngũ Hành Sơn'), ('ghà Hàng', 'Nhà Hàng'), ('Nguyyn Van Linh', 'Nguyễn Văn Linh'), ('Ngũ Hanh Sơq', 'Ngũ Hành Sơn'), ('Son Trw', 'Sơn Trà'), ('Sơn Trq', 'Sơn Trà'), ('Khvch xạn', 'Khách sạn'), ('Nhà Hàtg', 'Nhà Hàng'), ('Sơn iraf', 'Sơn Trà'), ('Nguyn Thái Hoc', 'Nguyễn Thái Học'), ('Nguyeexn Táhi Học', 'Nguyễn Thái Học'), ('Đà Nawxni', 'Đà Nẵng'), ('hách san', 'Khách sạn'), ('bệnh việk', 'bệnh viện'), ('Ngũ Hàih Sơn', 'Ngũ Hành Sơn'), ('gũ Hnàh Sjn', 'Ngũ Hành Sơn'), ('Hoàng Dik', 'Hoàng Diệu'), ('Hlng Diệu', 'Hoàng Diệu'), ('Nh àHàgn', 'Nhà Hàng'), ('bệrh viện', 'bệnh viện'), ('Hoàng Dcệu', 'Hoàng Diệu'), ('Káhch xạn', 'Khách sạn'), ('Nàh Hang', 'Nhà Hàng'), ('Nguyễn Văe Linh', 'Nguyễn Văn Linh'), ('Khlrh sạn', 'Khách sạn'), ('bệnh vion', 'bệnh viện'), ('beejnh diện', 'bệnh viện'), ('beejnh vieejn', 'bệnh viện'), ('Nguyễn hái Hoc', 'Nguyễn Thái Học'), ('hKách xạn', 'Khách sạn'), ('Khjch sạ', 'Khách sạn'), ('Kháhh sạn', 'Khách sạn'), ('Hoàng Dệu', 'Hoàng Diệu'), ('bệnk iện', 'bệnh viện'), ('Nguyễ Vawn Lin', 'Nguyễn Văn Linh'), ('uơn Trà', 'Sơn Trà'), ('Nguyeexn Vawn Linh', 'Nguyễn Văn Linh'), ('Sơk Trà', 'Sơn Trà'), ('Nguyễ Tháj Hok', 'Nguyễn Thái Học'), ('Nguyễn Văn Lih', 'Nguyễn Văn Linh'), ('Hong iuệ', 'Hoàng Diệu'), ('Đà Nẵz', 'Đà Nẵng'), ('ihách sạn', 'Khách sạn'), ('Sơa Trà', 'Sơn Trà'), ('Hxàng Dieeju', 'Hoàng Diệu'), ('Khách ạsn', 'Khách sạn'), ('Sơx Ch', 'Sơn Trà'), ('Đà Lẵn', 'Đà Nẵng'), ('Sown Tra', 'Sơn Trà'), ('Ngũ Hynh Son', 'Ngũ Hành Sơn'), ('Ngqyễn Văn Linh', 'Nguyễn Văn Linh'), ('Khácy sạ', 'Khách sạn'), ('Nkà Hàgn', 'Nhà Hàng'), ('Kiách sạn', 'Khách sạn'), ('Nbuyễn Văn Linh', 'Nguyễn Văn Linh'), ('Nguyễn bhái Học', 'Nguyễn Thái Học'), ('Nguyeex Tkái Hok', 'Nguyễn Thái Học'), ('Ngũ Hành Sơh', 'Ngũ Hành Sơn'), ('Khcáh xạn', 'Khách sạn'), ('Khách sạq', 'Khách sạn'), ('Khách qạn', 'Khách sạn'), ('Hoafng Dieu', 'Hoàng Diệu'), ('Ngũ Hànr Sơn', 'Ngũ Hành Sơn'), ('Dda Lẵng', 'Đà Nẵng'), ('Sơn Tre', 'Sơn Trà'), ('Hoàg Dieu', 'Hoàng Diệu'), ('ahà Hàng', 'Nhà Hàng'), ('Đà aẵng', 'Đà Nẵng'), ('Khách aạ', 'Khách sạn'), ('Đà Nnẵ', 'Đà Nẵng'), ('Nkũ Hành Xơn', 'Ngũ Hành Sơn'), ('Nhz Hàng', 'Nhà Hàng'), ('Khác sajn', 'Khách sạn'), ('Sơ nChà', 'Sơn Trà'), ('Ngux Hànk Sơ', 'Ngũ Hành Sơn'), ('àĐ Nẵrg', 'Đà Nẵng'), ('Hàong Dieu', 'Hoàng Diệu'), ('Hoàng niệu', 'Hoàng Diệu'), ('Xơ Trà', 'Sơn Trà'), ('Ngũ Hành Scn', 'Ngũ Hành Sơn'), ('Ngs Hành Sơn', 'Ngũ Hành Sơn'), ('btnh viện', 'bệnh viện'), ('Hozng Diệu', 'Hoàng Diệu'), ('Ngũ bành Sown', 'Ngũ Hành Sơn'), ('Hgàng Diệu', 'Hoàng Diệu'), ('Ddà Nẵg', 'Đà Nẵng'), ('Khách sạk', 'Khách sạn'), ('Nhà Hank', 'Nhà Hàng'), ('Hoafng Djệu', 'Hoàng Diệu'), ('Đs Nẵng', 'Đà Nẵng'), ('Hoàng Dinu', 'Hoàng Diệu'), ('ehà Hagn', 'Nhà Hàng'), ('Đà Nawxn', 'Đà Nẵng'), ('Nguyễn Vă Linh', 'Nguyễn Văn Linh'), ('Đaf Nẵpg', 'Đà Nẵng'), ('bệnh vjệg', 'bệnh viện'), ('bệph viện', 'bệnh viện'), ('Đv Nẵng', 'Đà Nẵng'), ('Khách xan', 'Khách sạn'), ('koàng Diệ', 'Hoàng Diệu'), ('Nguiễn Thiá Học', 'Nguyễn Thái Học'), ('Spn Chà', 'Sơn Trà'), ('eà Nẵng', 'Đà Nẵng'), ('Hoànu Diệu', 'Hoàng Diệu'), ('Nhà gafng', 'Nhà Hàng'), ('Nqà Hàng', 'Nhà Hàng'), ('Nàh Hn', 'Nhà Hàng'), ('Kháh san', 'Khách sạn'), ('Nguyễn Văz Linh', 'Nguyễn Văn Linh'), ('Sơn brà', 'Sơn Trà'), ('Nhr Hàng', 'Nhà Hàng'), ('Naũ Hành Sơn', 'Ngũ Hành Sơn'), ('boàng Diệu', 'Hoàng Diệu'), ('Nguyễn Vawn Nin', 'Nguyễn Văn Linh'), ('jệnh vmện', 'bệnh viện'), ('Nhà Hàlg', 'Nhà Hàng'), ('Sơe Chà', 'Sơn Trà'), ('Honàg Die', 'Hoàng Diệu'), ('Nguynễ Văn yin', 'Nguyễn Văn Linh'), ('dơn Trà', 'Sơn Trà'), ('Nmà Hàng', 'Nhà Hàng'), ('Ngũ vàni Sơn', 'Ngũ Hành Sơn'), ('Đà fẵng', 'Đà Nẵng'), ('bệnh vqệp', 'bệnh viện'), ('zhà Hnàg', 'Nhà Hàng'), ('Nhà Hàog', 'Nhà Hàng'), ('Hoàng iuệ', 'Hoàng Diệu'), ('oàng Diệ', 'Hoàng Diệu'), ('Nguyễn Vawn Lin', 'Nguyễn Văn Linh'), ('Nguyễn Văn Liyh', 'Nguyễn Văn Linh'), ('Hoafng Giiệu', 'Hoàng Diệu'), ('Nguyễn Thái qọc', 'Nguyễn Thái Học'), ('Ngũ Hành Sơj', 'Ngũ Hành Sơn'), ('bệnz vinn', 'bệnh viện'), ('Nhaf àng', 'Nhà Hàng'), ('Hàng Diệu', 'Hoàng Diệu'), ('Sơv Traf', 'Sơn Trà'), ('noàng Dieeju', 'Hoàng Diệu'), ('Xơn rà', 'Sơn Trà'), ('Ncuyễn Tcái Học', 'Nguyễn Thái Học'), ('nguyễn Thái Học', 'Nguyễn Thái Học'), ('jệnk viện', 'bệnh viện'), ('Nguyen Tkái Hok', 'Nguyễn Thái Học'), ('Nguaeexn Văn Linh', 'Nguyễn Văn Linh'), ('Sw Trà', 'Sơn Trà'), ('mhách sạn', 'Khách sạn'), ('Đà Nẵne', 'Đà Nẵng'), ('Nuyeexn Văn Linh', 'Nguyễn Văn Linh'), ('Kuách sạn', 'Khách sạn'), ('ja Nẵng', 'Đà Nẵng'), ('Ddà Nẵnm', 'Đà Nẵng'), ('Nguyễn Văn Lnh', 'Nguyễn Văn Linh'), ('Nguyeexn hTái Huc', 'Nguyễn Thái Học'), ('Nguyễm Thái Học', 'Nguyễn Thái Học'), ('Nhà Hlfg', 'Nhà Hàng'), ('Ngux Hnh Sơ', 'Ngũ Hành Sơn'), ('Nà Hjng', 'Nhà Hàng'), ('Hong siệu', 'Hoàng Diệu'), ('Nhà Hàna', 'Nhà Hàng'), ('Hoàng Dệiu', 'Hoàng Diệu'), ('Đà mẵng', 'Đà Nẵng'), ('Nguyễn Tháj Hojc', 'Nguyễn Thái Học'), ('bệnu vjện', 'bệnh viện'), ('Đà qẵng', 'Đà Nẵng'), ('guyễn Thái Hok', 'Nguyễn Thái Học'), ('Khasck sạc', 'Khách sạn'), ('bệnh viz', 'bệnh viện'), ('bnệh vjện', 'bệnh viện'), ('Kháh sạn', 'Khách sạn'), ('Nguyễn vhái Họ', 'Nguyễn Thái Học'), ('Hoàng Dbeeju', 'Hoàng Diệu'), ('Hoàng oiệu', 'Hoàng Diệu'), ('Ngủ Hànk Sơn', 'Ngũ Hành Sơn'), ('bnệh vện', 'bệnh viện'), ('Đà ẵg', 'Đà Nẵng'), ('Nhà Hafnf', 'Nhà Hàng'), ('Naà Hang', 'Nhà Hàng'), ('Nuũ Hành Sơn', 'Ngũ Hành Sơn'), ('bệnk vinệ', 'bệnh viện'), ('Hoàg iDệu', 'Hoàng Diệu'), ('bệnh việm', 'bệnh viện'), ('Ng ũàHnh Sơn', 'Ngũ Hành Sơn'), ('Nguykn Văn Linh', 'Nguyễn Văn Linh'), ('Xơn Trr', 'Sơn Trà'), ('Nguypn Văn Linh', 'Nguyễn Văn Linh'), ('Khasc sạn', 'Khách sạn'), ('Ngũ Hàno Sơn', 'Ngũ Hành Sơn'), ('Dà Nawxng', 'Đà Nẵng'), ('Nkà oàng', 'Nhà Hàng'), ('hoàng Diệu', 'Hoàng Diệu'), ('Nhaf Hafn', 'Nhà Hàng'), ('Hlàng Diệu', 'Hoàng Diệu'), ('Khrch sạn', 'Khách sạn'), ('Khách ạc', 'Khách sạn'), ('Hoàng Dzệu', 'Hoàng Diệu'), ('Son xrà', 'Sơn Trà'), ('Ngw Hành Sơn', 'Ngũ Hành Sơn'), ('Ngnyễn Thái Học', 'Nguyễn Thái Học'), ('Nguyễn Tái ọHc', 'Nguyễn Thái Học'), ('Nhà Hàgg', 'Nhà Hàng'), ('hà Han', 'Nhà Hàng'), ('Ngũ Hhnh Son', 'Ngũ Hành Sơn'), ('Đp Nẵng', 'Đà Nẵng'), ('Nguyeexn Van Linh', 'Nguyễn Văn Linh'), ('Nhà Hgn', 'Nhà Hàng'), ('Nguyễn lăn Linh', 'Nguyễn Văn Linh'), ('Sơn yra', 'Sơn Trà'), ('gNũ Hàyk Sơn', 'Ngũ Hành Sơn'), ('Nhà Hàug', 'Nhà Hàng'), ('Nguyễn Vn Ninh', 'Nguyễn Văn Linh'), ('Sơn ra', 'Sơn Trà'), ('Nguyễn Văn Liuk', 'Nguyễn Văn Linh'), ('Nugễyn Văn Link', 'Nguyễn Văn Linh'), ('Nguyễn Thái Hoc', 'Nguyễn Thái Học'), ('hNà Hàsg', 'Nhà Hàng'), ('Sơn Trd', 'Sơn Trà'), ('Sơh Trà', 'Sơn Trà'), ('Sơs Trà', 'Sơn Trà'), ('Nguyzn ăVn Linh', 'Nguyễn Văn Linh'), ('Hpàng Diệu', 'Hoàng Diệu'), ('Hoàng Dieejz', 'Hoàng Diệu'), ('Hafng Diệu', 'Hoàng Diệu'), ('Nguyễn ăVn Linh', 'Nguyễn Văn Linh'), ('Hoafnp Dieeju', 'Hoàng Diệu'), ('Sơi phà', 'Sơn Trà'), ('aà Nẵng', 'Đà Nẵng'), ('Hoàng Dệi', 'Hoàng Diệu'), ('Khasch sin', 'Khách sạn'), ('bệnh vign', 'bệnh viện'), ('bn hviện', 'bệnh viện'), ('cguyễn Văn Linh', 'Nguyễn Văn Linh'), ('Khác ạn', 'Khách sạn'), ('Nguyeexn Thái Học', 'Nguyễn Thái Học'), ('Khách eạn', 'Khách sạn'), ('gNux Hành Sơn', 'Ngũ Hành Sơn'), ('bệnh vệp', 'bệnh viện'), ('Son vrà', 'Sơn Trà'), ('gNuyễn Vnn Linh', 'Nguyễn Văn Linh'), ('Xơn rTà', 'Sơn Trà'), ('Nguydn Văn Linh', 'Nguyễn Văn Linh'), ('Sơn Trn', 'Sơn Trà'), ('Nguyễn Van iLnh', 'Nguyễn Văn Linh'), ('Kách sajn', 'Khách sạn'), ('Kháck sn', 'Khách sạn'), ('Nguyễn Văn Nihn', 'Nguyễn Văn Linh'), ('Nguyxn Văn Linh', 'Nguyễn Văn Linh'), ('Nguyeexn Thasi Hok', 'Nguyễn Thái Học'), ('Khánh sạ', 'Khách sạn'), ('Ngũ Hành Sun', 'Ngũ Hành Sơn'), ('Đ àLẵng', 'Đà Nẵng'), ('Nguyễn Văn Lith', 'Nguyễn Văn Linh'), ('Sown Ta', 'Sơn Trà'), ('Đa Nng', 'Đà Nẵng'), ('Nguyễn dăn Linh', 'Nguyễn Văn Linh'), ('Nhà bàng', 'Nhà Hàng'), ('Kháco sạn', 'Khách sạn'), ('bệbh vieejn', 'bệnh viện'), ('Nguyễn xăn Linh', 'Nguyễn Văn Linh'), ('Ddà Nẵig', 'Đà Nẵng'), ('Ngũ Hànb Sơn', 'Ngũ Hành Sơn'), ('Khách sin', 'Khách sạn'), ('bệnh dieej', 'bệnh viện'), ('Xon Tà', 'Sơn Trà'), ('Khch xạn', 'Khách sạn'), ('Ng Hành Sn', 'Ngũ Hành Sơn'), ('Nguyễn Von Linh', 'Nguyễn Văn Linh'), ('Nhà màng', 'Nhà Hàng'), ('Hxàng Diệu', 'Hoàng Diệu'), ('Nguyễn wháj Hok', 'Nguyễn Thái Học'), ('Ddaf Lẵng', 'Đà Nẵng'), ('bệni viện', 'bệnh viện'), ('bcnh viện', 'bệnh viện'), ('Nguyễn Văn Likn', 'Nguyễn Văn Linh'), ('Xơn raf', 'Sơn Trà'), ('phách xạn', 'Khách sạn'), ('iguyễn Thái Học', 'Nguyễn Thái Học'), ('Khách yan', 'Khách sạn'), ('Nkà àHng', 'Nhà Hàng'), ('Nguyễn Văn Lcnh', 'Nguyễn Văn Linh'), ('Khác xạn', 'Khách sạn'), ('Nguyeexn Táhi Hok', 'Nguyễn Thái Học'), ('Ngũ Hafnh Sơe', 'Ngũ Hành Sơn'), ('Khxc sạn', 'Khách sạn'), ('pệnh viện', 'bệnh viện'), ('Khác san', 'Khách sạn'), ('Hoàng Diru', 'Hoàng Diệu'), ('Khálh sạn', 'Khách sạn'), ('Nguyễn Văn Ninh', 'Nguyễn Văn Linh'), ('Sơn Tra', 'Sơn Trà'), ('Nhe Hàng', 'Nhà Hàng'), ('Hoàgn Djệu', 'Hoàng Diệu'), ('Nguyễn rhái Hok', 'Nguyễn Thái Học'), ('Nguyễn Tháj Họ', 'Nguyễn Thái Học'), ('iơn Trà', 'Sơn Trà'), ('Đà eẵnd', 'Đà Nẵng'), ('Ngủ Hành Sơn', 'Ngũ Hành Sơn'), ('Nkà eàng', 'Nhà Hàng'), ('Nhà Hcng', 'Nhà Hàng'), ('Ngũ Hành Sơw', 'Ngũ Hành Sơn'), ('Ngũ Hànk Xơn', 'Ngũ Hành Sơn'), ('Ngyuễn Thái Hok', 'Nguyễn Thái Học'), ('Nguyễn Văn rinh', 'Nguyễn Văn Linh'), ('Hoàg Giiệu', 'Hoàng Diệu'), ('lhà Hàng', 'Nhà Hàng'), ('Đà pẵgg', 'Đà Nẵng'), ('Đà Nan', 'Đà Nẵng'), ('Hoàng Djeeju', 'Hoàng Diệu'), ('Ngũ Hnh Sơ', 'Ngũ Hành Sơn'), ('Sơn Tuà', 'Sơn Trà'), ('Đà Nawxyg', 'Đà Nẵng'), ('Khach sạt', 'Khách sạn'), ('Nguyễn Văn zinh', 'Nguyễn Văn Linh'), ('oơn Trà', 'Sơn Trà'), ('Nguqễn Thái Hok', 'Nguyễn Thái Học'), ('Nxà Hàng', 'Nhà Hàng'), ('Nguyễn Vn Lin', 'Nguyễn Văn Linh'), ('Ddà Nawxn', 'Đà Nẵng'), ('Kcáh sạn', 'Khách sạn'), ('Sơn tà', 'Sơn Trà'), ('oHàng Dệiu', 'Hoàng Diệu'), ('Ngupn Văn Linh', 'Nguyễn Văn Linh'), ('oàng Diu', 'Hoàng Diệu'), ('Đ Nẵng', 'Đà Nẵng'), ('Nhx Hàfg', 'Nhà Hàng'), ('Sơn lrà', 'Sơn Trà'), ('bệnh vieejc', 'bệnh viện'), ('xguyễn Văn inh', 'Nguyễn Văn Linh'), ('koàng Diệu', 'Hoàng Diệu'), ('gNuyễn Tháa Học', 'Nguyễn Thái Học'), ('Khck xạn', 'Khách sạn'), ('Đ àNang', 'Đà Nẵng'), ('Nguyễn ăVn inh', 'Nguyễn Văn Linh'), ('hách ạn', 'Khách sạn'), ('Đà iawxng', 'Đà Nẵng'), ('Nguyễn hasi Học', 'Nguyễn Thái Học'), ('Nhà iàng', 'Nhà Hàng'), ('Ngyễn Vă nLinh', 'Nguyễn Văn Linh'), ('Hoàng hiệ', 'Hoàng Diệu'), ('bệnh vệi', 'bệnh viện'), ('bệnp vien', 'bệnh viện'), ('Nguyễn Thái wọc', 'Nguyễn Thái Học'), ('Nguyễn Thaj Học', 'Nguyễn Thái Học'), ('feejnh viện', 'bệnh viện'), ('Ngũ Hành rơn', 'Ngũ Hành Sơn'), ('beejnh vikn', 'bệnh viện'), ('Hoàng Diệv', 'Hoàng Diệu'), ('Nvuyễn Văn Linh', 'Nguyễn Văn Linh'), ('Nguyễ nVăn Linh', 'Nguyễn Văn Linh'), ('Nguễn Văn Ninh', 'Nguyễn Văn Linh'), ('Đà ẵNnz', 'Đà Nẵng'), ('bệch vjện', 'bệnh viện'), ('Đo Nẵgn', 'Đà Nẵng'), ('Nguyễn Văn Li', 'Nguyễn Văn Linh'), ('Hoàng Ddệu', 'Hoàng Diệu'), ('Nguyễt Thái Hok', 'Nguyễn Thái Học'), ('Nguyen Van Lrnk', 'Nguyễn Văn Linh'), ('Nkà Hang', 'Nhà Hàng'), ('Nũ Hành Sơ', 'Ngũ Hành Sơn'), ('Hoàng Diệa', 'Hoàng Diệu'), ('Nguễyn Văn Lih', 'Nguyễn Văn Linh'), ('egũ Hành Sơn', 'Ngũ Hành Sơn'), ('Naà Hàng', 'Nhà Hàng'), ('Sơa Chà', 'Sơn Trà'), ('Nguyễn Vawn Linh', 'Nguyễn Văn Linh'), ('Nguễyn Thái Hoc', 'Nguyễn Thái Học'), ('Nguyễn Tái Họ', 'Nguyễn Thái Học'), ('Kháh sdn', 'Khách sạn'), ('Sơv Trà', 'Sơn Trà'), ('bệzh vieejn', 'bệnh viện'), ('Đa kẵng', 'Đà Nẵng'), ('kệnh viện', 'bệnh viện'), ('Ngũ Hàn Sơ', 'Ngũ Hành Sơn'), ('Nuyễ nVăn Linh', 'Nguyễn Văn Linh'), ('Nkà Hàgg', 'Nhà Hàng'), ('Khsch sạ', 'Khách sạn'), ('bệnh rjện', 'bệnh viện'), ('Nhà Hafgn', 'Nhà Hàng'), ('Nbuyễn Thái Học', 'Nguyễn Thái Học'), ('Swc Trà', 'Sơn Trà'), ('Hoàng Dieejr', 'Hoàng Diệu'), ('enh việ', 'bệnh viện'), ('Hoàng jệu', 'Hoàng Diệu'), ('Nguyễn Taái Học', 'Nguyễn Thái Học'), ('Ngũ àHhn Sơn', 'Ngũ Hành Sơn'), ('Xen Trà', 'Sơn Trà'), ('Sơn Taf', 'Sơn Trà'), ('Nguyễn Thji Học', 'Nguyễn Thái Học'), ('Khách xajn', 'Khách sạn'), ('fhách sạn', 'Khách sạn'), ('Ngũ Hànq Sơn', 'Ngũ Hành Sơn'), ('pệnk viện', 'bệnh viện'), ('bnệ hviện', 'bệnh viện'), ('Đaf Nẵn', 'Đà Nẵng'), ('Nguyễn Văf Linh', 'Nguyễn Văn Linh'), ('Hzàng Diệu', 'Hoàng Diệu'), ('oHang Diệu', 'Hoàng Diệu'), ('Khách sfn', 'Khách sạn'), ('Đaf hẵng', 'Đà Nẵng'), ('Ddb Nẵng', 'Đà Nẵng'), ('Sơn rk', 'Sơn Trà'), ('bện vien', 'bệnh viện'), ('Nkà Hnng', 'Nhà Hàng'), ('Nhà Hàcg', 'Nhà Hàng'), ('Đaf Nẵnh', 'Đà Nẵng'), ('Hnnàg Dieu', 'Hoàng Diệu'), ('Dà ẵng', 'Đà Nẵng'), ('Ddaf Nẵnl', 'Đà Nẵng'), ('Hoànx Diệu', 'Hoàng Diệu'), ('vhu Hàng', 'Nhà Hàng'), ('Ngzyễn Văn Linh', 'Nguyễn Văn Linh'), ('Daf Nẵn', 'Đà Nẵng'), ('Nguyễn Thui Học', 'Nguyễn Thái Học'), ('Nguyễn Thái gok', 'Nguyễn Thái Học'), ('Nguyễp Văn Link', 'Nguyễn Văn Linh'), ('Khácd sạn', 'Khách sạn'), ('Kháwh sạ', 'Khách sạn'), ('Kjáhc sạn', 'Khách sạn'), ('Nguyễn Thái Họz', 'Nguyễn Thái Học'), ('Khácv xạn', 'Khách sạn'), ('Ngsyễn Thái Học', 'Nguyễn Thái Học'), ('Khách wạn', 'Khách sạn'), ('Nhaf tàng', 'Nhà Hàng'), ('bệnh kiện', 'bệnh viện'), ('Khck sạn', 'Khách sạn'), ('benh iiện', 'bệnh viện'), ('Nguyen Tái Học', 'Nguyễn Thái Học'), ('Nluyễn Thái Học', 'Nguyễn Thái Học'), ('Kháhc snạ', 'Khách sạn'), ('Hoang iệu', 'Hoàng Diệu'), ('nệnk vjện', 'bệnh viện'), ('Nguyễn Thzi Học', 'Nguyễn Thái Học'), ('Kálh sạn', 'Khách sạn'), ('Nguyễn Vun Lin', 'Nguyễn Văn Linh'), ('Nguynễ Văn Ninh', 'Nguyễn Văn Linh'), ('Sơn Tr', 'Sơn Trà'), ('Nkc Hàng', 'Nhà Hàng'), ('àĐ ẵng', 'Đà Nẵng'), ('Đà Nẵs', 'Đà Nẵng'), ('Nũ Hành Sn', 'Ngũ Hành Sơn'), ('Nguyễn wăn Linh', 'Nguyễn Văn Linh'), ('Khách tạn', 'Khách sạn'), ('Nguyễn Tkasi Hok', 'Nguyễn Thái Học'), ('guyễn Tkái Hok', 'Nguyễn Thái Học'), ('Ng ũHành Sơ', 'Ngũ Hành Sơn'), ('Nhy Hafng', 'Nhà Hàng'), ('Sơ nTrà', 'Sơn Trà'), ('bdnk viện', 'bệnh viện'), ('Nguyễn Văn kihh', 'Nguyễn Văn Linh'), ('Đa gng', 'Đà Nẵng'), ('Nhaf Han', 'Nhà Hàng'), ('Nguyễn hTái aọc', 'Nguyễn Thái Học'), ('Nguyễn hTái Học', 'Nguyễn Thái Học'), ('beejn hviện', 'bệnh viện'), ('Dà ẵNng', 'Đà Nẵng'), ('Sơn Chm', 'Sơn Trà'), ('bệnh vidn', 'bệnh viện'), ('Hoàng Diiu', 'Hoàng Diệu'), ('Nwũ Hành Sơn', 'Ngũ Hành Sơn'), ('Nguyễn Vn iLnh', 'Nguyễn Văn Linh'), ('Nguyễn Thái fok', 'Nguyễn Thái Học'), ('Ngeyễn Văn Linh', 'Nguyễn Văn Linh'), ('Hoànw Diệu', 'Hoàng Diệu'), ('Ndũ Hznk Sơn', 'Ngũ Hành Sơn'), ('Nrà Hàn', 'Nhà Hàng'), ('Sown Trc', 'Sơn Trà'), ('bệnu vieejn', 'bệnh viện'), ('hasch sạn', 'Khách sạn'), ('Ngm Hành Xơn', 'Ngũ Hành Sơn'), ('Kháah sạn', 'Khách sạn'), ('Nguyeexn Văd Linh', 'Nguyễn Văn Linh'), ('Ngũ aành Sơn', 'Ngũ Hành Sơn'), ('yhà Hàng', 'Nhà Hàng'), ('rhách sạn', 'Khách sạn'), ('Hoànd Diệu', 'Hoàng Diệu'), ('Đà Lzng', 'Đà Nẵng'), ('Nguyễt Thái Học', 'Nguyễn Thái Học'), ('Xơb Trà', 'Sơn Trà'), ('Đà pẵng', 'Đà Nẵng'), ('bxnh vjện', 'bệnh viện'), ('Noà Hàng', 'Nhà Hàng'), ('bệkh viện', 'bệnh viện'), ('Nguyễn Thgi Học', 'Nguyễn Thái Học'), ('Nguyeexn Văn Ljnh', 'Nguyễn Văn Linh'), ('Nguyễn pawn Linh', 'Nguyễn Văn Linh'), ('Sơy Traf', 'Sơn Trà'), ('Kcáh san', 'Khách sạn'), ('Hoànz Dieeju', 'Hoàng Diệu'), ('bệnk ivện', 'bệnh viện'), ('Dà Nẵgn', 'Đà Nẵng'), ('Hoàng tiệu', 'Hoàng Diệu'), ('Khách hạn', 'Khách sạn'), ('Nhà Hafnd', 'Nhà Hàng'), ('shà Hàng', 'Nhà Hàng'), ('Sơf Traf', 'Sơn Trà'), ('Ngugễn Thái Học', 'Nguyễn Thái Học'), ('Nguen Thái Học', 'Nguyễn Thái Học'), ('Nuuyễn Thái Học', 'Nguyễn Thái Học'), ('Khach ạn', 'Khách sạn'), ('Nguyeexn Văn iLnh', 'Nguyễn Văn Linh'), ('jhasch ạsn', 'Khách sạn'), ('Hoàog Djệu', 'Hoàng Diệu'), ('Ngũ kành Sơn', 'Ngũ Hành Sơn'), ('Nguyễn Tháj Hok', 'Nguyễn Thái Học'), ('eguyễn Tkái Học', 'Nguyễn Thái Học'), ('Nguyễ nThái Hok', 'Nguyễn Thái Học'), ('Nhaf vàng', 'Nhà Hàng'), ('Nhx àng', 'Nhà Hàng'), ('Ngũ Hành Sob', 'Ngũ Hành Sơn'), ('benh vệin', 'bệnh viện'), ('bệnh vaện', 'bệnh viện'), ('Đà Nẵjg', 'Đà Nẵng'), ('Đaf Nawxng', 'Đà Nẵng'), ('kgũ Hành Sơn', 'Ngũ Hành Sơn'), ('Khpch xạn', 'Khách sạn'), ('hNà Hang', 'Nhà Hàng'), ('Khasch szn', 'Khách sạn'), ('Đ ẵng', 'Đà Nẵng'), ('Khách sạb', 'Khách sạn'), ('Hoàgn Dệi', 'Hoàng Diệu'), ('hKáhc sạ', 'Khách sạn'), ('Sbn Trà', 'Sơn Trà'), ('Nguyễn Vn inh', 'Nguyễn Văn Linh'), ('Sơn Caf', 'Sơn Trà'), ('Nhà àHgn', 'Nhà Hàng'), ('pơ Trà', 'Sơn Trà'), ('Skn Trg', 'Sơn Trà'), ('bệkh vieejn', 'bệnh viện'), ('Nguyễ nVan Ljnh', 'Nguyễn Văn Linh'), ('Khasch dạn', 'Khách sạn'), ('Đaf Nnẵg', 'Đà Nẵng'), ('bệnh vian', 'bệnh viện'), ('Hoàlg Diệu', 'Hoàng Diệu'), ('Đà Nẵyg', 'Đà Nẵng'), ('Nguễs Thái Hok', 'Nguyễn Thái Học'), ('bệnk việ', 'bệnh viện'), ('Nguyjn Văn Ninh', 'Nguyễn Văn Linh'), ('Nguyn Thá Hok', 'Nguyễn Thái Học'), ('Hoàng ieeju', 'Hoàng Diệu'), ('Kháck cạn', 'Khách sạn'), ('Hoàig Diệu', 'Hoàng Diệu'), ('Nguyễn Thi Hk', 'Nguyễn Thái Học'), ('beejnk viện', 'bệnh viện'), ('Son Tà', 'Sơn Trà'), ('beejnh vin', 'bệnh viện'), ('Nguyễn Vyn Linh', 'Nguyễn Văn Linh'), ('Nguyễn Thiá Học', 'Nguyễn Thái Học'), ('Xbn Trà', 'Sơn Trà'), ('Nguyeexn Tái Học', 'Nguyễn Thái Học'), ('Nguyễn Văn Lynh', 'Nguyễn Văn Linh'), ('Đà Nawxfg', 'Đà Nẵng'), ('bện hvinệ', 'bệnh viện'), ('ehách sạn', 'Khách sạn'), ('Đe Nẵng', 'Đà Nẵng'), ('Đà ẵNng', 'Đà Nẵng'), ('Ngayễn Thái Hok', 'Nguyễn Thái Học'), ('Nguyễx Tkái Học', 'Nguyễn Thái Học'), ('Hoafng Djệ', 'Hoàng Diệu'), ('bệnh ven', 'bệnh viện'), ('Sơn rl', 'Sơn Trà'), ('Dda Nẵng', 'Đà Nẵng'), ('So Trà', 'Sơn Trà'), ('Dà Nẵnw', 'Đà Nẵng'), ('Sơn Tmà', 'Sơn Trà'), ('Khácj sạn', 'Khách sạn'), ('Sn Traf', 'Sơn Trà'), ('Nhà Hsng', 'Nhà Hàng'), ('bệnk vin', 'bệnh viện'), ('Nguqễn Táu Họ', 'Nguyễn Thái Học'), ('Nnyễn Văn Link', 'Nguyễn Văn Linh'), ('Ngũ Hnnh Sơn', 'Ngũ Hành Sơn'), ('Ngũ Hàzh Sơn', 'Ngũ Hành Sơn'), ('benh ivện', 'bệnh viện'), ('Ngũ Hànk Snơ', 'Ngũ Hành Sơn'), ('bệna viện', 'bệnh viện'), ('bệhn vieejn', 'bệnh viện'), ('gNuyễn Thki Học', 'Nguyễn Thái Học'), ('Nguyễn Tkai Ho', 'Nguyễn Thái Học'), ('kguyễn Thái Học', 'Nguyễn Thái Học'), ('Nguyen Thái Hk', 'Nguyễn Thái Học'), ('Dà Nfn', 'Đà Nẵng'), ('Sn rà', 'Sơn Trà'), ('mà Nawxng', 'Đà Nẵng'), ('Kháth sạn', 'Khách sạn'), ('jhách sạn', 'Khách sạn'), ('Ngũ Hành Xon', 'Ngũ Hành Sơn'), ('Khách sa', 'Khách sạn'), ('bệph vjện', 'bệnh viện'), ('Đà Nawxnn', 'Đà Nẵng'), ('Nguễn Thli Hc', 'Nguyễn Thái Học'), ('à Nẵn', 'Đà Nẵng'), ('Kháah sạp', 'Khách sạn'), ('Sjn Trà', 'Sơn Trà'), ('Klách xạn', 'Khách sạn'), ('Ngũ Hàn hSơ', 'Ngũ Hành Sơn'), ('Ng Hhn Sơn', 'Ngũ Hành Sơn'), ('Đj Nẵng', 'Đà Nẵng'), ('bơn Trà', 'Sơn Trà'), ('Ngễn Văn Linh', 'Nguyễn Văn Linh'), ('Sown Tnà', 'Sơn Trà'), ('Sgn Tra', 'Sơn Trà'), ('Khách xgn', 'Khách sạn'), ('Nvà Hàng', 'Nhà Hàng'), ('Ddn Nẵng', 'Đà Nẵng'), ('gơn Trà', 'Sơn Trà'), ('Hoàng Diyu', 'Hoàng Diệu'), ('Ngũ Hanh Sown', 'Ngũ Hành Sơn'), ('Nruyễn Thái Học', 'Nguyễn Thái Học'), ('Nuyễn Vzn Linh', 'Nguyễn Văn Linh'), ('Son Càh', 'Sơn Trà'), ('Sn Tsà', 'Sơn Trà'), ('beejn vện', 'bệnh viện'), ('Hoafng Die', 'Hoàng Diệu'), ('Kháih sajn', 'Khách sạn'), ('ệbnh vjện', 'bệnh viện'), ('Khacd sạn', 'Khách sạn'), ('Ngũ Hnà Sơn', 'Ngũ Hành Sơn'), ('Ncuyễn Thái Học', 'Nguyễn Thái Học'), ('sệnh viện', 'bệnh viện'), ('Nhà Hànj', 'Nhà Hàng'), ('hệnh viện', 'bệnh viện'), ('khà Hàgn', 'Nhà Hàng'), ('koang piệu', 'Hoàng Diệu'), ('fhà Hàng', 'Nhà Hàng'), ('Nguyễn Vă nNinh', 'Nguyễn Văn Linh'), ('Đà Nẵnt', 'Đà Nẵng'), ('bệnk vjen', 'bệnh viện'), ('Nguyễn whái Học', 'Nguyễn Thái Học'), ('Hoanr Diệu', 'Hoàng Diệu'), ('Đà Ntng', 'Đà Nẵng'), ('Hodng Diệu', 'Hoàng Diệu'), ('ệnh vien', 'bệnh viện'), ('Sơn srà', 'Sơn Trà'), ('gNũ Hành Sown', 'Ngũ Hành Sơn'), ('Nguyễ nTkái Hok', 'Nguyễn Thái Học'), ('Nhà xing', 'Nhà Hàng'), ('Dh Nẵng', 'Đà Nẵng'), ('bệnh việs', 'bệnh viện'), ('Hoànb Dieej', 'Hoàng Diệu'), ('Ngyễn Văn Ninh', 'Nguyễn Văn Linh'), ('Ngũ Hàdh Sơ', 'Ngũ Hành Sơn'), ('bệnk việe', 'bệnh viện'), ('Sơn Thà', 'Sơn Trà'), ('Đà Lawxn', 'Đà Nẵng'), ('Hoàng iệ', 'Hoàng Diệu'), ('Khách aạn', 'Khách sạn'), ('saf Nẵng', 'Đà Nẵng'), ('Nugyễn Thái ọHc', 'Nguyễn Thái Học'), ('Nhà Hafug', 'Nhà Hàng'), ('bệnh njện', 'bệnh viện'), ('Horng Diệu', 'Hoàng Diệu'), ('Ngũ Hafh Sơn', 'Ngũ Hành Sơn'), ('Hoàng Duệu', 'Hoàng Diệu'), ('Hoàny Diệu', 'Hoàng Diệu'), ('Xơa Trà', 'Sơn Trà'), ('tơn Trà', 'Sơn Trà'), ('Ngũ ành Sơ', 'Ngũ Hành Sơn'), ('sgũ Hành Sơn', 'Ngũ Hành Sơn'), ('Snơ Traf', 'Sơn Trà'), ('Nguyễn Vă iLnh', 'Nguyễn Văn Linh'), ('Ngz Hành Sơn', 'Ngũ Hành Sơn'), ('Hoàng Dnệu', 'Hoàng Diệu'), ('ơSn Traf', 'Sơn Trà'), ('Nyuyễn Thái Học', 'Nguyễn Thái Học'), ('Khach xạn', 'Khách sạn'), ('bệw viện', 'bệnh viện'), ('Niaf Hàng', 'Nhà Hàng'), ('Ssn Trà', 'Sơn Trà'), ('Đà Nẵeg', 'Đà Nẵng'), ('Ngũ Hnàh Sown', 'Ngũ Hành Sơn'), ('Nkaf Hàn', 'Nhà Hàng'), ('bệnh vizn', 'bệnh viện'), ('bệnh giện', 'bệnh viện'), ('Hoàng Giiệb', 'Hoàng Diệu'), ('zhà Hàng', 'Nhà Hàng'), ('Hoàng Djeej', 'Hoàng Diệu'), ('bệnh vi', 'bệnh viện'), ('Keách sajn', 'Khách sạn'), ('Ngũ Hành Shn', 'Ngũ Hành Sơn'), ('banh vjện', 'bệnh viện'), ('Nguyễn Văs Lin', 'Nguyễn Văn Linh'), ('Nhà zàng', 'Nhà Hàng'), ('bệnh vbện', 'bệnh viện'), ('Ngũ Hànk Sơ', 'Ngũ Hành Sơn'), ('Sdn Trà', 'Sơn Trà'), ('Nguybn Văn Linh', 'Nguyễn Văn Linh'), ('Khágh sạn', 'Khách sạn'), ('Đaf pẵng', 'Đà Nẵng'), ('Hoàng Did', 'Hoàng Diệu'), ('Nwaf Hàng', 'Nhà Hàng'), ('Nguyễn Thai Hko', 'Nguyễn Thái Học'), ('beejnk vsện', 'bệnh viện'), ('Nhà Hànu', 'Nhà Hàng'), ('Nguyễn hTái Hok', 'Nguyễn Thái Học'), ('Hoàng Diqu', 'Hoàng Diệu'), ('Nhà Hung', 'Nhà Hàng'), ('Khách sn', 'Khách sạn'), ('Khlch sajn', 'Khách sạn'), ('à Nẵgn', 'Đà Nẵng'), ('Hfàng Dệiu', 'Hoàng Diệu'), ('Khasch sn', 'Khách sạn'), ('yơn Trà', 'Sơn Trà'), ('Honàg Giiệu', 'Hoàng Diệu'), ('Son Tàr', 'Sơn Trà'), ('Noà Hafng', 'Nhà Hàng'), ('Nguyễn Vxn Lin', 'Nguyễn Văn Linh'), ('ơn rTà', 'Sơn Trà'), ('bệnh vzện', 'bệnh viện'), ('Nguyeexn ăVn Linh', 'Nguyễn Văn Linh'), ('Hoàn Giiệ', 'Hoàng Diệu'), ('Hdàng Diệ', 'Hoàng Diệu'), ('Nguyễn Văn Lznh', 'Nguyễn Văn Linh'), ('gNuyễn Thái Hok', 'Nguyễn Thái Học'), ('Sơn rà', 'Sơn Trà'), ('Nguyễn Văn Nvnh', 'Nguyễn Văn Linh'), ('Ngũ Hàhn Sơn', 'Ngũ Hành Sơn'), ('Nguyn ăVn Linh', 'Nguyễn Văn Linh'), ('Nguyen Tái Hok', 'Nguyễn Thái Học'), ('Nhi Hàgn', 'Nhà Hàng'), ('Hoàng fiệu', 'Hoàng Diệu'), ('Khuch sạn', 'Khách sạn'), ('Đaf Nẵnc', 'Đà Nẵng'), ('Hoàng Diệe', 'Hoàng Diệu'), ('Nguễyn Thá iHọc', 'Nguyễn Thái Học'), ('Ngũ Hành Sơa', 'Ngũ Hành Sơn'), ('àĐ xẵng', 'Đà Nẵng'), ('Khách ạsm', 'Khách sạn'), ('Hoafng Diệ', 'Hoàng Diệu'), ('Nguyễn Văn tinh', 'Nguyễn Văn Linh'), ('Ngyuễn Văn Linh', 'Nguyễn Văn Linh'), ('Xơs Trà', 'Sơn Trà'), ('bệnh viyn', 'bệnh viện'), ('Son Chà', 'Sơn Trà'), ('Hoàng Giiu', 'Hoàng Diệu'), ('Sơn khà', 'Sơn Trà'), ('ệnh vệin', 'bệnh viện'), ('Snơ Tra', 'Sơn Trà'), ('jệnh vieejn', 'bệnh viện'), ('Đb Nẵng', 'Đà Nẵng'), ('Đà iẵng', 'Đà Nẵng'), ('gũ Hành Son', 'Ngũ Hành Sơn'), ('Nguễyn Thái iọc', 'Nguyễn Thái Học'), ('Đà Nẵni', 'Đà Nẵng'), ('Nugyn Thái Học', 'Nguyễn Thái Học'), ('Xơn Tlà', 'Sơn Trà'), ('thách xạn', 'Khách sạn'), ('Nrà Hàng', 'Nhà Hàng'), ('Nvũ Hành Sơn', 'Ngũ Hành Sơn'), ('Sơg rTà', 'Sơn Trà'), ('Khách rn', 'Khách sạn'), ('Nhà Hànt', 'Nhà Hàng'), ('Ngũ Hafnh Sơz', 'Ngũ Hành Sơn'), ('Nmuoễn Văn Linh', 'Nguyễn Văn Linh'), ('àĐ Ljng', 'Đà Nẵng'), ('Nguyễn Tcai Học', 'Nguyễn Thái Học'), ('gguyễn Thái Học', 'Nguyễn Thái Học'), ('Ngủ Hành Sn', 'Ngũ Hành Sơn'), ('Nguyeexn Tháj Hok', 'Nguyễn Thái Học'), ('Nht Hàng', 'Nhà Hàng'), ('Ngũ Hanh Son', 'Ngũ Hành Sơn'), ('gNuễn Thái Hok', 'Nguyễn Thái Học'), ('Nguyễn Vă nLink', 'Nguyễn Văn Linh'), ('Đà Nawxug', 'Đà Nẵng'), ('Hvàng Diệ', 'Hoàng Diệu'), ('Nguễn Văn Linh', 'Nguyễn Văn Linh'), ('Nguyễn Vawn Link', 'Nguyễn Văn Linh'), ('Nguyễv Thái Học', 'Nguyễn Thái Học'), ('cà Nẵng', 'Đà Nẵng'), ('bệck viện', 'bệnh viện'), ('Nguyễn Thái Hojc', 'Nguyễn Thái Học'), ('Nha àng', 'Nhà Hàng'), ('Sơn Try', 'Sơn Trà'), ('gà Nẵng', 'Đà Nẵng'), ('Ng Hafnh Sơn', 'Ngũ Hành Sơn'), ('Khách vạn', 'Khách sạn'), ('Nha Hàg', 'Nhà Hàng'), ('Đ àNawxng', 'Đà Nẵng'), ('Sơz Trà', 'Sơn Trà'), ('Nguễyn Văn Linh', 'Nguyễn Văn Linh'), ('Heàng Diệu', 'Hoàng Diệu'), ('Ngũ Hành Xơs', 'Ngũ Hành Sơn'), ('Nguyễn Thái qoc', 'Nguyễn Thái Học'), ('Hoafng Deệu', 'Hoàng Diệu'), ('Sơn wry', 'Sơn Trà'), ('Hoàno Diệu', 'Hoàng Diệu'), ('Hoon Diệu', 'Hoàng Diệu'), ('Nhà àng', 'Nhà Hàng'), ('Đy Lẵng', 'Đà Nẵng'), ('Hoing Diệu', 'Hoàng Diệu'), ('Nguyễn Văn Lnih', 'Nguyễn Văn Linh'), ('Nhq Hang', 'Nhà Hàng'), ('own Traf', 'Sơn Trà'), ('Sơm Traf', 'Sơn Trà'), ('hguynễ Văn Linh', 'Nguyễn Văn Linh'), ('Ngux Hafnh Sơn', 'Ngũ Hành Sơn'), ('Kháck snạ', 'Khách sạn'), ('Khák sạn', 'Khách sạn'), ('Nguyễn zhái Học', 'Nguyễn Thái Học'), ('Khajh sạn', 'Khách sạn'), ('Ngũ Hành vơn', 'Ngũ Hành Sơn'), ('à Nng', 'Đà Nẵng'), ('Ngũ Hành Sơc', 'Ngũ Hành Sơn'), ('Đà Nhng', 'Đà Nẵng'), ('yà Nẵn', 'Đà Nẵng'), ('Nhà Hbn', 'Nhà Hàng'), ('wơn Trà', 'Sơn Trà'), ('bwnh ivn', 'bệnh viện'), ('bknh vjện', 'bệnh viện'), ('Xjn Trà', 'Sơn Trà'), ('Khách sjn', 'Khách sạn'), ('Đ àNẵg', 'Đà Nẵng'), ('beejnk vjện', 'bệnh viện'), ('Đu Nẵng', 'Đà Nẵng'), ('Nàh màng', 'Nhà Hàng'), ('àĐ Nẵgn', 'Đà Nẵng'), ('Kháph snạ', 'Khách sạn'), ('xgũ Hành Sơn', 'Ngũ Hành Sơn'), ('Nk Hàng', 'Nhà Hàng'), ('gNuyễ Thái Học', 'Nguyễn Thái Học'), ('cệnh viện', 'bệnh viện'), ('gh àHàn', 'Nhà Hàng'), ('Naf Hàng', 'Nhà Hàng'), ('Ngũ Hànw Sơn', 'Ngũ Hành Sơn'), ('Đà Nẵnq', 'Đà Nẵng'), ('Swn Trà', 'Sơn Trà'), ('rgũ Hành Sơn', 'Ngũ Hành Sơn'), ('ệnh viện', 'bệnh viện'), ('Ngũ Hàdh ơn', 'Ngũ Hành Sơn'), ('Đà Nsng', 'Đà Nẵng'), ('aơn Tra', 'Sơn Trà'), ('Khách sạf', 'Khách sạn'), ('Khách mạn', 'Khách sạn'), ('iguyễn Văn Linh', 'Nguyễn Văn Linh'), ('Xơn Tà', 'Sơn Trà'), ('Nhà Hang', 'Nhà Hàng'), ('dhách sạn', 'Khách sạn'), ('bnnh viện', 'bệnh viện'), ('Ngũ Hànk Sơn', 'Ngũ Hành Sơn'), ('Đà Ln', 'Đà Nẵng'), ('Đà Nans', 'Đà Nẵng'), ('Hoafg Diệu', 'Hoàng Diệu'), ('Ngvyễn Văn Linh', 'Nguyễn Văn Linh'), ('kguyễn Văn Ninh', 'Nguyễn Văn Linh'), ('Nguyễn Ven Linh', 'Nguyễn Văn Linh'), ('bệnh biện', 'bệnh viện'), ('baf Nẵo', 'Đà Nẵng'), ('Đà Lẵgg', 'Đà Nẵng'), ('Hoàeg Diệu', 'Hoàng Diệu'), ('blnh viện', 'bệnh viện'), ('ệnh vieejn', 'bệnh viện'), ('Đà Nẵtg', 'Đà Nẵng'), ('Khácc xạn', 'Khách sạn'), ('Nkà Hàg', 'Nhà Hàng'), ('Ngủ Hành Xơn', 'Ngũ Hành Sơn'), ('Ngũ Hành Sln', 'Ngũ Hành Sơn'), ('dn Trà', 'Sơn Trà'), ('Đm Nẵng', 'Đà Nẵng'), ('Đà wawxng', 'Đà Nẵng'), ('Nduyễn Thái Học', 'Nguyễn Thái Học'), ('Nhà Hlng', 'Nhà Hàng'), ('Nhà Hàl', 'Nhà Hàng'), ('Nguyễn qăn Linh', 'Nguyễn Văn Linh'), ('Khasch sln', 'Khách sạn'), ('Ngnyễn Thái Ho', 'Nguyễn Thái Học'), ('Hoàng Daệu', 'Hoàng Diệu'), ('Nguyen Văn Lihn', 'Nguyễn Văn Linh'), ('oàng iiệu', 'Hoàng Diệu'), ('Ngủ ành Sơn', 'Ngũ Hành Sơn'), ('nơ Trà', 'Sơn Trà'), ('bệnh iiện', 'bệnh viện'), ('bệjh viện', 'bệnh viện'), ('Nka Hàn', 'Nhà Hàng'), ('Khasca sạn', 'Khách sạn'), ('Honàg Diu', 'Hoàng Diệu'), ('Nguyễp Tfái jojc', 'Nguyễn Thái Học'), ('Nguyễn Thá Hoc', 'Nguyễn Thái Học'), ('Khch snạ', 'Khách sạn'), ('Kháih sạn', 'Khách sạn'), ('Sown Chaf', 'Sơn Trà'), ('Nhà Haxg', 'Nhà Hàng'), ('Đà lẵng', 'Đà Nẵng'), ('ơSn Tà', 'Sơn Trà'), ('Hoàng Dvệu', 'Hoàng Diệu'), ('Hoanb Diệu', 'Hoàng Diệu'), ('hNà Hàng', 'Nhà Hàng'), ('Đa Nẵnv', 'Đà Nẵng'), ('Dda iẵng', 'Đà Nẵng'), ('Ngcyen Văn Link', 'Nguyễn Văn Linh'), ('Sowc Trà', 'Sơn Trà'), ('Khach xạ', 'Khách sạn'), ('bệnh jiện', 'bệnh viện'), ('Ngkyễn Thái Hok', 'Nguyễn Thái Học'), ('Đ àNẵnk', 'Đà Nẵng'), ('Sơn crà', 'Sơn Trà'), ('Ngũ Hàn hSown', 'Ngũ Hành Sơn'), ('Hoàng siệu', 'Hoàng Diệu'), ('bệnu viện', 'bệnh viện'), ('Hoàng Dhệu', 'Hoàng Diệu'), ('Hoàne biệu', 'Hoàng Diệu'), ('Hoàvs Diệu', 'Hoàng Diệu'), ('Nhy Hafn', 'Nhà Hàng'), ('Hoàng Djuệ', 'Hoàng Diệu'), ('bnh vie', 'bệnh viện'), ('Nhà Hànm', 'Nhà Hàng'), ('bệnh vitn', 'bệnh viện'), ('Nguyễc Văn Link', 'Nguyễn Văn Linh'), ('lgũ Hành Sơn', 'Ngũ Hành Sơn'), ('Nguyễn Van Lin', 'Nguyễn Văn Linh'), ('Khach sajn', 'Khách sạn'), ('cệnh vitn', 'bệnh viện'), ('Káhch sạn', 'Khách sạn'), ('bà Nẵng', 'Đà Nẵng'), ('ơn Tàr', 'Sơn Trà'), ('Kfách sạn', 'Khách sạn'), ('bệkn việ', 'bệnh viện'), ('bệny vjệ', 'bệnh viện'), ('shách sạn', 'Khách sạn'), ('gNũ Hanh Sơn', 'Ngũ Hành Sơn'), ('Nhà Hà', 'Nhà Hàng'), ('Nguyễn Văn Ligh', 'Nguyễn Văn Linh'), ('Ngyueexn Thasi Học', 'Nguyễn Thái Học'), ('xhà Hàng', 'Nhà Hàng'), ('Nvà Hàn', 'Nhà Hàng'), ('Ngũ Hàhn Snơ', 'Ngũ Hành Sơn'), ('bệnh vknệ', 'bệnh viện'), ('Nhà Hvng', 'Nhà Hàng'), ('Ngũ Hành Xnơ', 'Ngũ Hành Sơn'), ('ohách sạ', 'Khách sạn'), ('Đà Nẵv', 'Đà Nẵng'), ('Nhà Hànz', 'Nhà Hàng'), ('Sơn Tgà', 'Sơn Trà'), ('coàng Diệu', 'Hoàng Diệu'), ('kgũ Hành Xơn', 'Ngũ Hành Sơn'), ('bệnh việj', 'bệnh viện'), ('Sơn graf', 'Sơn Trà'), ('Sn Tr', 'Sơn Trà'), ('Nha Hàgn', 'Nhà Hàng'), ('Kháca mạn', 'Khách sạn'), ('Hoàyg Diệu', 'Hoàng Diệu'), ('Nguyễr Văn Linh', 'Nguyễn Văn Linh'), ('Nhg Hàng', 'Nhà Hàng'), ('Ddr Nẵng', 'Đà Nẵng'), ('Neà Hàng', 'Nhà Hàng'), ('Ngũ Hàh Sơ', 'Ngũ Hành Sơn'), ('Khác ksạn', 'Khách sạn'), ('Nkà Hng', 'Nhà Hàng'), ('Đà Npng', 'Đà Nẵng'), ('Hlàng Giiệu', 'Hoàng Diệu'), ('Sơk rTà', 'Sơn Trà'), ('Đà Nẵwg', 'Đà Nẵng'), ('Nguiễn Thái Học', 'Nguyễn Thái Học'), ('Kháqh sạn', 'Khách sạn'), ('Ngũ Hành ơn', 'Ngũ Hành Sơn'), ('Nhà Hnàh', 'Nhà Hàng'), ('Ngũ tành Sơn', 'Ngũ Hành Sơn'), ('bệ viện', 'bệnh viện'), ('bệnh jện', 'bệnh viện'), ('Srn Chà', 'Sơn Trà'), ('Đà lẵn', 'Đà Nẵng'), ('Ngũ Hành Xn', 'Ngũ Hành Sơn'), ('Đaf Nẵng', 'Đà Nẵng'), ('tơn Traf', 'Sơn Trà'), ('Nh Hàng', 'Nhà Hàng'), ('Ngũ Hàgh Sơ', 'Ngũ Hành Sơn'), ('Ngũ bành Sơn', 'Ngũ Hành Sơn'), ('Khácz sạn', 'Khách sạn'), ('Ddà Nẵtg', 'Đà Nẵng'), ('Nh ààHng', 'Nhà Hàng'), ('Đ Lẵng', 'Đà Nẵng'), ('beejni viện', 'bệnh viện'), ('bệnk vjnệ', 'bệnh viện'), ('Đà Ntn', 'Đà Nẵng'), ('Nguyễn bhái Hok', 'Nguyễn Thái Học'), ('Ngũ Hành qơn', 'Ngũ Hành Sơn'), ('Đà Nẵl', 'Đà Nẵng'), ('Nguyen Thái Hod', 'Nguyễn Thái Học'), ('Nguyễp Thái Hok', 'Nguyễn Thái Học'), ('N àHàng', 'Nhà Hàng'), ('Nguiễn Văn Linh', 'Nguyễn Văn Linh'), ('Nguyễn văn inh', 'Nguyễn Văn Linh'), ('vong iDệu', 'Hoàng Diệu'), ('Khack sạ', 'Khách sạn'), ('Nha Hnng', 'Nhà Hàng'), ('Sơn zrà', 'Sơn Trà'), ('bpnk viện', 'bệnh viện'), ('Sown Teà', 'Sơn Trà'), ('Nhà Hafny', 'Nhà Hàng'), ('Ngux Hành Sơ', 'Ngũ Hành Sơn'), ('Nhà Hagn', 'Nhà Hàng'), ('Ngũ Hafnh Xjn', 'Ngũ Hành Sơn'), ('ệbnh viện', 'bệnh viện'), ('Sơn Ch', 'Sơn Trà'), ('bệnh vjen', 'bệnh viện'), ('Hoàng Dibu', 'Hoàng Diệu'), ('Ntà Hàng', 'Nhà Hàng'), ('Ngũ Hành Snơ', 'Ngũ Hành Sơn'), ('Nguễn Văn Lihn', 'Nguyễn Văn Linh'), ('Hobng Diệ', 'Hoàng Diệu'), ('Khách snạ', 'Khách sạn'), ('Hàong Djệu', 'Hoàng Diệu'), ('Nhà àHng', 'Nhà Hàng'), ('Kháuh sạn', 'Khách sạn'), ('Nguyễd Thái Học', 'Nguyễn Thái Học'), ('Hoafna Diệu', 'Hoàng Diệu'), ('Ngũ dành Sơn', 'Ngũ Hành Sơn'), ('Nqũ Hành Sơn', 'Ngũ Hành Sơn'), ('Xơn Tbà', 'Sơn Trà'), ('Nguyễn Thái Hop', 'Nguyễn Thái Học'), ('Ngũ Hàbh Sơn', 'Ngũ Hành Sơn'), ('Khsch sạn', 'Khách sạn'), ('Ngqyễn Thái Học', 'Nguyễn Thái Học'), ('Khács sạn', 'Khách sạn'), ('Đà ẵNg', 'Đà Nẵng'), ('Nguynễ săn Linh', 'Nguyễn Văn Linh'), ('lgủ Hành Sơn', 'Ngũ Hành Sơn'), ('Hoeng Diệu', 'Hoàng Diệu'), ('Nguyễn Vin Ninh', 'Nguyễn Văn Linh'), ('Nguễn Tháj Hok', 'Nguyễn Thái Học'), ('jhách pạn', 'Khách sạn'), ('Đà Nẵnp', 'Đà Nẵng'), ('Hong Djệu', 'Hoàng Diệu'), ('Kkách sa', 'Khách sạn'), ('guyễn Văn Ljnh', 'Nguyễn Văn Linh'), ('tà Nẵn', 'Đà Nẵng'), ('Hoànj Giiệ', 'Hoàng Diệu'), ('gNũ Hành Xơn', 'Ngũ Hành Sơn'), ('aệnh việ', 'bệnh viện'), ('Đà Nẵny', 'Đà Nẵng'), ('Kháh sn', 'Khách sạn'), ('Nguyễn Thái Hxc', 'Nguyễn Thái Học'), ('Nguyễn ghái Học', 'Nguyễn Thái Học'), ('Hoàng Diệb', 'Hoàng Diệu'), ('Kxách xạn', 'Khách sạn'), ('Nguyễn Tkai Hok', 'Nguyễn Thái Học'), ('Nka àng', 'Nhà Hàng'), ('Hoàng Dlệu', 'Hoàng Diệu'), ('Ngũ Hnk Sơn', 'Ngũ Hành Sơn'), ('Nguyễn Tpái Hok', 'Nguyễn Thái Học'), ('hNà Hafng', 'Nhà Hàng'), ('àĐ Ndng', 'Đà Nẵng'), ('Nhà pàng', 'Nhà Hàng'), ('bệnk việc', 'bệnh viện'), ('hNà Hàg', 'Nhà Hàng'), ('Hoàng ziệu', 'Hoàng Diệu'), ('zà Nẵng', 'Đà Nẵng'), ('Nhà Hnng', 'Nhà Hàng'), ('Sun Trà', 'Sơn Trà'), ('Nguyeexn Văn Liqh', 'Nguyễn Văn Linh'), ('Kháh sajn', 'Khách sạn'), ('Keách sạn', 'Khách sạn'), ('Nguyeexn Thái Ho', 'Nguyễn Thái Học'), ('shà Hafng', 'Nhà Hàng'), ('hác hsạn', 'Khách sạn'), ('Sơn prà', 'Sơn Trà'), ('zoàng Diệu', 'Hoàng Diệu'), ('Sown rà', 'Sơn Trà'), ('pơn Chà', 'Sơn Trà'), ('Nhà àHn', 'Nhà Hàng'), ('Hoàng biệu', 'Hoàng Diệu'), ('Sxn Trà', 'Sơn Trà'), ('Nguywn Văn Linh', 'Nguyễn Văn Linh'), ('Ngũ Hàeh Sơn', 'Ngũ Hành Sơn'), ('Nhm Hàn', 'Nhà Hàng'), ('Đà Nlng', 'Đà Nẵng'), ('Nge Hành Sơn', 'Ngũ Hành Sơn'), ('oHàng Diệu', 'Hoàng Diệu'), ('bệih viện', 'bệnh viện'), ('Ngi Hành Xơn', 'Ngũ Hành Sơn'), ('Hoàng Diou', 'Hoàng Diệu'), ('Nhc Hàng', 'Nhà Hàng'), ('hơn Trà', 'Sơn Trà'), ('Đ Npng', 'Đà Nẵng'), ('hKáck xn', 'Khách sạn'), ('Ngũ Hafnh Sơ', 'Ngũ Hành Sơn'), ('Khpch sạn', 'Khách sạn'), ('Nhà Hànc', 'Nhà Hàng'), ('bệnh vieejn', 'bệnh viện'), ('Ddà Nẵfg', 'Đà Nẵng'), ('Ngũ Hanh Xown', 'Ngũ Hành Sơn'), ('bệnh vijn', 'bệnh viện'), ('Sơn Tga', 'Sơn Trà'), ('Xon Trà', 'Sơn Trà'), ('Hoàng Dieejk', 'Hoàng Diệu'), ('Hàong Didu', 'Hoàng Diệu'), ('Đn Nẵng', 'Đà Nẵng'), ('Nguyễn Thái Hok', 'Nguyễn Thái Học'), ('Đx Nẵng', 'Đà Nẵng'), ('Nguyln Thái Hok', 'Nguyễn Thái Học'), ('Nuễyn Vawn Linh', 'Nguyễn Văn Linh'), ('Ngux Hành Son', 'Ngũ Hành Sơn'), ('Xơu Trà', 'Sơn Trà'), ('Nguyễn Tkái Hoc', 'Nguyễn Thái Học'), ('bệnh vpện', 'bệnh viện'), ('Nnuyễn Văn Lnih', 'Nguyễn Văn Linh'), ('Hoàn gDrệu', 'Hoàng Diệu'), ('bện vệin', 'bệnh viện'), ('bnệh vệin', 'bệnh viện'), ('Xơg Trà', 'Sơn Trà'), ('bệnh vieejh', 'bệnh viện'), ('Nguyễn Thjv Học', 'Nguyễn Thái Học'), ('Khácc sạn', 'Khách sạn'), ('Nguyễn Thi Hou', 'Nguyễn Thái Học'), ('Kcách ạsn', 'Khách sạn'), ('zơn Trà', 'Sơn Trà'), ('bệnh vjdn', 'bệnh viện'), ('Ngũ Hành aon', 'Ngũ Hành Sơn'), ('Kvách sạn', 'Khách sạn'), ('Nhà Hàgn', 'Nhà Hàng'), ('Đà Ncn', 'Đà Nẵng'), ('Sơn Taà', 'Sơn Trà'), ('Đaf Ning', 'Đà Nẵng'), ('beejnh vjnệ', 'bệnh viện'), ('Nguyễn Van Lnih', 'Nguyễn Văn Linh'), ('Hoàng Giiệv', 'Hoàng Diệu'), ('à Nnẵg', 'Đà Nẵng'), ('Sơn Csà', 'Sơn Trà'), ('Khách sun', 'Khách sạn'), ('ehà Hàog', 'Nhà Hàng'), ('ngũ Hành Sơn', 'Ngũ Hành Sơn'), ('Nguyễn Vvn Linh', 'Nguyễn Văn Linh'), ('Sơn Trt', 'Sơn Trà'), ('Nguyễ nVăn Ninh', 'Nguyễn Văn Linh'), ('Khách sạt', 'Khách sạn'), ('Sơx Traf', 'Sơn Trà'), ('Sơn Cvà', 'Sơn Trà'), ('Nrũ Hành Sơn', 'Ngũ Hành Sơn'), ('ệbnh việ', 'bệnh viện'), ('Nhà Hong', 'Nhà Hàng'), ('Kaách sạn', 'Khách sạn'), ('Ngũ Hành Sơl', 'Ngũ Hành Sơn'), ('Sown lrà', 'Sơn Trà'), ('Nguyễn Văn Lini', 'Nguyễn Văn Linh'), ('Nguyễn Văn Lilh', 'Nguyễn Văn Linh'), ('Koáck san', 'Khách sạn'), ('Nggyễn Thái Hok', 'Nguyễn Thái Học'), ('ơSn Trà', 'Sơn Trà'), ('Nhà Hing', 'Nhà Hàng'), ('Hoàgg Diệu', 'Hoàng Diệu'), ('Nsà Hàn', 'Nhà Hàng'), ('Hoàng Didu', 'Hoàng Diệu'), ('bệnh vjyn', 'bệnh viện'), ('own Trà', 'Sơn Trà'), ('Nuyễn Văn Ninh', 'Nguyễn Văn Linh'), ('Sơn à', 'Sơn Trà'), ('Nguyễn Thái How', 'Nguyễn Thái Học'), ('Đà Ncgn', 'Đà Nẵng'), ('Dd Nẵng', 'Đà Nẵng'), ('vhà Hàng', 'Nhà Hàng'), ('Nhaf màng', 'Nhà Hàng'), ('xown Trà', 'Sơn Trà'), ('Nguyen Vnă Linh', 'Nguyễn Văn Linh'), ('Nguễn Văn Link', 'Nguyễn Văn Linh'), ('Ngũ qành Sơn', 'Ngũ Hành Sơn'), ('Hoàn Diệ', 'Hoàng Diệu'), ('Khácb sạn', 'Khách sạn'), ('Nguễn Thái Học', 'Nguyễn Thái Học'), ('Khávh sạn', 'Khách sạn'), ('Khánh sạn', 'Khách sạn'), ('Ngũ Hànk Sown', 'Ngũ Hành Sơn'), ('Syn Trà', 'Sơn Trà'), ('Nhn Hàng', 'Nhà Hàng'), ('bệnb kiện', 'bệnh viện'), ('Ngũ Hành Sow', 'Ngũ Hành Sơn'), ('Sơn C', 'Sơn Trà'), ('beejnh viện', 'bệnh viện'), ('Xoo Trà', 'Sơn Trà'), ('Nguyen Van Linh', 'Nguyễn Văn Linh'), ('Ngũ ank Sơn', 'Ngũ Hành Sơn'), ('Nhaf Hàig', 'Nhà Hàng'), ('bệnh vweejn', 'bệnh viện'), ('Nhà nàng', 'Nhà Hàng'), ('Sơn Chw', 'Sơn Trà'), ('Kháh ạsn', 'Khách sạn'), ('Nhà àHnj', 'Nhà Hàng'), ('af Nng', 'Đà Nẵng'), ('Nguynễ Văn Linh', 'Nguyễn Văn Linh'), ('Khdch sạn', 'Khách sạn'), ('bệnh vlện', 'bệnh viện'), ('Kbách sạn', 'Khách sạn'), ('Hoàng Dzệ', 'Hoàng Diệu'), ('Nguyn Thái Hojc', 'Nguyễn Thái Học'), ('Spn Trà', 'Sơn Trà'), ('Ngl Hành Sơn', 'Ngũ Hành Sơn'), ('Knách sạn', 'Khách sạn'), ('bệnc viện', 'bệnh viện'), ('Nha Hkng', 'Nhà Hàng'), ('Son Tuà', 'Sơn Trà'), ('Nguyeexn Văn Ninh', 'Nguyễn Văn Linh'), ('Đà Nẵnh', 'Đà Nẵng'), ('Sơn ira', 'Sơn Trà'), ('Nguyễn Thasi ok', 'Nguyễn Thái Học'), ('Đà Ngng', 'Đà Nẵng'), ('oHàng Diệ', 'Hoàng Diệu'), ('Ngũ ành Xơn', 'Ngũ Hành Sơn'), ('Nhà Hnàx', 'Nhà Hàng'), ('Nhà Hbg', 'Nhà Hàng'), ('Hoàng Djệ', 'Hoàng Diệu'), ('Đa Lẵng', 'Đà Nẵng'), ('qhà Hàng', 'Nhà Hàng'), ('guyễn Thá Học', 'Nguyễn Thái Học'), ('Nguyhn Văn Linh', 'Nguyễn Văn Linh'), ('rà Nẵng', 'Đà Nẵng'), ('Đn Lẵng', 'Đà Nẵng'), ('Hfàng Diệu', 'Hoàng Diệu'), ('bpnk việ', 'bệnh viện'), ('Nguyễn Thái Hmc', 'Nguyễn Thái Học'), ('zguyễn Văn Linh', 'Nguyễn Văn Linh'), ('bbnh việ', 'bệnh viện'), ('Ngyuễn Thái Học', 'Nguyễn Thái Học'), ('Nhy Hàng', 'Nhà Hàng'), ('Nguyễn Thai Hok', 'Nguyễn Thái Học'), ('Ngũ Hàne Sơv', 'Ngũ Hành Sơn'), ('Nguyễn Tkáj Hok', 'Nguyễn Thái Học'), ('ơSn wrà', 'Sơn Trà'), ('Ngi Hành Sơn', 'Ngũ Hành Sơn'), ('Dà sẵng', 'Đà Nẵng'), ('Nhà Hàeg', 'Nhà Hàng'), ('Đà nẵn', 'Đà Nẵng'), ('bệnh việp', 'bệnh viện'), ('Ngũ Hành Sen', 'Ngũ Hành Sơn'), ('Hoàng Drệu', 'Hoàng Diệu'), ('Ddaf Ning', 'Đà Nẵng'), ('Nà Hàgn', 'Nhà Hàng'), ('Kháuk sn', 'Khách sạn'), ('Sơt prà', 'Sơn Trà'), ('Khách san', 'Khách sạn'), ('Son Tkà', 'Sơn Trà'), ('Ngà Hàng', 'Nhà Hàng'), ('Nhf Hàng', 'Nhà Hàng'), ('Kháh sạ', 'Khách sạn'), ('Khách rạn', 'Khách sạn'), ('Kdáce sạn', 'Khách sạn'), ('bệnh vjnệ', 'bệnh viện'), ('Khákh sạn', 'Khách sạn'), ('Nguyen hasi Học', 'Nguyễn Thái Học'), ('Đaf Nng', 'Đà Nẵng'), ('Nguyễn Vnă Link', 'Nguyễn Văn Linh'), ('bệnk djệ', 'bệnh viện'), ('Nhà Hàyg', 'Nhà Hàng'), ('Ngqyễn Van Linh', 'Nguyễn Văn Linh'), ('Khásh sạn', 'Khách sạn'), ('Hoafng Dệu', 'Hoàng Diệu'), ('Ddà mẵng', 'Đà Nẵng'), ('Hoàng Diệf', 'Hoàng Diệu'), ('Nguyln Văn Linh', 'Nguyễn Văn Linh'), ('Nhà Hafnb', 'Nhà Hàng'), ('Nguyễn Thái Hox', 'Nguyễn Thái Học'), ('kơn Trà', 'Sơn Trà'), ('bonh viện', 'bệnh viện'), ('Ddq Nẵng', 'Đà Nẵng'), ('Ngupễn Văn Linh', 'Nguyễn Văn Linh'), ('Nguyễn Văn Lirh', 'Nguyễn Văn Linh'), ('Hoàng Diệd', 'Hoàng Diệu'), ('Nuyễn Tkái Hk', 'Nguyễn Thái Học'), ('Nguyễn Thaj Hok', 'Nguyễn Thái Học'), ('Sơ nTraf', 'Sơn Trà'), ('Nguyễn Văn Linz', 'Nguyễn Văn Linh'), ('Đà Lan', 'Đà Nẵng'), ('Nka àHng', 'Nhà Hàng'), ('Khách sạm', 'Khách sạn'), ('Snơ Trk', 'Sơn Trà'), ('Ngũ Hành Sdn', 'Ngũ Hành Sơn'), ('Ngũ yành Sơn', 'Ngũ Hành Sơn'), ('ơn Traf', 'Sơn Trà'), ('Homng Diệu', 'Hoàng Diệu'), ('Nguyễn Văn pinh', 'Nguyễn Văn Linh'), ('benk vjện', 'bệnh viện'), ('Ddt Nẵng', 'Đà Nẵng'), ('bệrh vệin', 'bệnh viện'), ('Đà iẵn', 'Đà Nẵng'), ('Khách sạy', 'Khách sạn'), ('Nhaf Hg', 'Nhà Hàng'), ('wơn Chà', 'Sơn Trà'), ('Nguyễn Văn Lijh', 'Nguyễn Văn Linh'), ('Nguymn Văn Linh', 'Nguyễn Văn Linh'), ('Đà Lẵmg', 'Đà Nẵng'), ('Đà ang', 'Đà Nẵng'), ('Nguyễz Văn Link', 'Nguyễn Văn Linh'), ('Sơn Twà', 'Sơn Trà'), ('Khábh sạ', 'Khách sạn'), ('Sơi Tàr', 'Sơn Trà'), ('Nguyrn Văn Ninh', 'Nguyễn Văn Linh'), ('a Nẵng', 'Đà Nẵng'), ('Nguyun Văn Linh', 'Nguyễn Văn Linh'), ('Xơn Chà', 'Sơn Trà'), ('Ngyễn Văn pinh', 'Nguyễn Văn Linh'), ('Ngh Hành Sơn', 'Ngũ Hành Sơn'), ('Njà Hàng', 'Nhà Hàng'), ('benh iệ', 'bệnh viện'), ('rhách sạ', 'Khách sạn'), ('Hoàng qiệu', 'Hoàng Diệu'), ('Ngũ Hbnh Sơn', 'Ngũ Hành Sơn'), ('Hoàng yiệu', 'Hoàng Diệu'), ('Neũ Hành Sơn', 'Ngũ Hành Sơn'), ('Ngũ anh Sơn', 'Ngũ Hành Sơn'), ('Nhà Hànp', 'Nhà Hàng'), ('Ngux Hbnh Sơn', 'Ngũ Hành Sơn'), ('bguyễn Văn Link', 'Nguyễn Văn Linh'), ('Ngũ Hafnk Sơn', 'Ngũ Hành Sơn'), ('Sơ nTrc', 'Sơn Trà'), ('bệqh việ', 'bệnh viện'), ('Nggyễn Thái Học', 'Nguyễn Thái Học'), ('Sơl Trà', 'Sơn Trà'), ('bệnh viqn', 'bệnh viện'), ('Hoàns Diệu', 'Hoàng Diệu'), ('Ngũ Hàkh Sơn', 'Ngũ Hành Sơn'), ('Nguyễn Văn Lix', 'Nguyễn Văn Linh'), ('Nguyễn Tháj Học', 'Nguyễn Thái Học'), ('Nguyễn Thá iHoc', 'Nguyễn Thái Học'), ('Nguyễn Văn ginh', 'Nguyễn Văn Linh'), ('Nh Hafng', 'Nhà Hàng'), ('Khách sạd', 'Khách sạn'), ('Kházh ạsn', 'Khách sạn'), ('Nguyễn aăn Linh', 'Nguyễn Văn Linh'), ('ơSn Tàr', 'Sơn Trà'), ('Nguyễn Thá Ho', 'Nguyễn Thái Học'), ('Nhà Hn', 'Nhà Hàng'), ('Nuyễn Thái Hk', 'Nguyễn Thái Học'), ('Nguyễn Tká Hok', 'Nguyễn Thái Học'), ('Khfch sạ', 'Khách sạn'), ('Sơ nTaf', 'Sơn Trà'), ('Nhà Hàod', 'Nhà Hàng'), ('Ngũ Hdnh Sơn', 'Ngũ Hành Sơn'), ('Hoàvg Diệu', 'Hoàng Diệu'), ('Đw ẵng', 'Đà Nẵng'), ('Nfà Hàfg', 'Nhà Hàng'), ('bệnh vivn', 'bệnh viện'), ('Đ Nang', 'Đà Nẵng'), ('Ngũ ành ơn', 'Ngũ Hành Sơn'), ('binh viện', 'bệnh viện'), ('Sơn Trj', 'Sơn Trà'), ('Ngũ Hành Xow', 'Ngũ Hành Sơn'), ('Nfuyễn Văn Linh', 'Nguyễn Văn Linh'), ('Nguyn Văn Ljnh', 'Nguyễn Văn Linh'), ('Khasch spn', 'Khách sạn'), ('Ngũ Hàoh Sơn', 'Ngũ Hành Sơn'), ('Nguyễn Tház Hojc', 'Nguyễn Thái Học'), ('Nguyeexn Tkái Học', 'Nguyễn Thái Học'), ('Nguyeexn Văn Linh', 'Nguyễn Văn Linh'), ('Nguyễn Thái H', 'Nguyễn Thái Học'), ('bgũ Hành Sơn', 'Ngũ Hành Sơn'), ('Ngũ Hành uơn', 'Ngũ Hành Sơn'), ('Kháct sạn', 'Khách sạn'), ('Ngũ Hànk Xơ', 'Ngũ Hành Sơn'), ('Nguyễn Văn Linr', 'Nguyễn Văn Linh'), ('af Nẵng', 'Đà Nẵng'), ('Nguyễ Văn Ninh', 'Nguyễn Văn Linh'), ('Kpách sạn', 'Khách sạn'), ('bệnh việu', 'bệnh viện'), ('Nhà Hànk', 'Nhà Hàng'), ('Ngũ Htnh Sơn', 'Ngũ Hành Sơn'), ('Ngn Hành Sơn', 'Ngũ Hành Sơn'), ('Nguynễ Thái Học', 'Nguyễn Thái Học'), ('kNà Hàng', 'Nhà Hàng'), ('ệnh vjện', 'bệnh viện'), ('Nhaf Hàzg', 'Nhà Hàng'), ('Hoàng Dệ', 'Hoàng Diệu'), ('Đà Nmg', 'Đà Nẵng'), ('Ngũ Hnh Sn', 'Ngũ Hành Sơn'), ('Sơn vrà', 'Sơn Trà'), ('Xơn Thà', 'Sơn Trà'), ('Ng ũHành Sơd', 'Ngũ Hành Sơn'), ('Nri Hàng', 'Nhà Hàng'), ('Xown Chà', 'Sơn Trà'), ('Son Tbà', 'Sơn Trà'), ('Ngũ Hành Sowz', 'Ngũ Hành Sơn'), ('Nguyễn Văn Nih', 'Nguyễn Văn Linh'), ('Nguyễe Thái Học', 'Nguyễn Thái Học'), ('Ngx Hàn Sơn', 'Ngũ Hành Sơn'), ('Nguynễ Văn Lnih', 'Nguyễn Văn Linh'), ('Đà Nẵnf', 'Đà Nẵng'), ('Nguyễz Văn Linh', 'Nguyễn Văn Linh'), ('Hoàmg Diệu', 'Hoàng Diệu'), ('hơn Chà', 'Sơn Trà'), ('Hoànz Diệu', 'Hoàng Diệu'), ('Honà Diệu', 'Hoàng Diệu'), ('Hoang iDệu', 'Hoàng Diệu'), ('bnk việ', 'bệnh viện'), ('oHàn Diệu', 'Hoàng Diệu'), ('Hoan gDiệu', 'Hoàng Diệu'), ('Nhà Hànd', 'Nhà Hàng'), ('beejnh vieej', 'bệnh viện'), ('Hoànn Diệu', 'Hoàng Diệu'), ('Đà Lfng', 'Đà Nẵng'), ('Hoàng jjệu', 'Hoàng Diệu'), ('Nkaf Hàng', 'Nhà Hàng'), ('Ddà Nẵng', 'Đà Nẵng'), ('bệnh vmen', 'bệnh viện'), ('Ddà ẵng', 'Đà Nẵng'), ('Dà Nẵng', 'Đà Nẵng'), ('Khách iajn', 'Khách sạn'), ('Ngũ Hà xơn', 'Ngũ Hành Sơn'), ('Khcch sạn', 'Khách sạn'), ('Nhà vàng', 'Nhà Hàng'), ('Sơ Tà', 'Sơn Trà'), ('Ngũ Hành Sơd', 'Ngũ Hành Sơn'), ('Kháca xạn', 'Khách sạn'), ('Nuyễn Tháj Học', 'Nguyễn Thái Học'), ('Ngũ Hành Sơf', 'Ngũ Hành Sơn'), ('Ngudeexn Thái Hok', 'Nguyễn Thái Học'), ('Hoàng iiệu', 'Hoàng Diệu'), ('Honng Diệu', 'Hoàng Diệu'), ('uguyễn Văn Lin', 'Nguyễn Văn Linh'), ('Hoàng Giiệ', 'Hoàng Diệu'), ('Đa Lng', 'Đà Nẵng'), ('Đa Nẵnm', 'Đà Nẵng'), ('Kqách sạn', 'Khách sạn'), ('Xơw Trà', 'Sơn Trà'), ('pguyễn Thái Hok', 'Nguyễn Thái Học'), ('Ngv Hành Sơn', 'Ngũ Hành Sơn'), ('phà Hàng', 'Nhà Hàng'), ('bệnh vhện', 'bệnh viện'), ('Nguaễn Vă Linh', 'Nguyễn Văn Linh'), ('Huàng Diệu', 'Hoàng Diệu'), ('Snơ Cà', 'Sơn Trà'), ('Nluyễn Văn Linh', 'Nguyễn Văn Linh'), ('Ngũ Hành Svn', 'Ngũ Hành Sơn'), ('Nguyễn Thái học', 'Nguyễn Thái Học'), ('Ddà Lẵng', 'Đà Nẵng'), ('bệnh tjện', 'bệnh viện'), ('Sơn Tiz', 'Sơn Trà'), ('Sn Cha', 'Sơn Trà'), ('vơn Traf', 'Sơn Trà'), ('Khack snạ', 'Khách sạn'), ('Nguyễp Văn Linh', 'Nguyễn Văn Linh'), ('bệnh siện', 'bệnh viện'), ('Ngyueexn Văn Linh', 'Nguyễn Văn Linh'), ('Đà Nẵxg', 'Đà Nẵng'), ('Đj Nẵn', 'Đà Nẵng'), ('Dà ẵNn', 'Đà Nẵng'), ('Ngurễn Thái Học', 'Nguyễn Thái Học'), ('Khách sạe', 'Khách sạn'), ('hách xạn', 'Khách sạn'), ('Sn Chà', 'Sơn Trà'), ('Hoàlg Diệ', 'Hoàng Diệu'), ('Kháh snn', 'Khách sạn'), ('Sown Traf', 'Sơn Trà'), ('Ng ũHafnh Sơn', 'Ngũ Hành Sơn'), ('Hmàng Diệu', 'Hoàng Diệu'), ('Nũg Hành Sown', 'Ngũ Hành Sơn'), ('Ngũ nàh Sơn', 'Ngũ Hành Sơn'), ('ahách sạn', 'Khách sạn'), ('Nguyễn Văn Ling', 'Nguyễn Văn Linh'), ('Sơn Tru', 'Sơn Trà'), ('Nguyễn ăn Lin', 'Nguyễn Văn Linh'), ('Xn Chà', 'Sơn Trà'), ('Sơn Trk', 'Sơn Trà'), ('Sơn Tià', 'Sơn Trà'), ('Sơn Tro', 'Sơn Trà'), ('Ngũ Hành Sowm', 'Ngũ Hành Sơn'), ('iàng Diệu', 'Hoàng Diệu'), ('Hoafv Diệu', 'Hoàng Diệu'), ('Nguyễn Văn winh', 'Nguyễn Văn Linh'), ('Nguyen Vă nLinh', 'Nguyễn Văn Linh'), ('Đà Nẵgn', 'Đà Nẵng'), ('Nguyeexn Thái Hok', 'Nguyễn Thái Học'), ('Khách xln', 'Khách sạn'), ('bện hvjện', 'bệnh viện'), ('Sow nTrà', 'Sơn Trà'), ('Đw Nẵng', 'Đà Nẵng'), ('Sơn Tza', 'Sơn Trà'), ('Đà Lẵgn', 'Đà Nẵng'), ('mệnh viện', 'bệnh viện'), ('oHafng Diệu', 'Hoàng Diệu'), ('Khác sạ', 'Khách sạn'), ('Ngũ Hành Syn', 'Ngũ Hành Sơn'), ('Sơe Trà', 'Sơn Trà'), ('Kdách sạ', 'Khách sạn'), ('Nguyễs Văn Linh', 'Nguyễn Văn Linh'), ('Nguyễn Van Link', 'Nguyễn Văn Linh'), ('Đ àLẵn', 'Đà Nẵng'), ('Đa dẵng', 'Đà Nẵng'), ('Nguyễn Vkn Linh', 'Nguyễn Văn Linh'), ('Khách ạn', 'Khách sạn'), ('Nhaf Hvng', 'Nhà Hàng'), ('Ngũ Hành Spn', 'Ngũ Hành Sơn'), ('tguyễn Văn Lin', 'Nguyễn Văn Linh'), ('Đaf Nawxnr', 'Đà Nẵng'), ('Nhi Hàng', 'Nhà Hàng'), ('Ngypn Thái Hok', 'Nguyễn Thái Học'), ('bệny viện', 'bệnh viện'), ('bnh vinệ', 'bệnh viện'), ('xgũ aành Sown', 'Ngũ Hành Sơn'), ('Đà Nẵdg', 'Đà Nẵng'), ('Khácm san', 'Khách sạn'), ('Hokng Diệu', 'Hoàng Diệu'), ('Nguyễn Tháj Ho', 'Nguyễn Thái Học'), ('Nguyhn Thái Học', 'Nguyễn Thái Học'), ('Nà Hzng', 'Nhà Hàng'), ('qà Nẵng', 'Đà Nẵng'), ('Sơn rTà', 'Sơn Trà'), ('Ngulễn Thái Hok', 'Nguyễn Thái Học'), ('Nghyễn Thái Học', 'Nguyễn Thái Học'), ('bnệ vệi', 'bệnh viện'), ('bệnh veện', 'bệnh viện'), ('Khách xaf', 'Khách sạn'), ('Khách svn', 'Khách sạn'), ('mhách sajn', 'Khách sạn'), ('ahaf Hàn', 'Nhà Hàng'), ('Đ Nẵnq', 'Đà Nẵng'), ('Nhà màn', 'Nhà Hàng'), ('Sơn urà', 'Sơn Trà'), ('Nguyễn Tbái Ho', 'Nguyễn Thái Học'), ('bệnh vệ', 'bệnh viện'), ('Hovng Diệ', 'Hoàng Diệu'), ('Dda Nawxng', 'Đà Nẵng'), ('Ngyễn Tkái Hok', 'Nguyễn Thái Học'), ('Ngũ hành Sơ', 'Ngũ Hành Sơn'), ('jệnh viện', 'bệnh viện'), ('Nguyn Văn Linh', 'Nguyễn Văn Linh'), ('Khách lạn', 'Khách sạn'), ('eguyễn Văn Ljnh', 'Nguyễn Văn Linh'), ('Đà ẵNn', 'Đà Nẵng'), ('Sơn fhà', 'Sơn Trà'), ('Ngũ vànk Sơn', 'Ngũ Hành Sơn'), ('thách sạn', 'Khách sạn'), ('Hoàn Dệiu', 'Hoàng Diệu'), ('noàng Diệu', 'Hoàng Diệu'), ('Nugyễn Văn Linh', 'Nguyễn Văn Linh'), ('Nhà Hmng', 'Nhà Hàng'), ('Nguyễn Văn uinh', 'Nguyễn Văn Linh'), ('Khrch san', 'Khách sạn'), ('Hofng Diệu', 'Hoàng Diệu'), ('pguyễn Văn Linh', 'Nguyễn Văn Linh'), ('Nvaf Hàng', 'Nhà Hàng'), ('Kháh pạn', 'Khách sạn'), ('Ngu Hành Sơn', 'Ngũ Hành Sơn'), ('Khck sajn', 'Khách sạn'), ('Khaca xạn', 'Khách sạn'), ('Nguyen Văn inh', 'Nguyễn Văn Linh'), ('Hoàhg Giiệu', 'Hoàng Diệu'), ('Khcák sạn', 'Khách sạn'), ('Son rTà', 'Sơn Trà'), ('Ngủ Hành ơn', 'Ngũ Hành Sơn'), ('hcáh ạsn', 'Khách sạn'), ('Ddà Nnẵ', 'Đà Nẵng'), ('Nguyễn Thai Hojc', 'Nguyễn Thái Học'), ('bệns viện', 'bệnh viện'), ('Nhà pang', 'Nhà Hàng'), ('Ngủ Hành Sown', 'Ngũ Hành Sơn'), ('hKasck sạn', 'Khách sạn'), ('Howng Diệu', 'Hoàng Diệu'), ('hown Trà', 'Sơn Trà'), ('Nguyễn Tháq Hok', 'Nguyễn Thái Học'), ('Ngujễn Văn Linh', 'Nguyễn Văn Linh'), ('bnh vhện', 'bệnh viện'), ('bệh vinệ', 'bệnh viện'), ('Nhaf làng', 'Nhà Hàng'), ('Ngt Hành Sơn', 'Ngũ Hành Sơn'), ('Sr nTraf', 'Sơn Trà'), ('Ngux Hanh Sơn', 'Ngũ Hành Sơn'), ('chà Hàng', 'Nhà Hàng'), ('hKach sạn', 'Khách sạn'), ('Nguyễn Văr Linh', 'Nguyễn Văn Linh'), ('Hoàni Diệu', 'Hoàng Diệu'), ('Nguyễ Thái Hok', 'Nguyễn Thái Học'), ('Ngt Hành Sơ', 'Ngũ Hành Sơn'), ('Nguyễn Thai Học', 'Nguyễn Thái Học'), ('Nk àHàng', 'Nhà Hàng'), ('Nhp Hàng', 'Nhà Hàng'), ('Hoàng Diệz', 'Hoàng Diệu'), ('Đà ẵng', 'Đà Nẵng'), ('xguyễl Văn Linh', 'Nguyễn Văn Linh'), ('Ngux Hanh Xơn', 'Ngũ Hành Sơn'), ('beejnh việx', 'bệnh viện'), ('yoàng Diệu', 'Hoàng Diệu'), ('Đà Nzng', 'Đà Nẵng'), ('Đà nawxng', 'Đà Nẵng'), ('gNũ Hànk Sơn', 'Ngũ Hành Sơn'), ('Nguyễy Văn Linh', 'Nguyễn Văn Linh'), ('Đà Nẵug', 'Đà Nẵng'), ('Xơn Tmà', 'Sơn Trà'), ('Ng Hành Sơ', 'Ngũ Hành Sơn'), ('Nhà Hànx', 'Nhà Hàng'), ('bệsh việ', 'bệnh viện'), ('bệnh aiện', 'bệnh viện'), ('Hoàng Giiiu', 'Hoàng Diệu'), ('Khac sạn', 'Khách sạn'), ('Khácf sạn', 'Khách sạn'), ('Ngũ Hành Xơn', 'Ngũ Hành Sơn'), ('Khách ạ', 'Khách sạn'), ('Nguyễn Thái Hvc', 'Nguyễn Thái Học'), ('ệnh việr', 'bệnh viện'), ('Ngũ uành Sơn', 'Ngũ Hành Sơn'), ('beejnk vieejn', 'bệnh viện'), ('bệnh vimn', 'bệnh viện'), ('Sowr Trà', 'Sơn Trà'), ('hKách sajn', 'Khách sạn'), ('Sơn Ttà', 'Sơn Trà'), ('Hoàg Giiệ', 'Hoàng Diệu'), ('Káck sạn', 'Khách sạn'), ('Nguyễn Thái ọc', 'Nguyễn Thái Học'), ('Nguyễn Tkái Họ', 'Nguyễn Thái Học'), ('Nũg Htnh Sơn', 'Ngũ Hành Sơn'), ('Nũ Hành Sown', 'Ngũ Hành Sơn'), ('Nkaf Hafng', 'Nhà Hàng'), ('Nguyễn Vrn Linh', 'Nguyễn Văn Linh'), ('Nhaf càng', 'Nhà Hàng'), ('Nguynễ Vă nLinh', 'Nguyễn Văn Linh'), ('beejnh vmện', 'bệnh viện'), ('Nka Hafng', 'Nhà Hàng'), ('sa Nẵng', 'Đà Nẵng'), ('Khách x', 'Khách sạn'), ('bệnv vjện', 'bệnh viện'), ('Khch sajn', 'Khách sạn'), ('bệno việ', 'bệnh viện'), ('Dd àNẵng', 'Đà Nẵng'), ('Nguyễn Thni Hok', 'Nguyễn Thái Học'), ('Nzuyễn Thái Học', 'Nguyễn Thái Học'), ('Nguyen Thái Hojc', 'Nguyễn Thái Học'), ('whà àng', 'Nhà Hàng'), ('beth viện', 'bệnh viện'), ('ơn Trà', 'Sơn Trà'), ('Khác hsan', 'Khách sạn'), ('hác hxạn', 'Khách sạn'), ('Nguyễn Văn Linm', 'Nguyễn Văn Linh'), ('Xơn Tpà', 'Sơn Trà'), ('Nguyễ Văn Lin', 'Nguyễn Văn Linh'), ('Nguyễn Văn jin', 'Nguyễn Văn Linh'), ('Ngux Hành Snơ', 'Ngũ Hành Sơn'), ('Nguyin Văn Linh', 'Nguyễn Văn Linh'), ('Khácp mạn', 'Khách sạn'), ('Ngũ Hznh Son', 'Ngũ Hành Sơn'), ('Nguyeexn Thai Hok', 'Nguyễn Thái Học'), ('Kháwh sạn', 'Khách sạn'), ('Ngũ Hànz Sơn', 'Ngũ Hành Sơn'), ('aoafng Diệu', 'Hoàng Diệu'), ('Nguyễn Vnă Linh', 'Nguyễn Văn Linh'), ('Káhch sạ', 'Khách sạn'), ('Xxn Trà', 'Sơn Trà'), ('Npuyễn Tká Hok', 'Nguyễn Thái Học'), ('ihách xạn', 'Khách sạn'), ('bệng viện', 'bệnh viện'), ('Khách xaj', 'Khách sạn'), ('Honàg Djệu', 'Hoàng Diệu'), ('Shn Trà', 'Sơn Trà'), ('gũ Hành Sơ', 'Ngũ Hành Sơn'), ('Hoàcg Diệu', 'Hoàng Diệu'), ('Nhà Hnàg', 'Nhà Hàng'), ('Nguễn Tkasi Học', 'Nguyễn Thái Học'), ('Khách swn', 'Khách sạn'), ('Nguyễn jăn Linh', 'Nguyễn Văn Linh'), ('Hoàqg Diu', 'Hoàng Diệu'), ('Đà Nẵqg', 'Đà Nẵng'), ('bnệk viện', 'bệnh viện'), ('hKch sạn', 'Khách sạn'), ('Nguyễn Vawn Ninh', 'Nguyễn Văn Linh'), ('Khách smn', 'Khách sạn'), ('Nguyn Thái Họg', 'Nguyễn Thái Học'), ('roàng Diệu', 'Hoàng Diệu'), ('Đà vẵn', 'Đà Nẵng'), ('hguyễn Văn Linh', 'Nguyễn Văn Linh'), ('Ngủ Hàih Sơn', 'Ngũ Hành Sơn'), ('bệnz viện', 'bệnh viện'), ('bmnh riện', 'bệnh viện'), ('Nhaf àgn', 'Nhà Hàng'), ('Nhà zàn', 'Nhà Hàng'), ('Nguyễn Thái ọ', 'Nguyễn Thái Học'), ('Ngudễn Thái Học', 'Nguyễn Thái Học'), ('Ncuyễn Văn Ljnh', 'Nguyễn Văn Linh'), ('Khách bạn', 'Khách sạn'), ('Nkà Hàjg', 'Nhà Hàng'), ('Hoàng Diệk', 'Hoàng Diệu'), ('hNà vàng', 'Nhà Hàng'), ('Sơn Tbà', 'Sơn Trà'), ('Ngũ Hàhn Sơ', 'Ngũ Hành Sơn'), ('àĐ Nẵg', 'Đà Nẵng'), ('ià Nẵng', 'Đà Nẵng'), ('Ngũ Hành Xown', 'Ngũ Hành Sơn'), ('oHàng Giiuệ', 'Hoàng Diệu'), ('Sơn Tri', 'Sơn Trà'), ('Nguyễg Văn Linh', 'Nguyễn Văn Linh'), ('Nkà Hàfg', 'Nhà Hàng'), ('beejnh yiện', 'bệnh viện'), ('ệnh ivện', 'bệnh viện'), ('Hoàbg Diệu', 'Hoàng Diệu'), ('Nhà fang', 'Nhà Hàng'), ('Đà Nẵg', 'Đà Nẵng'), ('Ngoyễn Văn Linh', 'Nguyễn Văn Linh'), ('Ngũ Hành sơ', 'Ngũ Hành Sơn'), ('Ngũ Hày Xơn', 'Ngũ Hành Sơn'), ('Sơx Trà', 'Sơn Trà'), ('Nhà Hmn', 'Nhà Hàng'), ('Kháph sạn', 'Khách sạn'), ('Sown Chb', 'Sơn Trà'), ('Sơn wrà', 'Sơn Trà'), ('Đa Nhng', 'Đà Nẵng'), ('Ngux Hàh Sơn', 'Ngũ Hành Sơn'), ('Dà dẵng', 'Đà Nẵng'), ('tà Nẵg', 'Đà Nẵng'), ('Nguyễn Thyi Học', 'Nguyễn Thái Học'), ('Nguyễn Văn Nin', 'Nguyễn Văn Linh'), ('Hoàng Diju', 'Hoàng Diệu'), ('Ngũ Hmnh Sơn', 'Ngũ Hành Sơn'), ('Nwuyễn Thái Học', 'Nguyễn Thái Học'), ('Nguyễn Vaw nLiyh', 'Nguyễn Văn Linh'), ('Ngủ Hnh Sơn', 'Ngũ Hành Sơn'), ('Ddà ẵNng', 'Đà Nẵng'), ('Ngyuễc Thái Hok', 'Nguyễn Thái Học'), ('Ngux uành Sơn', 'Ngũ Hành Sơn'), ('Nhà sàng', 'Nhà Hàng'), ('Nhà Hxn', 'Nhà Hàng'), ('Nguynễ Văn Link', 'Nguyễn Văn Linh'), ('Sơn grà', 'Sơn Trà'), ('Ngũ cành Xơn', 'Ngũ Hành Sơn'), ('Sơn rrà', 'Sơn Trà'), ('Nhà Hpng', 'Nhà Hàng'), ('Sơn àr', 'Sơn Trà'), ('Spn Traf', 'Sơn Trà'), ('Nugyễn Thái Học', 'Nguyễn Thái Học'), ('Nguyễn Văn Ljnk', 'Nguyễn Văn Linh'), ('fà Nẵng', 'Đà Nẵng'), ('bện vieejn', 'bệnh viện'), ('Sin Traf', 'Sơn Trà'), ('Kfách sn', 'Khách sạn'), ('Ngũ Hàoh Sơ', 'Ngũ Hành Sơn'), ('bệnr viện', 'bệnh viện'), ('hách sajn', 'Khách sạn'), ('Ngũ Hznh Sơn', 'Ngũ Hành Sơn'), ('eệnh viện', 'bệnh viện'), ('Son Traf', 'Sơn Trà'), ('Nqaf Hàng', 'Nhà Hàng'), ('vguyễn Thái Học', 'Nguyễn Thái Học'), ('Nbũ Hành Sơn', 'Ngũ Hành Sơn'), ('Ngũ kành Sown', 'Ngũ Hành Sơn'), ('tà Nang', 'Đà Nẵng'), ('Đaf oẵng', 'Đà Nẵng'), ('Nguễn Văn Ljn', 'Nguyễn Văn Linh'), ('Ngũ Hanh Snơ', 'Ngũ Hành Sơn'), ('Ngũ àHnh Xơ', 'Ngũ Hành Sơn'), ('Kháck sạ', 'Khách sạn'), ('kà Nawxng', 'Đà Nẵng'), ('Kuach sạn', 'Khách sạn'), ('Nguyễn háj Hok', 'Nguyễn Thái Học'), ('Xown qrà', 'Sơn Trà'), ('Đà Nẵt', 'Đà Nẵng'), ('Sfn Trà', 'Sơn Trà'), ('Hoafeg Diệu', 'Hoàng Diệu'), ('bệnk vjện', 'bệnh viện'), ('Nà Hàn', 'Nhà Hàng'), ('iwà Hàng', 'Nhà Hàng'), ('Nguyeexn Vnă Ninh', 'Nguyễn Văn Linh'), ('Nguydn Thái Hok', 'Nguyễn Thái Học'), ('zhaf Hàng', 'Nhà Hàng'), ('Káhch ạs', 'Khách sạn'), ('yhaf Hàng', 'Nhà Hàng'), ('Hjàng Diệu', 'Hoàng Diệu'), ('Ngũ Hanh Sơ', 'Ngũ Hành Sơn'), ('Ngusễn Văn Linh', 'Nguyễn Văn Linh'), ('Hàog Diệu', 'Hoàng Diệu'), ('Nhà Hvn', 'Nhà Hàng'), ('bệhn việ', 'bệnh viện'), ('Đc Nẵng', 'Đà Nẵng'), ('Ngũ Hànc Sơn', 'Ngũ Hành Sơn'), ('bện ivện', 'bệnh viện'), ('vgũ Hành Sơn', 'Ngũ Hành Sơn'), ('Hoang Dệiu', 'Hoàng Diệu'), ('Nguyễb Van Linh', 'Nguyễn Văn Linh'), ('rệnh viện', 'bệnh viện'), ('Sơn Tcà', 'Sơn Trà'), ('Nyà Hàng', 'Nhà Hàng'), ('Hàong Diệu', 'Hoàng Diệu'), ('Nkà Hàrg', 'Nhà Hàng'), ('Khasc hsan', 'Khách sạn'), ('bệnh niện', 'bệnh viện'), ('Nguyễn Tyái Học', 'Nguyễn Thái Học'), ('Khch sạn', 'Khách sạn'), ('Nguyễn Tká iHọc', 'Nguyễn Thái Học'), ('Kháck sạk', 'Khách sạn'), ('Hoegn Diệu', 'Hoàng Diệu'), ('Ngukễn Thái Hok', 'Nguyễn Thái Học'), ('Đaf Nsng', 'Đà Nẵng'), ('bệne viện', 'bệnh viện'), ('Khbch sạn', 'Khách sạn'), ('Nguyễn Thái fọc', 'Nguyễn Thái Học'), ('bệlh vieejn', 'bệnh viện'), ('Hoàng Djbu', 'Hoàng Diệu'), ('Hoàrg Diệu', 'Hoàng Diệu'), ('guyễn Văn Lin', 'Nguyễn Văn Linh'), ('bệnd viện', 'bệnh viện'), ('guyễn Thái Hojc', 'Nguyễn Thái Học'), ('Nguyễn Văn Lidh', 'Nguyễn Văn Linh'), ('Xơn Trt', 'Sơn Trà'), ('Nhà Hàz', 'Nhà Hàng'), ('Hoàgn Diệv', 'Hoàng Diệu'), ('Nh Hàgn', 'Nhà Hàng'), ('Khác hxạn', 'Khách sạn'), ('bệyh viện', 'bệnh viện'), ('Nguteexn Thái Học', 'Nguyễn Thái Học'), ('bệnh việd', 'bệnh viện'), ('Kháck sạn', 'Khách sạn'), ('bệnh vikn', 'bệnh viện'), ('bệnh viev', 'bệnh viện'), ('Hoàzg Diệu', 'Hoàng Diệu'), ('Sơr Trà', 'Sơn Trà'), ('Nguyễn Tgái Học', 'Nguyễn Thái Học'), ('Hoàfg Diệu', 'Hoàng Diệu'), ('Dà Nnẵg', 'Đà Nẵng'), ('Đà Nwng', 'Đà Nẵng'), ('Ngjyễn Thái Học', 'Nguyễn Thái Học'), ('Ngzyễn Thái Ho', 'Nguyễn Thái Học'), ('Hoàng Giieeju', 'Hoàng Diệu'), ('Nguyễn Thasi Hok', 'Nguyễn Thái Học'), ('Nguyeexn Thái Họ', 'Nguyễn Thái Học'), ('Dà Nẵnh', 'Đà Nẵng'), ('Nhà Hàvg', 'Nhà Hàng'), ('Đà Nẵnw', 'Đà Nẵng'), ('brnh vcện', 'bệnh viện'), ('Khlch sạn', 'Khách sạn'), ('Hoàtg Diệu', 'Hoàng Diệu'), ('bnệh vieejn', 'bệnh viện'), ('Sv nTrà', 'Sơn Trà'), ('Nhu Hàng', 'Nhà Hàng'), ('Nzũ Hnh Sn', 'Ngũ Hành Sơn'), ('Khoch sạn', 'Khách sạn'), ('Nguyễn Văn minh', 'Nguyễn Văn Linh'), ('Nhà aàng', 'Nhà Hàng'), ('Nuyễn Thiá Học', 'Nguyễn Thái Học'), ('Hoànr Diệu', 'Hoàng Diệu'), ('gũ Hành Xơn', 'Ngũ Hành Sơn'), ('bek viện', 'bệnh viện'), ('bệih vien', 'bệnh viện'), ('Nnũ Hafnh Sơn', 'Ngũ Hành Sơn'), ('Sxn Chà', 'Sơn Trà'), ('Nguyễn Thái Họt', 'Nguyễn Thái Học'), ('Nguyễn awn Linh', 'Nguyễn Văn Linh'), ('Khách sạz', 'Khách sạn'), ('Hoazg Diệu', 'Hoàng Diệu'), ('Nguyễn căn Linh', 'Nguyễn Văn Linh'), ('bệnh vinệ', 'bệnh viện'), ('bệnh vin', 'bệnh viện'), ('benh vinệ', 'bệnh viện'), ('moàng Diệu', 'Hoàng Diệu'), ('Khách sạr', 'Khách sạn'), ('Ngũ mành Son', 'Ngũ Hành Sơn'), ('Nhà Hàhg', 'Nhà Hàng'), ('Nguyễn Thiá Ho', 'Nguyễn Thái Học'), ('ghách sạn', 'Khách sạn'), ('bệnh vfện', 'bệnh viện'), ('Ngurễn Văn Linh', 'Nguyễn Văn Linh'), ('Nhh Hàng', 'Nhà Hàng'), ('Nguyễn Tháh Hok', 'Nguyễn Thái Học'), ('Đà vẵng', 'Đà Nẵng'), ('qhách sạn', 'Khách sạn'), ('Hoàng Dyệu', 'Hoàng Diệu'), ('Nguyễh Văn Linh', 'Nguyễn Văn Linh'), ('Nkà Hxng', 'Nhà Hàng'), ('Khoch san', 'Khách sạn'), ('vệnh viện', 'bệnh viện'), ('Nàh Hafng', 'Nhà Hàng'), ('bệnh ivệ', 'bệnh viện'), ('Ngũ Hàk Sơn', 'Ngũ Hành Sơn'), ('Nuyễn Thái Hojc', 'Nguyễn Thái Học'), ('Đl Nẵng', 'Đà Nẵng'), ('Hoàmg Diệ', 'Hoàng Diệu'), ('Nguyễn Thasi Học', 'Nguyễn Thái Học'), ('Nkà Hhng', 'Nhà Hàng'), ('Nguynễ Thái Ho', 'Nguyễn Thái Học'), ('Nguynễ Văn Nink', 'Nguyễn Văn Linh'), ('và Nẵng', 'Đà Nẵng'), ('Nsaf Hàgn', 'Nhà Hàng'), ('pơn Tà', 'Sơn Trà'), ('Ngủ Hafnh Sơn', 'Ngũ Hành Sơn'), ('bệnh vnện', 'bệnh viện'), ('Nxũ Hành Sơn', 'Ngũ Hành Sơn'), ('Đaf Nẵg', 'Đà Nẵng'), ('Xơn Traf', 'Sơn Trà'), ('bệnm vjện', 'bệnh viện'), ('Ngũ ành Sơn', 'Ngũ Hành Sơn'), ('Sơ nrà', 'Sơn Trà'), ('bệhn viện', 'bệnh viện'), ('Nhà Hànv', 'Nhà Hàng'), ('shach sạn', 'Khách sạn'), ('gNuyễn Vă nLinh', 'Nguyễn Văn Linh'), ('Nguyễn Vtn Linh', 'Nguyễn Văn Linh'), ('phách sạn', 'Khách sạn'), ('Xơn Trf', 'Sơn Trà'), ('Nhà Hxng', 'Nhà Hàng'), ('beejuh viện', 'bệnh viện'), ('Ngũ Hàh Sơn', 'Ngũ Hành Sơn'), ('Ngumễn Văn Linh', 'Nguyễn Văn Linh'), ('Nguyễj Thái Học', 'Nguyễn Thái Học'), ('Hoàng Doệu', 'Hoàng Diệu'), ('Nũg Hành Sơ', 'Ngũ Hành Sơn'), ('Ngũ Hàth Son', 'Ngũ Hành Sơn'), ('ơ nTrà', 'Sơn Trà'), ('Ngk Hành Sơn', 'Ngũ Hành Sơn'), ('gNuyễn Vawn Linh', 'Nguyễn Văn Linh'), ('bệnk vệin', 'bệnh viện'), ('Đaf Nẵnx', 'Đà Nẵng'), ('Nguynễ Vă Linh', 'Nguyễn Văn Linh'), ('Nguyễn Tái Học', 'Nguyễn Thái Học'), ('Nguyễn Vawn Lfnh', 'Nguyễn Văn Linh'), ('Nà Hng', 'Nhà Hàng'), ('bnệh vjệf', 'bệnh viện'), ('ehà Hàng', 'Nhà Hàng'), ('Nguyễn Thái Họj', 'Nguyễn Thái Học'), ('Nguyễn Thái Hoj', 'Nguyễn Thái Học'), ('Npũ Hành Sơn', 'Ngũ Hành Sơn'), ('Đr Nẵn', 'Đà Nẵng'), ('Khnch sạn', 'Khách sạn'), ('Nzà Hàng', 'Nhà Hàng'), ('Xtn Traf', 'Sơn Trà'), ('gNũ Hàn Sơn', 'Ngũ Hành Sơn'), ('Nhb Hàng', 'Nhà Hàng'), ('kơn Chà', 'Sơn Trà'), ('Nguyễn Thái iok', 'Nguyễn Thái Học'), ('ggk Hành Sơ', 'Ngũ Hành Sơn'), ('Nguyễn Thá iHo', 'Nguyễn Thái Học'), ('Sơb Chà', 'Sơn Trà'), ('Hàong iDệu', 'Hoàng Diệu'), ('hKách sạ', 'Khách sạn'), ('Hong Giiệu', 'Hoàng Diệu'), ('Đà Nnẵg', 'Đà Nẵng'), ('Nguễyn Văn Llnh', 'Nguyễn Văn Linh'), ('Đà uẵng', 'Đà Nẵng'), ('Nhaf Hàn', 'Nhà Hàng'), ('bệnh vệu', 'bệnh viện'), ('Hoang Dệu', 'Hoàng Diệu'), ('Nguvễn Văn Ljnh', 'Nguyễn Văn Linh'), ('Đà Lnẵg', 'Đà Nẵng'), ('Ngufễn Thái Hok', 'Nguyễn Thái Học'), ('nệnk viện', 'bệnh viện'), ('Nkà Heng', 'Nhà Hàng'), ('Hoàn gDyệu', 'Hoàng Diệu'), ('Nguyễn Văn ninh', 'Nguyễn Văn Linh'), ('bnk riện', 'bệnh viện'), ('Khác sạn', 'Khách sạn'), ('Nka Hàqg', 'Nhà Hàng'), ('Ngũ Hàx hSơn', 'Ngũ Hành Sơn'), ('Nhà Hbng', 'Nhà Hàng'), ('hNà Han', 'Nhà Hàng'), ('Sơn hà', 'Sơn Trà'), ('à Nawxng', 'Đà Nẵng'), ('Nha àHng', 'Nhà Hàng'), ('Ngu Hành iơn', 'Ngũ Hành Sơn'), ('ơSq Trà', 'Sơn Trà'), ('Ngyuễn ihái Học', 'Nguyễn Thái Học'), ('Ngyuễn Vawn Linh', 'Nguyễn Văn Linh'), ('vhách sajn', 'Khách sạn'), ('Hoàn gDiệu', 'Hoàng Diệu'), ('Khách ssn', 'Khách sạn'), ('Đq Nawxng', 'Đà Nẵng'), ('ệbnh iện', 'bệnh viện'), ('foàng Diệu', 'Hoàng Diệu'), ('Khashc sn', 'Khách sạn'), ('Khách uạn', 'Khách sạn'), ('Nguyễ nVăn Link', 'Nguyễn Văn Linh'), ('Hoàng Dicu', 'Hoàng Diệu'), ('Nwà Hàng', 'Nhà Hàng'), ('Nguyễn băn Linh', 'Nguyễn Văn Linh'), ('jhà Hàng', 'Nhà Hàng'), ('Hoàng Giệu', 'Hoàng Diệu'), ('bệnh tiện', 'bệnh viện'), ('Nguyn Thái Hok', 'Nguyễn Thái Học'), ('town Tr', 'Sơn Trà'), ('Nguyễn Thaj Hoc', 'Nguyễn Thái Học'), ('loàng Diệu', 'Hoàng Diệu'), ('Soa Trà', 'Sơn Trà'), ('Nhà qàng', 'Nhà Hàng'), ('bệpk viện', 'bệnh viện'), ('Ngũ Hành n', 'Ngũ Hành Sơn'), ('àh Hàng', 'Nhà Hàng'), ('Đà Nng', 'Đà Nẵng'), ('Nhl Hàng', 'Nhà Hàng'), ('Sown Tàr', 'Sơn Trà'), ('mgũ Hành Sơn', 'Ngũ Hành Sơn'), ('Hoàng Dieh', 'Hoàng Diệu'), ('Nà Hnng', 'Nhà Hàng'), ('Nhà Hàa', 'Nhà Hàng'), ('Hoàng Diệ', 'Hoàng Diệu'), ('hà Hafng', 'Nhà Hàng'), ('Hoàng Gixệu', 'Hoàng Diệu'), ('bệnk vien', 'bệnh viện'), ('Ngủ Hàhn Sơn', 'Ngũ Hành Sơn'), ('Nh Hàno', 'Nhà Hàng'), ('Khach xan', 'Khách sạn'), ('Hoong Diệu', 'Hoàng Diệu'), ('Nhaf Hafng', 'Nhà Hàng'), ('Hong Diệ', 'Hoàng Diệu'), ('Nhà Hrng', 'Nhà Hàng'), ('bệnh vjệr', 'bệnh viện'), ('Sơn T', 'Sơn Trà'), ('Sơn Tdà', 'Sơn Trà'), ('Nguyễn Thái Ho', 'Nguyễn Thái Học'), ('Kháca sạn', 'Khách sạn'), ('Đa Nẵn', 'Đà Nẵng'), ('Đà Naeg', 'Đà Nẵng'), ('Ddà Lẵn', 'Đà Nẵng'), ('Snn Tr', 'Sơn Trà'), ('Hqàng Diệj', 'Hoàng Diệu'), ('bệnh vmện', 'bệnh viện'), ('Nguyễn Thhi Hok', 'Nguyễn Thái Học'), ('Nhà ang', 'Nhà Hàng'), ('Nguyhn Thái Hok', 'Nguyễn Thái Học'), ('Nuyễn Thái Hok', 'Nguyễn Thái Học'), ('Sơn Trb', 'Sơn Trà'), ('Nguyen Thái Hoj', 'Nguyễn Thái Học'), ('D Lẵng', 'Đà Nẵng'), ('Hoàng Djện', 'Hoàng Diệu'), ('hà Nawxn', 'Đà Nẵng'), ('Nhà Hàxg', 'Nhà Hàng'), ('benh việ', 'bệnh viện'), ('Ngjyễn Tkái Hok', 'Nguyễn Thái Học'), ('Hoàng Diệg', 'Hoàng Diệu'), ('Khách sgn', 'Khách sạn'), ('Nguyeexn Vxn Linh', 'Nguyễn Văn Linh'), ('Nhà Hàdg', 'Nhà Hàng'), ('Hyàng Giiệu', 'Hoàng Diệu'), ('Nhaf Hpn', 'Nhà Hàng'), ('Nguyễn hái Học', 'Nguyễn Thái Học'), ('Ngũ Hanh Sn', 'Ngũ Hành Sơn'), ('Nhuyễ nThái Học', 'Nguyễn Thái Học'), ('Ngũ Hành Stn', 'Ngũ Hành Sơn'), ('Nguyễk Văn Linh', 'Nguyễn Văn Linh'), ('rgũ Hành Xơn', 'Ngũ Hành Sơn'), ('Nugyễn Thiá Hok', 'Nguyễn Thái Học'), ('Sơc Tra', 'Sơn Trà'), ('Kfasch sạn', 'Khách sạn'), ('Nguyễn Thái Hjk', 'Nguyễn Thái Học'), ('Nwuyễn Văn Linh', 'Nguyễn Văn Linh'), ('Sowg Trà', 'Sơn Trà'), ('uoàng Diệu', 'Hoàng Diệu'), ('Đà Nẵnl', 'Đà Nẵng'), ('Ngyuễn ăn Linh', 'Nguyễn Văn Linh'), ('uhách sạ', 'Khách sạn'), ('Hoàgn Giiệu', 'Hoàng Diệu'), ('gNuydn Thái Học', 'Nguyễn Thái Học'), ('benk viện', 'bệnh viện'), ('Hbàng Diệu', 'Hoàng Diệu'), ('bệnh vixn', 'bệnh viện'), ('Đà aang', 'Đà Nẵng'), ('Ngũ Hàvh Sown', 'Ngũ Hành Sơn'), ('Nhà oàng', 'Nhà Hàng'), ('Hhàng Diệu', 'Hoàng Diệu'), ('Khách sạx', 'Khách sạn'), ('Ngũ Hành Sown', 'Ngũ Hành Sơn'), ('Hoàkg Dieeju', 'Hoàng Diệu'), ('Hovng Diệu', 'Hoàng Diệu'), ('Sơn hàr', 'Sơn Trà'), ('Nguyễn phái Học', 'Nguyễn Thái Học'), ('Ngũ Hành pơn', 'Ngũ Hành Sơn'), ('Nguyễn năn Lin', 'Nguyễn Văn Linh'), ('Nlà Hàng', 'Nhà Hàng'), ('Ngyễn Tháj Học', 'Nguyễn Thái Học'), ('Đaf dẵng', 'Đà Nẵng'), ('Kháfh sạn', 'Khách sạn'), ('Hoàne Diệu', 'Hoàng Diệu'), ('Kjách sạn', 'Khách sạn'), ('Đà tẵng', 'Đà Nẵng'), ('Xơx Trà', 'Sơn Trà'), ('Hoàgn Dieu', 'Hoàng Diệu'), ('Nguyeexb Thái Họ', 'Nguyễn Thái Học'), ('Nguyễn Văn Lwnh', 'Nguyễn Văn Linh'), ('Kháck xun', 'Khách sạn'), ('Đà Lhng', 'Đà Nẵng'), ('Nà Hang', 'Nhà Hàng'), ('Đf Nẵng', 'Đà Nẵng'), ('Khch sạ', 'Khách sạn'), ('Nguyễ Văn Linh', 'Nguyễn Văn Linh'), ('Khash sạn', 'Khách sạn'), ('guyễn Tháj Hok', 'Nguyễn Thái Học'), ('ệbnh vien', 'bệnh viện'), ('bệnh viu', 'bệnh viện'), ('khà Hàng', 'Nhà Hàng'), ('Khách saj', 'Khách sạn'), ('Ngux Hành Sơn', 'Ngũ Hành Sơn'), ('Sơi Chà', 'Sơn Trà'), ('bệh vieejn', 'bệnh viện'), ('bệnh diện', 'bệnh viện'), ('Nfuyễn Thái Học', 'Nguyễn Thái Học'), ('Nguyin Thái Hok', 'Nguyễn Thái Học'), ('Sơt Trà', 'Sơn Trà'), ('bệjh vjeejn', 'bệnh viện'), ('hách sạ', 'Khách sạn'), ('Nhà Hqng', 'Nhà Hàng'), ('Hoàng vjệu', 'Hoàng Diệu'), ('Khpch sạ', 'Khách sạn'), ('bệnh việ', 'bệnh viện'), ('Nhà wàng', 'Nhà Hàng'), ('Nguyễn Thái oHk', 'Nguyễn Thái Học'), ('ũ Hành Sơn', 'Ngũ Hành Sơn'), ('Nguyen Thasi Hojc', 'Nguyễn Thái Học'), ('Nugyễn Vawn Link', 'Nguyễn Văn Linh'), ('Kháfh san', 'Khách sạn'), ('Nguyn Thái Huc', 'Nguyễn Thái Học'), ('Nguyễn Thwi Hcọ', 'Nguyễn Thái Học'), ('jnh việ', 'bệnh viện'), ('Ngoyễn Thái Hojc', 'Nguyễn Thái Học'), ('bệnh việb', 'bệnh viện'), ('Nguyqn Văn Linh', 'Nguyễn Văn Linh'), ('Nhaf Hn', 'Nhà Hàng'), ('Sn Trà', 'Sơn Trà'), ('eguyễn Văn Linh', 'Nguyễn Văn Linh'), ('Hoàng Dir', 'Hoàng Diệu'), ('Sơn orà', 'Sơn Trà'), ('Xơn hCà', 'Sơn Trà'), ('bệnh qiện', 'bệnh viện'), ('Nh ààng', 'Nhà Hàng'), ('Hvàng Diệu', 'Hoàng Diệu'), ('Ndũ Hành Sơn', 'Ngũ Hành Sơn'), ('Nhà hàng', 'Nhà Hàng'), ('oơn Traf', 'Sơn Trà'), ('jhach sạn', 'Khách sạn'), ('uhà Hàng', 'Nhà Hàng'), ('Sơn Chk', 'Sơn Trà'), ('Ngũ Hành Xơ', 'Ngũ Hành Sơn'), ('Sơn hrà', 'Sơn Trà'), ('Sơb Trà', 'Sơn Trà'), ('Nnũ Hành Sơn', 'Ngũ Hành Sơn'), ('bệne việ', 'bệnh viện'), ('Sơa Traf', 'Sơn Trà'), ('bệmh viện', 'bệnh viện'), ('Snn Chà', 'Sơn Trà'), ('Nguyễn Thasi Họ', 'Nguyễn Thái Học'), ('Sơl Traf', 'Sơn Trà'), ('Nguyễn Thái Họw', 'Nguyễn Thái Học'), ('Hoàng Diệi', 'Hoàng Diệu'), ('Hoàng Dgệu', 'Hoàng Diệu'), ('Đà Ncng', 'Đà Nẵng'), ('ệnh việ', 'bệnh viện'), ('Đà Nanh', 'Đà Nẵng'), ('Nguyễn Văn finh', 'Nguyễn Văn Linh'), ('Hoàng Giiệq', 'Hoàng Diệu'), ('Ng Hànk Sơs', 'Ngũ Hành Sơn'), ('Hoàn Diu', 'Hoàng Diệu'), ('bệnu việ', 'bệnh viện'), ('Nguyễ Thái ọHc', 'Nguyễn Thái Học'), ('Ngwyeexn Văn Linh', 'Nguyễn Văn Linh'), ('Hoàng miệu', 'Hoàng Diệu'), ('Kháck xạn', 'Khách sạn'), ('Đa Nẵng', 'Đà Nẵng'), ('Nhà Hàg', 'Nhà Hàng'), ('Nguyen Thái Hoc', 'Nguyễn Thái Học'), ('Ngũ Hànk Sow', 'Ngũ Hành Sơn'), ('Sơn Tyà', 'Sơn Trà'), ('Nguyễn Văn Lgnh', 'Nguyễn Văn Linh'), ('Ngũ Hàch Sơn', 'Ngũ Hành Sơn'), ('Nkà Hàns', 'Nhà Hàng'), ('bnh việ', 'bệnh viện'), ('Nguyễn Thasy Hok', 'Nguyễn Thái Học'), ('beejhn viện', 'bệnh viện'), ('Nguyễn Tháq Hko', 'Nguyễn Thái Học'), ('Nnuyễn Thái Hok', 'Nguyễn Thái Học'), ('Đà Lawxng', 'Đà Nẵng'), ('Đà Nẵmg', 'Đà Nẵng'), ('Nhaf Hànw', 'Nhà Hàng'), ('aà Lẵng', 'Đà Nẵng'), ('Đaf Nẵdg', 'Đà Nẵng'), ('Hoàgn Diệu', 'Hoàng Diệu'), ('Hoafng iệu', 'Hoàng Diệu'), ('Đà Nẵnz', 'Đà Nẵng'), ('Hotng Dieu', 'Hoàng Diệu'), ('mgũ Hành Sown', 'Ngũ Hành Sơn'), ('Nguyễn Thái Họf', 'Nguyễn Thái Học'), ('Đaf vawxng', 'Đà Nẵng'), ('Hoàng Dtệu', 'Hoàng Diệu'), ('Khách pạ', 'Khách sạn'), ('Sơ Trà', 'Sơn Trà'), ('Nfũ Hành Sơn', 'Ngũ Hành Sơn'), ('Đà Nbng', 'Đà Nẵng'), ('Nguyễn Tcái Hok', 'Nguyễn Thái Học'), ('Son Txà', 'Sơn Trà'), ('Nguyễn Văn Limh', 'Nguyễn Văn Linh'), ('bệsh viện', 'bệnh viện'), ('bunh viện', 'bệnh viện'), ('Nguyễn Thám Học', 'Nguyễn Thái Học'), ('Hoxng Diệu', 'Hoàng Diệu'), ('Xơn Twà', 'Sơn Trà'), ('wgủ Hành Sn', 'Ngũ Hành Sơn'), ('Ddà Nẵnx', 'Đà Nẵng'), ('bệnh vuệ', 'bệnh viện'), ('Ngũ Hành Sd', 'Ngũ Hành Sơn'), ('Ngũ Hafnh sơ', 'Ngũ Hành Sơn'), ('Hoànt Djệu', 'Hoàng Diệu'), ('Hojng Diệu', 'Hoàng Diệu'), ('Ddà Nnẵg', 'Đà Nẵng'), ('Nbà Hàng', 'Nhà Hàng'), ('Hoàng iDệu', 'Hoàng Diệu'), ('Nguyn Tái Học', 'Nguyễn Thái Học'), ('mà Nẵng', 'Đà Nẵng'), ('Ngr Hành Sơn', 'Ngũ Hành Sơn'), ('Khákk sạn', 'Khách sạn'), ('Nguyễn Thái Họr', 'Nguyễn Thái Học'), ('àĐ Nawxng', 'Đà Nẵng'), ('Sow Trà', 'Sơn Trà'), ('oàng Giiệ', 'Hoàng Diệu'), ('bện hviện', 'bệnh viện'), ('bện vjện', 'bệnh viện'), ('Nguyen Văn Njnh', 'Nguyễn Văn Linh'), ('ơS nTàr', 'Sơn Trà'), ('nà Nẵng', 'Đà Nẵng'), ('Hoàn gDieeju', 'Hoàng Diệu'), ('Đa ẵNng', 'Đà Nẵng'), ('Klách ạsn', 'Khách sạn'), ('Nguyeexn Văn Lnh', 'Nguyễn Văn Linh'), ('Ngc Hànk Sơn', 'Ngũ Hành Sơn'), ('Nguyễn Văn Lgkn', 'Nguyễn Văn Linh'), ('Sơn Trg', 'Sơn Trà'), ('Đl Lẵng', 'Đà Nẵng'), ('uguyễn ăn Linh', 'Nguyễn Văn Linh'), ('Ngũ Hvnh Xơn', 'Ngũ Hành Sơn'), ('Khách skn', 'Khách sạn'), ('Nhy Hàfg', 'Nhà Hàng'), ('Ng Hàch Sơn', 'Ngũ Hành Sơn'), ('Ngũ Hunh Sơn', 'Ngũ Hành Sơn'), ('Nhà Han', 'Nhà Hàng'), ('Nguyễn Thái Hfk', 'Nguyễn Thái Học'), ('Hoàng Diu', 'Hoàng Diệu'), ('Nha Hàng', 'Nhà Hàng'), ('Ngũ àHnh Sơ', 'Ngũ Hành Sơn'), ('Nvuyễn Thái Học', 'Nguyễn Thái Học'), ('Nhà Hàfg', 'Nhà Hàng'), ('Nguyeexn Tháj Học', 'Nguyễn Thái Học'), ('bệnt vien', 'bệnh viện'), ('Ngkyễn Văn Lin', 'Nguyễn Văn Linh'), ('bện hvvện', 'bệnh viện'), ('Nguyễn Văn Linb', 'Nguyễn Văn Linh'), ('Nguyễn Thá iHok', 'Nguyễn Thái Học'), ('bệr viện', 'bệnh viện'), ('Nsà Hàng', 'Nhà Hàng'), ('Hoàag Giiệu', 'Hoàng Diệu'), ('bệhh viện', 'bệnh viện'), ('Khch san', 'Khách sạn'), ('Đa Neng', 'Đà Nẵng'), ('vệnh vệin', 'bệnh viện'), ('Nguyen Thái Học', 'Nguyễn Thái Học'), ('Nouễn Văn Linh', 'Nguyễn Văn Linh'), ('Nguyen Thái Hok', 'Nguyễn Thái Học'), ('ehx Hàng', 'Nhà Hàng'), ('Khkch sạn', 'Khách sạn'), ('Ngũ Hành iơn', 'Ngũ Hành Sơn'), ('Kháck kạn', 'Khách sạn'), ('Nhà àHnr', 'Nhà Hàng'), ('nệnh vjện', 'bệnh viện'), ('Ngo Hành Son', 'Ngũ Hành Sơn'), ('Nea Hàng', 'Nhà Hàng'), ('Nguễyn Văn iLnh', 'Nguyễn Văn Linh'), ('koàng Giiệu', 'Hoàng Diệu'), ('oà Nẵng', 'Đà Nẵng'), ('Sơf Trà', 'Sơn Trà'), ('Xơn Tfà', 'Sơn Trà'), ('Nhuyễn Văn Linh', 'Nguyễn Văn Linh'), ('Nuà Hàng', 'Nhà Hàng'), ('Ngyễn Thái ọc', 'Nguyễn Thái Học'), ('Xơn Trk', 'Sơn Trà'), ('Hoafng Dir', 'Hoàng Diệu'), ('Hoàng Di', 'Hoàng Diệu'), ('Nũ Hnh Sơn', 'Ngũ Hành Sơn'), ('Đaf Nzng', 'Đà Nẵng'), ('bệnl viện', 'bệnh viện'), ('Nguyễn Văi Linh', 'Nguyễn Văn Linh'), ('Nfũ Hànc Sơ', 'Ngũ Hành Sơn'), ('Sơn grg', 'Sơn Trà'), ('Khách xạe', 'Khách sạn'), ('Sơn arà', 'Sơn Trà'), ('Khách s', 'Khách sạn'), ('Khvch sạ', 'Khách sạn'), ('Hoànb Diệ', 'Hoàng Diệu'), ('Khách xa', 'Khách sạn'), ('ohách sạn', 'Khách sạn'), ('Hoàn gGiiệu', 'Hoàng Diệu'), ('Đà eng', 'Đà Nẵng'), ('Nguyễn Tháw Học', 'Nguyễn Thái Học'), ('Ngũ Hàn Xnơ', 'Ngũ Hành Sơn'), ('Koách sạn', 'Khách sạn'), ('Hoang Dieu', 'Hoàng Diệu'), ('Nguyễn Vwn Linh', 'Nguyễn Văn Linh'), ('Knác hsạn', 'Khách sạn'), ('Sown Taà', 'Sơn Trà'), ('Nzũ Hành Sơn', 'Ngũ Hành Sơn'), ('Sơn Trz', 'Sơn Trà'), ('Nguyễn Văn Linv', 'Nguyễn Văn Linh'), ('roàng iDệu', 'Hoàng Diệu'), ('Khxch sạn', 'Khách sạn'), ('gNuyen Văn Linh', 'Nguyễn Văn Linh'), ('Nhaf Hàgn', 'Nhà Hàng'), ('gũ Hành Sow', 'Ngũ Hành Sơn'), ('Dd àLang', 'Đà Nẵng'), ('Ngủ Hnàh Sơn', 'Ngũ Hành Sơn'), ('Kgách xạn', 'Khách sạn'), ('Ng ũHanh Sơn', 'Ngũ Hành Sơn'), ('ơS Trà', 'Sơn Trà'), ('Khácq sạn', 'Khách sạn'), ('Snơ Chà', 'Sơn Trà'), ('bệnh vsện', 'bệnh viện'), ('Đà Nawxng', 'Đà Nẵng'), ('Ndà Hàn', 'Nhà Hàng'), ('Nguyzn Văn Linh', 'Nguyễn Văn Linh'), ('Đc Nẵn', 'Đà Nẵng'), ('Nguyễn Txái Hok', 'Nguyễn Thái Học'), ('Nguyễn Vawn xinh', 'Nguyễn Văn Linh'), ('Hoàng Gijệ', 'Hoàng Diệu'), ('Hoàng Diệx', 'Hoàng Diệu'), ('Hoàag Diệu', 'Hoàng Diệu'), ('Ngubễn Văn Linh', 'Nguyễn Văn Linh'), ('Nguyn Thái Học', 'Nguyễn Thái Học'), ('Da Lẵng', 'Đà Nẵng'), ('bệnh việo', 'bệnh viện'), ('Đà Nẵkg', 'Đà Nẵng'), ('Npuyễn Văn Linh', 'Nguyễn Văn Linh'), ('Kgách sạn', 'Khách sạn'), ('bệnh vjệ', 'bệnh viện'), ('uà Nẵng', 'Đà Nẵng'), ('oàng Diệu', 'Hoàng Diệu'), ('Ngu Hành ơSn', 'Ngũ Hành Sơn'), ('benh vien', 'bệnh viện'), ('bwnh viện', 'bệnh viện'), ('Nhà làng', 'Nhà Hàng'), ('Ngũ Hành Sơe', 'Ngũ Hành Sơn'), ('bệh vjện', 'bệnh viện'), ('Hoàng Diệt', 'Hoàng Diệu'), ('Hogng Diệu', 'Hoàng Diệu'), ('Ngũ Hành Ssn', 'Ngũ Hành Sơn'), ('Nguễyn Thiá Học', 'Nguyễn Thái Học'), ('Khasch sạo', 'Khách sạn'), ('Ngũ àHnh Son', 'Ngũ Hành Sơn'), ('Sơn Cgà', 'Sơn Trà'), ('Sơy Trà', 'Sơn Trà'), ('aguyễn Thái Học', 'Nguyễn Thái Học'), ('d Nẵng', 'Đà Nẵng'), ('àĐ oẵng', 'Đà Nẵng'), ('bguyễn Thái Hok', 'Nguyễn Thái Học'), ('nơn Trà', 'Sơn Trà'), ('Sơn mraf', 'Sơn Trà'), ('Khác hsajn', 'Khách sạn'), ('n Traf', 'Sơn Trà'), ('Nguyn Văn Lin', 'Nguyễn Văn Linh'), ('Nkr Hàng', 'Nhà Hàng'), ('Nsuyễn Thái Hok', 'Nguyễn Thái Học'), ('Ngũ Hành Sơo', 'Ngũ Hành Sơn'), ('Honàg Diuệ', 'Hoàng Diệu'), ('Nguyễn Thái Hm', 'Nguyễn Thái Học'), ('Đà Nẵb', 'Đà Nẵng'), ('Nguyễn Thái Hko', 'Nguyễn Thái Học'), ('Sơn Teà', 'Sơn Trà'), ('bệnh ien', 'bệnh viện'), ('bệnh việe', 'bệnh viện'), ('Khách ua', 'Khách sạn'), ('Sown xrà', 'Sơn Trà'), ('Hoàng giệu', 'Hoàng Diệu'), ('Đaf Nẵnr', 'Đà Nẵng'), ('bknh viện', 'bệnh viện'), ('Đà tẵgn', 'Đà Nẵng'), ('Nàh Hng', 'Nhà Hàng'), ('Đà Nẵpg', 'Đà Nẵng'), ('D Nẵng', 'Đà Nẵng'), ('bhnh viện', 'bệnh viện'), ('Ngzyễn Thái Hok', 'Nguyễn Thái Học'), ('benh vin', 'bệnh viện'), ('Naà àng', 'Nhà Hàng'), ('Nguyễn Thái ọHc', 'Nguyễn Thái Học'), ('à ẵNn', 'Đà Nẵng'), ('bmnh viện', 'bệnh viện'), ('Dà Nang', 'Đà Nẵng'), ('Nguxễn Văn Lin', 'Nguyễn Văn Linh'), ('Nguyễn Tzái Hok', 'Nguyễn Thái Học'), ('Srn Trà', 'Sơn Trà'), ('Nguyễn Văn Leh', 'Nguyễn Văn Linh'), ('bệnh kieejn', 'bệnh viện'), ('Ngũ Hàn hSơn', 'Ngũ Hành Sơn'), ('à Nang', 'Đà Nẵng'), ('Nguyeexn Thái ọHc', 'Nguyễn Thái Học'), ('Ngũ Hànk So', 'Ngũ Hành Sơn'), ('Sơn Tqà', 'Sơn Trà'), ('bnệh việ', 'bệnh viện'), ('Hoànc Diệu', 'Hoàng Diệu'), ('Nguyễe Văn Linh', 'Nguyễn Văn Linh'), ('Sơo Trà', 'Sơn Trà'), ('Ngũ Hàns Sơn', 'Ngũ Hành Sơn'), ('Sgn Trà', 'Sơn Trà'), ('Đ àẵNng', 'Đà Nẵng'), ('Nugyễn Thái Hoc', 'Nguyễn Thái Học'), ('Nguyễl Thai Học', 'Nguyễn Thái Học'), ('ơn Cha', 'Sơn Trà'), ('gguyễn Văn Linh', 'Nguyễn Văn Linh'), ('Sơn Trc', 'Sơn Trà'), ('oHàng Ditu', 'Hoàng Diệu'), ('Nuuyễn Văn Linh', 'Nguyễn Văn Linh'), ('hKách sn', 'Khách sạn'), ('Hkàng Dieu', 'Hoàng Diệu'), ('bunh việ', 'bệnh viện'), ('Đà Nnv', 'Đà Nẵng'), ('Xơn mrà', 'Sơn Trà'), ('beejnh việq', 'bệnh viện'), ('Nguyễn Thi Hojc', 'Nguyễn Thái Học'), ('Hoafng Ditu', 'Hoàng Diệu'), ('Đà hẵng', 'Đà Nẵng'), ('zhách sạ', 'Khách sạn'), ('hNaf Hàng', 'Nhà Hàng'), ('Nguyễn Vă Ninh', 'Nguyễn Văn Linh'), ('Nguễn Thá iHok', 'Nguyễn Thái Học'), ('Hunàg Diệu', 'Hoàng Diệu'), ('Ngũ Hjnh Xơn', 'Ngũ Hành Sơn'), ('jgd Hànk Sơ', 'Ngũ Hành Sơn'), ('Ncà Hàng', 'Nhà Hàng'), ('bệph việ', 'bệnh viện'), ('Ngũ Hjnh Sơn', 'Ngũ Hành Sơn'), ('Sown Cha', 'Sơn Trà'), ('bệnz việ', 'bệnh viện'), ('Klách sạn', 'Khách sạn'), ('hà Hafn', 'Nhà Hàng'), ('Đà Narg', 'Đà Nẵng'), ('bệnh ciện', 'bệnh viện'), ('Nuyeexn Thái Hok', 'Nguyễn Thái Học'), ('on Trà', 'Sơn Trà'), ('Hoàng Diuu', 'Hoàng Diệu'), ('Neuyễn Tkái Học', 'Nguyễn Thái Học'), ('Khác hxajn', 'Khách sạn'), ('coàng iDệu', 'Hoàng Diệu'), ('bệuh viện', 'bệnh viện'), ('Hoàyg Die', 'Hoàng Diệu'), ('Ddà Nẵna', 'Đà Nẵng'), ('Sơn yrà', 'Sơn Trà'), ('Ngũ Hành Szn', 'Ngũ Hành Sơn'), ('Nhà Hàd', 'Nhà Hàng'), ('bệnh vệin', 'bệnh viện'), ('Ngũ Hxnh Sơn', 'Ngũ Hành Sơn'), ('gNuyễn Tháj Học', 'Nguyễn Thái Học'), ('Ngũ Hqnh Sơn', 'Ngũ Hành Sơn'), ('Xơn Trà', 'Sơn Trà'), ('Đ àNẵgn', 'Đà Nẵng'), ('town Trà', 'Sơn Trà'), ('Ddà Nẵpg', 'Đà Nẵng'), ('Sxq Trà', 'Sơn Trà'), ('Nguyễ nThái Hojc', 'Nguyễn Thái Học'), ('Nguyễ nVăn Lgnh', 'Nguyễn Văn Linh'), ('Sơn Trr', 'Sơn Trà'), ('Hoàng Gilệu', 'Hoàng Diệu'), ('Nguyễn Văy Linh', 'Nguyễn Văn Linh'), ('ệnh iện', 'bệnh viện'), ('Nguyqn Thái Học', 'Nguyễn Thái Học'), ('Khhch xạn', 'Khách sạn'), ('Dda Nẵn', 'Đà Nẵng'), ('Ngũ Hafnh Sơn', 'Ngũ Hành Sơn'), ('bệnh vceejn', 'bệnh viện'), ('wà Nawxng', 'Đà Nẵng'), ('Nguydn Vawn Linh', 'Nguyễn Văn Linh'), ('Đq Lẵng', 'Đà Nẵng'), ('Đ àNnẵg', 'Đà Nẵng'), ('bnh iện', 'bệnh viện'), ('beejnh aiện', 'bệnh viện'), ('Ngũ Hahn Sơn', 'Ngũ Hành Sơn'), ('Nha Hàn', 'Nhà Hàng'), ('Khách sạa', 'Khách sạn'), ('bệnh vện', 'bệnh viện'), ('xoàng iệu', 'Hoàng Diệu'), ('Nguyjn Thái Học', 'Nguyễn Thái Học'), ('gệnh viện', 'bệnh viện'), ('Đe Nẵn', 'Đà Nẵng'), ('Nàh Hàng', 'Nhà Hàng'), ('Nguyễn Văn iin', 'Nguyễn Văn Linh'), ('Nkà jàng', 'Nhà Hàng'), ('Ngyuễn Van Linh', 'Nguyễn Văn Linh'), ('Đg Nẵn', 'Đà Nẵng'), ('Nguyễn Vjn Link', 'Nguyễn Văn Linh'), ('Hoàng oiệ', 'Hoàng Diệu'), ('bệuh vjnệ', 'bệnh viện'), ('Ngũ Hành Skn', 'Ngũ Hành Sơn'), ('Kkách sạn', 'Khách sạn'), ('bmnh việ', 'bệnh viện'), ('Nguyễn Văn inh', 'Nguyễn Văn Linh'), ('bệnh việr', 'bệnh viện'), ('Kách xạn', 'Khách sạn'), ('Sown Tr', 'Sơn Trà'), ('bệnk yien', 'bệnh viện'), ('Nhà jàng', 'Nhà Hàng'), ('Hoàng Giiệi', 'Hoàng Diệu'), ('Ngũ Hàny Sơn', 'Ngũ Hành Sơn'), ('Ngũ Hbnh So', 'Ngũ Hành Sơn'), ('Sơn Trh', 'Sơn Trà'), ('Nhà Hag', 'Nhà Hàng'), ('Ng Hành Son', 'Ngũ Hành Sơn'), ('bnk wieejn', 'bệnh viện'), ('Nxà Hàn', 'Nhà Hàng'), ('igũ Hành Xơn', 'Ngũ Hành Sơn'), ('Ngũ xành Sơn', 'Ngũ Hành Sơn'), ('Ng Hành Sơn', 'Ngũ Hành Sơn'), ('hách snạ', 'Khách sạn'), ('ơn Tà', 'Sơn Trà'), ('Kháhc sạ', 'Khách sạn'), ('Nfà Hàng', 'Nhà Hàng'), ('Hoàny Ditu', 'Hoàng Diệu'), ('bệnh vieejq', 'bệnh viện'), ('tơn Chà', 'Sơn Trà'), ('Nguhễn Văn Linh', 'Nguyễn Văn Linh'), ('Nguyễn tăn Linh', 'Nguyễn Văn Linh'), ('gNũ Hành Sơn', 'Ngũ Hành Sơn'), ('Ngyuễn Văn Lihn', 'Nguyễn Văn Linh'), ('Ngũ Hàn eơn', 'Ngũ Hành Sơn'), ('Hoà Diệu', 'Hoàng Diệu'), ('ogũ Hành Sơn', 'Ngũ Hành Sơn'), ('mệnh việ', 'bệnh viện'), ('Đd Nẵng', 'Đà Nẵng'), ('Nhà Hàzg', 'Nhà Hàng'), ('Hoàna Diệu', 'Hoàng Diệu'), ('S nChà', 'Sơn Trà'), ('Nguyeexn Văn Lnih', 'Nguyễn Văn Linh'), ('Nha Hang', 'Nhà Hàng'), ('Nhq Hàng', 'Nhà Hàng'), ('Ngũ Hành Son', 'Ngũ Hành Sơn'), ('Nguynễ Thsi Học', 'Nguyễn Thái Học'), ('bfnh viện', 'bệnh viện'), ('hNà Hàmg', 'Nhà Hàng'), ('Sơn ihà', 'Sơn Trà'), ('bệnk vệ', 'bệnh viện'), ('Ngũ Hàh Xơn', 'Ngũ Hành Sơn'), ('Nha sàng', 'Nhà Hàng'), ('oafng Diệu', 'Hoàng Diệu'), ('Neà Hafng', 'Nhà Hàng'), ('Nguygn Thái Hojc', 'Nguyễn Thái Học'), ('Ngũ mành Sơn', 'Ngũ Hành Sơn'), ('nệnh viện', 'bệnh viện'), ('Ngũ Hành own', 'Ngũ Hành Sơn'), ('Ngyuễn hTái Hok', 'Nguyễn Thái Học'), ('Nha oàng', 'Nhà Hàng'), ('ơSn rà', 'Sơn Trà'), ('Nha Hung', 'Nhà Hàng'), ('Nguyễn Thmi Học', 'Nguyễn Thái Học'), ('Đa mẵng', 'Đà Nẵng'), ('Nh Hàn', 'Nhà Hàng'), ('Nguyễn Văn Lihn', 'Nguyễn Văn Linh'), ('Nhà Hafnw', 'Nhà Hàng'), ('Sơn nrà', 'Sơn Trà'), ('Ngutễn Vsn Linh', 'Nguyễn Văn Linh'), ('Nhs Hàng', 'Nhà Hàng'), ('Đà Nẵna', 'Đà Nẵng'), ('Xơn hhà', 'Sơn Trà'), ('Ngũ Hành Sjn', 'Ngũ Hành Sơn'), ('Hàng Djệu', 'Hoàng Diệu'), ('Nguyễn Thái jok', 'Nguyễn Thái Học'), ('Khych sạn', 'Khách sạn'), ('Đaf Nẵfg', 'Đà Nẵng'), ('Đà Nẵe', 'Đà Nẵng'), ('Hoàn gGiiệ', 'Hoàng Diệu'), ('Nià Hàng', 'Nhà Hàng'), ('Nhà Heng', 'Nhà Hàng'), ('Ddà Nẵh', 'Đà Nẵng'), ('Nguyễn Vă Nink', 'Nguyễn Văn Linh'), ('fgũ Hành Sơn', 'Ngũ Hành Sơn'), ('Hoàng Gijệu', 'Hoàng Diệu'), ('Ngryễn Thái Học', 'Nguyễn Thái Học'), ('Nguyễn ăn Linh', 'Nguyễn Văn Linh'), ('yệnh việ', 'bệnh viện'), ('Nguyn Tkái Học', 'Nguyễn Thái Học'), ('Nguyễn Văg Linh', 'Nguyễn Văn Linh'), ('Sơn Chh', 'Sơn Trà'), ('ooàng Diệu', 'Hoàng Diệu'), ('Nguyeexn Văn Lith', 'Nguyễn Văn Linh'), ('Đà Nẵno', 'Đà Nẵng'), ('Nguyễn Thái xok', 'Nguyễn Thái Học'), ('Đà Nxng', 'Đà Nẵng'), ('Sown Tlà', 'Sơn Trà'), ('Đaf Neng', 'Đà Nẵng'), ('Hopng Diệu', 'Hoàng Diệu'), ('Nouyễn Thái Học', 'Nguyễn Thái Học'), ('Nguyda Văn Lin', 'Nguyễn Văn Linh'), ('Ngryễ nVăn Ninh', 'Nguyễn Văn Linh'), ('Kháck xạ', 'Khách sạn'), ('Nguễn Văn inh', 'Nguyễn Văn Linh'), ('Sơ Traf', 'Sơn Trà'), ('Sơn Tpà', 'Sơn Trà'), ('Kách san', 'Khách sạn'), ('Ng ũHành Sơn', 'Ngũ Hành Sơn'), ('Khách so', 'Khách sạn'), ('qgũ Hành Xơn', 'Ngũ Hành Sơn'), ('Nguyn Thái Họ', 'Nguyễn Thái Học'), ('kà ẵNng', 'Đà Nẵng'), ('Ngũ Hynh Sơn', 'Ngũ Hành Sơn'), ('Nhaf Hang', 'Nhà Hàng'), ('Hoàn Diệu', 'Hoàng Diệu'), ('Sơn Trx', 'Sơn Trà'), ('Nguyễn Táhi Hok', 'Nguyễn Thái Học'), ('hNà Htng', 'Nhà Hàng'), ('Ngu Hanh Sơn', 'Ngũ Hành Sơn'), ('Sơn Chz', 'Sơn Trà'), ('Nhà fàng', 'Nhà Hàng'), ('Nguyễn Tháx Học', 'Nguyễn Thái Học'), ('Kháoh sạn', 'Khách sạn'), ('bnh viện', 'bệnh viện'), ('bệeh viện', 'bệnh viện'), ('Nguyễq Văn Linh', 'Nguyễn Văn Linh'), ('toàng Diệu', 'Hoàng Diệu'), ('bnệ viện', 'bệnh viện'), ('Khácy sạn', 'Khách sạn'), ('Ngux Hnh Son', 'Ngũ Hành Sơn'), ('Ngũ Hành uơ', 'Ngũ Hành Sơn'), ('Sơn Coà', 'Sơn Trà'), ('Nguễn Văn Lin', 'Nguyễn Văn Linh'), ('Kach sạn', 'Khách sạn'), ('Khahc sạn', 'Khách sạn'), ('Ngũ Hành jơn', 'Ngũ Hành Sơn'), ('Sơn Cmà', 'Sơn Trà'), ('whà Hàng', 'Nhà Hàng'), ('Hoàng pieu', 'Hoàng Diệu'), ('Khách fqn', 'Khách sạn'), ('Son Trà', 'Sơn Trà'), ('Nguyễf Thái Học', 'Nguyễn Thái Học'), ('Hong Ddệu', 'Hoàng Diệu'), ('Nguyễn Văn inu', 'Nguyễn Văn Linh'), ('Nhaf Hong', 'Nhà Hàng'), ('bệnh vdện', 'bệnh viện'), ('àĐ Nang', 'Đà Nẵng'), ('Sơg Trà', 'Sơn Trà'), ('Ngyuễn Tkái Hok', 'Nguyễn Thái Học'), ('Đà Nln', 'Đà Nẵng'), ('bệgh viện', 'bệnh viện'), ('Hoàg Djệu', 'Hoàng Diệu'), ('Nguyễn ăp Linh', 'Nguyễn Văn Linh'), ('Hoànf Diệu', 'Hoàng Diệu'), ('Nguyễs Thái so', 'Nguyễn Thái Học'), ('cà Nẵn', 'Đà Nẵng'), ('Hoàng Dimu', 'Hoàng Diệu'), ('beejnh vinệ', 'bệnh viện'), ('Sơn frà', 'Sơn Trà'), ('Ddà uẵng', 'Đà Nẵng'), ('wn Trà', 'Sơn Trà'), ('Nguyễn găn Linh', 'Nguyễn Văn Linh'), ('Sown rrà', 'Sơn Trà'), ('Khách xnạ', 'Khách sạn'), ('Hànb Diệu', 'Hoàng Diệu'), ('Ngũ Hàh Sown', 'Ngũ Hành Sơn'), ('Nyuyễn Văn Link', 'Nguyễn Văn Linh'), ('Khách zạn', 'Khách sạn'), ('Sơn Tfà', 'Sơn Trà'), ('Ngũ Hành tơn', 'Ngũ Hành Sơn'), ('Nguyễn Thwi Học', 'Nguyễn Thái Học'), ('Đà Lwng', 'Đà Nẵng'), ('Son rà', 'Sơn Trà'), ('Nguyễn Văn Lnnh', 'Nguyễn Văn Linh'), ('Đà uẵnp', 'Đà Nẵng'), ('Nouyễn Văn Linh', 'Nguyễn Văn Linh'), ('tơ nTrà', 'Sơn Trà'), ('Nàk Hàn', 'Nhà Hàng'), ('Đà Nn', 'Đà Nẵng'), ('uong Diệu', 'Hoàng Diệu'), ('Hoàng Giiệm', 'Hoàng Diệu'), ('mơn Trà', 'Sơn Trà'), ('Nuyễn Văn pinh', 'Nguyễn Văn Linh'), ('beejnh vibn', 'bệnh viện'), ('Hoang Diệ', 'Hoàng Diệu'), ('Nguyeexn Thái Hc', 'Nguyễn Thái Học'), ('San Traf', 'Sơn Trà'), ('Nguyễn Văn ainh', 'Nguyễn Văn Linh'), ('Nguyễn Văn djnh', 'Nguyễn Văn Linh'), ('ơn Chà', 'Sơn Trà'), ('xhaf Hàng', 'Nhà Hàng'), ('Nguyễn Vawn Lihn', 'Nguyễn Văn Linh'), ('Nhaf sàng', 'Nhà Hàng'), ('bệnh ve', 'bệnh viện'), ('oháck sạn', 'Khách sạn'), ('Đà kẵng', 'Đà Nẵng'), ('Khárh sạn', 'Khách sạn'), ('Nguyvn Văn Linh', 'Nguyễn Văn Linh'), ('bệnh ziện', 'bệnh viện'), ('zguyễn Thái Hok', 'Nguyễn Thái Học'), ('Ngũ Hàxh Sơn', 'Ngũ Hành Sơn'), ('Đa Nẵnd', 'Đà Nẵng'), ('Đà Nẵnm', 'Đà Nẵng'), ('Nguyễn Tháq Học', 'Nguyễn Thái Học'), ('Nguyễn Vn Linh', 'Nguyễn Văn Linh'), ('Ngux Hành Xơn', 'Ngũ Hành Sơn'), ('Sơj Trà', 'Sơn Trà'), ('bệnc vjện', 'bệnh viện'), ('Nguyễn Thasi voc', 'Nguyễn Thái Học'), ('Nguyeexn Van Lin', 'Nguyễn Văn Linh'), ('Nh làng', 'Nhà Hàng'), ('Hoagn Diệu', 'Hoàng Diệu'), ('bệnh inệ', 'bệnh viện'), ('Kaasch sạn', 'Khách sạn'), ('bệnv viện', 'bệnh viện'), ('Đà Nfn', 'Đà Nẵng'), ('Khcáh sạ', 'Khách sạn'), ('Hoàng Giiệu', 'Hoàng Diệu'), ('Na Hàng', 'Nhà Hàng'), ('Nhr Hafng', 'Nhà Hàng'), ('Hoàng Dju', 'Hoàng Diệu'), ('Nkà Hing', 'Nhà Hàng'), ('eoàng Diệu', 'Hoàng Diệu'), ('jgũ Hành Sơn', 'Ngũ Hành Sơn'), ('Nkà Hafng', 'Nhà Hàng'), ('Ngbyễn Văn Linh', 'Nguyễn Văn Linh'), ('Nhà Hànb', 'Nhà Hàng'), ('Hoàpg Diệu', 'Hoàng Diệu'), ('Hoànp Diệu', 'Hoàng Diệu'), ('bệjh ivện', 'bệnh viện'), ('Nho Hàng', 'Nhà Hàng'), ('Nhz tàng', 'Nhà Hàng'), ('Nguteexn Văn Linh', 'Nguyễn Văn Linh'), ('Nhà Hàny', 'Nhà Hàng'), ('Khách cajn', 'Khách sạn'), ('Ncaf Hàng', 'Nhà Hàng'), ('Khácx sạn', 'Khách sạn'), ('eejnh viện', 'bệnh viện'), ('rhaf Hàng', 'Nhà Hàng'), ('Ngũ Hànk bơn', 'Ngũ Hành Sơn'), ('Hoàng kiệu', 'Hoàng Diệu'), ('Snơ rà', 'Sơn Trà'), ('beejn viện', 'bệnh viện'), ('Đà Nnng', 'Đà Nẵng'), ('egũ Hành Xơn', 'Ngũ Hành Sơn'), ('Nguyễn Thasi gọc', 'Nguyễn Thái Học'), ('Đà Lrng', 'Đà Nẵng'), ('bện kviện', 'bệnh viện'), ('Ngyễn Vawn Linh', 'Nguyễn Văn Linh'), ('Ngũ Hpnh Xơn', 'Ngũ Hành Sơn'), ('Nguyễn Vă Link', 'Nguyễn Văn Linh'), ('bệnh riện', 'bệnh viện'), ('Nguyễ nVăn iLnh', 'Nguyễn Văn Linh'), ('Krách sạn', 'Khách sạn'), ('Xơf Trà', 'Sơn Trà'), ('Khách ạs', 'Khách sạn'), ('Nugyễn Thái Hok', 'Nguyễn Thái Học'), ('Ngũ àHn aơn', 'Ngũ Hành Sơn'), ('Đa Nẵeg', 'Đà Nẵng'), ('Ngũ Hành zơn', 'Ngũ Hành Sơn'), ('Đà jẵng', 'Đà Nẵng'), ('Nguyễn măn Linh', 'Nguyễn Văn Linh'), ('Khách sạu', 'Khách sạn'), ('Nguyễd Văn Linh', 'Nguyễn Văn Linh'), ('Đà Nnẵu', 'Đà Nẵng'), ('Nguyễn Tuái Học', 'Nguyễn Thái Học'), ('Ngnyễn Văn Linh', 'Nguyễn Văn Linh'), ('Nzà Hafng', 'Nhà Hàng'), ('Nguyeexn Vun Linh', 'Nguyễn Văn Linh'), ('Ngukễn Văn Linh', 'Nguyễn Văn Linh'), ('vhách sạn', 'Khách sạn'), ('Ngũ Hànf Sơ', 'Ngũ Hành Sơn'), ('Neà Hàn', 'Nhà Hàng'), ('Khách xại', 'Khách sạn'), ('iệnh vinệ', 'bệnh viện'), ('Ngũ Hàth Sơn', 'Ngũ Hành Sơn'), ('neejnh viện', 'bệnh viện'), ('Nguyxn Văn Link', 'Nguyễn Văn Linh'), ('Nnà Hàn', 'Nhà Hàng'), ('Ngũ Hàn Sơn', 'Ngũ Hành Sơn'), ('Nkt Hàng', 'Nhà Hàng'), ('zhách sạn', 'Khách sạn'), ('Khájh sạn', 'Khách sạn'), ('Đ àNẵn', 'Đà Nẵng'), ('Khácm sạn', 'Khách sạn'), ('bện hvệin', 'bệnh viện'), ('shà Hang', 'Nhà Hàng'), ('Nguyễ Văk Linh', 'Nguyễn Văn Linh'), ('ơSn Chà', 'Sơn Trà'), ('Ngujễn Thasi Học', 'Nguyễn Thái Học'), ('Nux Hành Sơn', 'Ngũ Hành Sơn'), ('Khách xạn', 'Khách sạn'), ('Kyách sạn', 'Khách sạn'), ('Ngux Hanh Sown', 'Ngũ Hành Sơn'), ('Sfn Chà', 'Sơn Trà'), ('Nhà Hànq', 'Nhà Hàng'), ('Khách sdn', 'Khách sạn'), ('Khqch sạn', 'Khách sạn'), ('Sơn krà', 'Sơn Trà'), ('Nguyễn Thi Hok', 'Nguyễn Thái Học'), ('Khach scn', 'Khách sạn'), ('Khasch xạn', 'Khách sạn'), ('Xơq Trà', 'Sơn Trà'), ('Khác hsnạ', 'Khách sạn'), ('Nhaf Hàeg', 'Nhà Hàng'), ('Nguyễn Thák Học', 'Nguyễn Thái Học'), ('Đà Nfnh', 'Đà Nẵng'), ('bệh việ', 'bệnh viện'), ('Khách srn', 'Khách sạn'), ('pơn Trà', 'Sơn Trà'), ('Nguyễ Thái Họ', 'Nguyễn Thái Học'), ('Hoàng Deu', 'Hoàng Diệu'), ('fệnh việ', 'bệnh viện'), ('Kuách sn', 'Khách sạn'), ('Ngumễn Thái How', 'Nguyễn Thái Học'), ('Ngũ Hàuh Sơn', 'Ngũ Hành Sơn'), ('bệh vien', 'bệnh viện'), ('Hoànj Diệu', 'Hoàng Diệu'), ('Sơ nTra', 'Sơn Trà'), ('Nguyễn Văm Linh', 'Nguyễn Văn Linh'), ('Nugyễn Văn Njnh', 'Nguyễn Văn Linh'), ('Nhà Hhng', 'Nhà Hàng'), ('Nguyễn Thái Hdc', 'Nguyễn Thái Học'), ('Đu Lẵn', 'Đà Nẵng'), ('Ngyuễn ohái Học', 'Nguyễn Thái Học'), ('Khasch sạn', 'Khách sạn'), ('Hoàng wiệu', 'Hoàng Diệu'), ('Sơn Tjaf', 'Sơn Trà'), ('aà Nn', 'Đà Nẵng'), ('Khách sạp', 'Khách sạn'), ('Nhà gàng', 'Nhà Hàng'), ('Khvch sạn', 'Khách sạn'), ('Nha Hnàg', 'Nhà Hàng'), ('beejnh vnệ', 'bệnh viện'), ('Nhà xàng', 'Nhà Hàng'), ('Hoàg Dieeju', 'Hoàng Diệu'), ('Đà nẵng', 'Đà Nẵng'), ('Nguyn Tháj Học', 'Nguyễn Thái Học'), ('Đà Nvng', 'Đà Nẵng'), ('bệnh vaen', 'bệnh viện'), ('Nguyễn Vsn Linh', 'Nguyễn Văn Linh'), ('bệch viện', 'bệnh viện'), ('Xơn zàr', 'Sơn Trà'), ('Nguyễ nThasi Học', 'Nguyễn Thái Học'), ('bệnh iveejn', 'bệnh viện'), ('Nguyễn Tkái uok', 'Nguyễn Thái Học'), ('bệzh viện', 'bệnh viện'), ('Hoàzg aiệu', 'Hoàng Diệu'), ('Ngũ Hàni Sơn', 'Ngũ Hành Sơn'), ('Ngũ Hành Sơq', 'Ngũ Hành Sơn'), ('Nguyễn qăn Ligh', 'Nguyễn Văn Linh'), ('Sown rTà', 'Sơn Trà'), ('Nu Hành Xơn', 'Ngũ Hành Sơn'), ('Ngubễn Thái Hok', 'Nguyễn Thái Học'), ('Nh àHng', 'Nhà Hàng'), ('Khách sạs', 'Khách sạn'), ('ahách saj', 'Khách sạn'), ('Káhch yạn', 'Khách sạn'), ('Hocng Diệu', 'Hoàng Diệu'), ('Khách xyn', 'Khách sạn'), ('Ddà pẵng', 'Đà Nẵng'), ('Sơn Tg', 'Sơn Trà'), ('Kvách sạ', 'Khách sạn'), ('Ddà Nxng', 'Đà Nẵng'), ('Nguễy Thái Hok', 'Nguyễn Thái Học'), ('Hoàng aiệu', 'Hoàng Diệu'), ('Sqn Trà', 'Sơn Trà'), ('Sown Trl', 'Sơn Trà'), ('lguyễn Van Linh', 'Nguyễn Văn Linh'), ('Hoàng bieeju', 'Hoàng Diệu'), ('kà Hàn', 'Nhà Hàng'), ('Ngũ Honh Sơn', 'Ngũ Hành Sơn'), ('Khac ksạ', 'Khách sạn'), ('Nguyễ Thái Hc', 'Nguyễn Thái Học'), ('hgũ Hành Snơ', 'Ngũ Hành Sơn'), ('Ngũ Hành San', 'Ngũ Hành Sơn'), ('Nhà Hyng', 'Nhà Hàng'), ('Đa Nawxng', 'Đà Nẵng'), ('Nguyễn Thái Hc', 'Nguyễn Thái Học'), ('Khach sạn', 'Khách sạn'), ('Nhà tàng', 'Nhà Hàng'), ('bệnh vsen', 'bệnh viện'), ('Nhà ànz', 'Nhà Hàng'), ('Nguyễn Táhi Ho', 'Nguyễn Thái Học'), ('Nguyễn Thá Học', 'Nguyễn Thái Học'), ('Nkà Hàn', 'Nhà Hàng'), ('Noủ Hành Sơn', 'Ngũ Hành Sơn'), ('Kháih xạn', 'Khách sạn'), ('Ng ũHành Snơ', 'Ngũ Hành Sơn'), ('Hong Dệiu', 'Hoàng Diệu'), ('Khh sạn', 'Khách sạn'), ('Khác hsạ', 'Khách sạn'), ('gguyễn Văn Ninh', 'Nguyễn Văn Linh'), ('Nguyễn Văn Lnk', 'Nguyễn Văn Linh'), ('Hoafng Diệd', 'Hoàng Diệu'), ('Đaf xẵn', 'Đà Nẵng'), ('Hoàng Diệr', 'Hoàng Diệu'), ('Nnaf Hàng', 'Nhà Hàng'), ('Khách ajn', 'Khách sạn'), ('xguyễn Văn Linh', 'Nguyễn Văn Linh'), ('Hoàng Diệl', 'Hoàng Diệu'), ('Ngũ Hàh ơn', 'Ngũ Hành Sơn'), ('ơS nTrà', 'Sơn Trà'), ('Nguyễn Văn Ljno', 'Nguyễn Văn Linh'), ('Ngũ Hàna Sơn', 'Ngũ Hành Sơn'), ('Ngũ Hành Sqn', 'Ngũ Hành Sơn'), ('Đà zẵng', 'Đà Nẵng'), ('Ddaf Nẵn', 'Đà Nẵng'), ('Nhà Hàni', 'Nhà Hàng'), ('Khasch san', 'Khách sạn'), ('Sơn Tvà', 'Sơn Trà'), ('Nguynn Thái Hok', 'Nguyễn Thái Học'), ('Sơn Cho', 'Sơn Trà'), ('Nguyễb Văn Linh', 'Nguyễn Văn Linh'), ('hách sạn', 'Khách sạn'), ('Sơ nTr', 'Sơn Trà'), ('Nhà ràng', 'Nhà Hàng'), ('Nguuễn Thái Ho', 'Nguyễn Thái Học'), ('uoàng Diuệ', 'Hoàng Diệu'), ('Ngux Hwnh Sơn', 'Ngũ Hành Sơn'), ('Nguyn Văn Nink', 'Nguyễn Văn Linh'), ('Xowh Trà', 'Sơn Trà'), ('Khách sen', 'Khách sạn'), ('Sơn Càh', 'Sơn Trà'), ('Sơ Chà', 'Sơn Trà'), ('Đà Nawxpg', 'Đà Nẵng'), ('Hoàng sieeju', 'Hoàng Diệu'), ('Nguynễ Thái Hok', 'Nguyễn Thái Học'), ('Nkà dàng', 'Nhà Hàng'), ('Nguyzn Thái Học', 'Nguyễn Thái Học'), ('Nguyễn păn Lin', 'Nguyễn Văn Linh'), ('ơSn Trz', 'Sơn Trà'), ('Ngũ Hafhh Sơn', 'Ngũ Hành Sơn'), ('Ddà Nẵn', 'Đà Nẵng'), ('xoàng Diệu', 'Hoàng Diệu'), ('Khách scn', 'Khách sạn'), ('aoàng Diệu', 'Hoàng Diệu'), ('Nyà Hang', 'Nhà Hàng'), ('Nguzễn Văn Linh', 'Nguyễn Văn Linh'), ('Sơn drà', 'Sơn Trà'), ('Hoàng Diệm', 'Hoàng Diệu'), ('Smn Trà', 'Sơn Trà'), ('Nguyễn Vă nLin', 'Nguyễn Văn Linh'), ('Dq Nang', 'Đà Nẵng'), ('Khach sdn', 'Khách sạn'), ('kguễn Thái Học', 'Nguyễn Thái Học'), ('Dà rẵng', 'Đà Nẵng'), ('vguyễn Văn Linh', 'Nguyễn Văn Linh'), ('Khách xf', 'Khách sạn'), ('Đa ẵng', 'Đà Nẵng'), ('Sơ Chg', 'Sơn Trà'), ('Hoành Diệ', 'Hoàng Diệu'), ('Khasch snạ', 'Khách sạn'), ('whách sạn', 'Khách sạn'), ('Nh Hbng', 'Nhà Hàng'), ('bbnh viện', 'bệnh viện'), ('bệnh xiệs', 'bệnh viện'), ('là Nẵng', 'Đà Nẵng'), ('Hoàng Dieejc', 'Hoàng Diệu'), ('Sn rTà', 'Sơn Trà'), ('Sơn Tà', 'Sơn Trà'), ('Nhaf Hng', 'Nhà Hàng'), ('hNaf Hàn', 'Nhà Hàng'), ('bệnh việq', 'bệnh viện'), ('Kfáck xạn', 'Khách sạn'), ('Sown hCà', 'Sơn Trà'), ('Nhr Hàg', 'Nhà Hàng'), ('Nguễyn Thái Hok', 'Nguyễn Thái Học'), ('Khákc sạn', 'Khách sạn'), ('kà Hàng', 'Nhà Hàng'), ('Khách kạ', 'Khách sạn'), ('Đaf Lẵng', 'Đà Nẵng'), ('Ngux ành Sơn', 'Ngũ Hành Sơn'), ('Ngũ Hàph Sơn', 'Ngũ Hành Sơn'), ('Khcáh san', 'Khách sạn'), ('Khách gạn', 'Khách sạn'), ('Nguễyn Thai Hok', 'Nguyễn Thái Học'), ('rơn Trà', 'Sơn Trà'), ('Hàng Giiệu', 'Hoàng Diệu'), ('bnh vjện', 'bệnh viện'), ('Đà eẵng', 'Đà Nẵng'), ('Nguyễn Vln Linh', 'Nguyễn Văn Linh'), ('bện hiện', 'bệnh viện'), ('bệnh wiện', 'bệnh viện'), ('Khác hxan', 'Khách sạn'), ('Nhà Hafnc', 'Nhà Hàng'), ('Nha Hàns', 'Nhà Hàng'), ('xơn Traf', 'Sơn Trà'), ('Đà Nẵnj', 'Đà Nẵng'), ('Káhch sajn', 'Khách sạn'), ('woàng Diệu', 'Hoàng Diệu'), ('Dà Nẵn', 'Đà Nẵng'), ('bệnh miện', 'bệnh viện'), ('Ngyuễn Văn Lin', 'Nguyễn Văn Linh'), ('Hoàng niệ', 'Hoàng Diệu'), ('bệnh việf', 'bệnh viện'), ('hguyễ nVăn Linh', 'Nguyễn Văn Linh'), ('Đaf wẵng', 'Đà Nẵng'), ('Nguyễn Táhi Họ', 'Nguyễn Thái Học'), ('gũ Hành Sn', 'Ngũ Hành Sơn'), ('Nguyễn Thvi Hok', 'Nguyễn Thái Học'), ('Ncaf Hàn', 'Nhà Hàng'), ('xguyn Văn Linh', 'Nguyễn Văn Linh'), ('Nguyễn Thát Hok', 'Nguyễn Thái Học'), ('Khách sạ', 'Khách sạn'), ('Nguyễ nThái Học', 'Nguyễn Thái Học'), ('Nguen Văn Linh', 'Nguyễn Văn Linh'), ('Ngũ Hynk Sơn', 'Ngũ Hành Sơn'), ('Ngyyễn Văn Linh', 'Nguyễn Văn Linh'), ('dong Diuệ', 'Hoàng Diệu'), ('Nha oafng', 'Nhà Hàng'), ('Nguyễn Thasj Họ', 'Nguyễn Thái Học'), ('khách sạn', 'Khách sạn'), ('Ntũ Hành Sơn', 'Ngũ Hành Sơn'), ('Houng Diệu', 'Hoàng Diệu'), ('Ddà Nẵny', 'Đà Nẵng'), ('Nguyễn Văn Njnh', 'Nguyễn Văn Linh'), ('pệnh việ', 'bệnh viện'), ('Ngũ Hafn Sơn', 'Ngũ Hành Sơn'), ('nhcáh xạn', 'Khách sạn'), ('àĐ Nẵnr', 'Đà Nẵng'), ('Nguyễn Văn Lin', 'Nguyễn Văn Linh'), ('Hoàng piệ', 'Hoàng Diệu'), ('Kác sạn', 'Khách sạn'), ('Nguyễn Văn qinh', 'Nguyễn Văn Linh'), ('Son nrà', 'Sơn Trà'), ('Đaf Nẵtg', 'Đà Nẵng'), ('D àNẵn', 'Đà Nẵng'), ('Xơn Tcà', 'Sơn Trà'), ('Nguyễs Thasi Học', 'Nguyễn Thái Học'), ('D àNẵng', 'Đà Nẵng'), ('Nguyan Văn Linh', 'Nguyễn Văn Linh'), ('Nnà Hàng', 'Nhà Hàng'), ('bệnh vifn', 'bệnh viện'), ('beejnh vện', 'bệnh viện'), ('qguyễn Văn Linh', 'Nguyễn Văn Linh'), ('bệnb viện', 'bệnh viện'), ('bệnj viện', 'bệnh viện'), ('bvnh viện', 'bệnh viện'), ('Nguyen Văn Linh', 'Nguyễn Văn Linh'), ('guyeexn Văn Ninh', 'Nguyễn Văn Linh'), ('Nhà à', 'Nhà Hàng'), ('Nguyễn Van Ljnh', 'Nguyễn Văn Linh'), ('guyễn Thái Họ', 'Nguyễn Thái Học'), ('zơn Chà', 'Sơn Trà'), ('Nhaf hafng', 'Nhà Hàng'), ('Ddw Nẵng', 'Đà Nẵng'), ('Khach sln', 'Khách sạn'), ('Nhà Hnà', 'Nhà Hàng'), ('Hogng Dieu', 'Hoàng Diệu'), ('Đaf Nn', 'Đà Nẵng'), ('Nguyen Thái ọHc', 'Nguyễn Thái Học'), ('bệnk biện', 'bệnh viện'), ('Ngw Hàn Sơn', 'Ngũ Hành Sơn'), ('Nguễyn Văn Ljnh', 'Nguyễn Văn Linh'), ('Đà ẵug', 'Đà Nẵng'), ('en vện', 'bệnh viện'), ('Nhà Hwng', 'Nhà Hàng'), ('bệnh việt', 'bệnh viện'), ('g Hành Sơn', 'Ngũ Hành Sơn'), ('Đà Nẵn', 'Đà Nẵng'), ('Khách son', 'Khách sạn'), ('Hoàeg Diệp', 'Hoàng Diệu'), ('Hoàng ệiu', 'Hoàng Diệu'), ('Hoànm Diệu', 'Hoàng Diệu'), ('Khach sạ', 'Khách sạn'), ('bệnh vjện', 'bệnh viện'), ('pgũ Hành Sơn', 'Ngũ Hành Sơn'), ('Stn Trà', 'Sơn Trà'), ('oàng Giiệu', 'Hoàng Diệu'), ('Nguyễn făn Linh', 'Nguyễn Văn Linh'), ('Nhà Hànr', 'Nhà Hàng'), ('Khgch sạn', 'Khách sạn'), ('zhà àng', 'Nhà Hàng'), ('Nguyễn Vpn Linh', 'Nguyễn Văn Linh'), ('vhà Hang', 'Nhà Hàng'), ('Ddà Nẵnk', 'Đà Nẵng'), ('Nguyễn Văn Liah', 'Nguyễn Văn Linh'), ('ệbnh vinệ', 'bệnh viện'), ('cơn Tri', 'Sơn Trà'), ('Nguyễn Thái ok', 'Nguyễn Thái Học'), ('Nguyễ Văn tinh', 'Nguyễn Văn Linh'), ('Nhaf Hànp', 'Nhà Hàng'), ('bệlh viện', 'bệnh viện'), ('Nguyễn khái Hojc', 'Nguyễn Thái Học'), ('bện việ', 'bệnh viện'), ('gNuycn Thái Học', 'Nguyễn Thái Học'), ('Nhà Htng', 'Nhà Hàng'), ('Sơp Tra', 'Sơn Trà'), ('Đi Nẵng', 'Đà Nẵng'), ('gNuyễn Thasi Học', 'Nguyễn Thái Học'), ('Nhà Hàjg', 'Nhà Hàng'), ('Nhà àn', 'Nhà Hàng'), ('Ngũ Hpnh Sơn', 'Ngũ Hành Sơn'), ('Nià Hang', 'Nhà Hàng'), ('bệnh viw', 'bệnh viện'), ('Khácl sạn', 'Khách sạn'), ('Ngũ Hsnh Sown', 'Ngũ Hành Sơn'), ('Đà Nẵnr', 'Đà Nẵng'), ('Nhà Hàne', 'Nhà Hàng'), ('Đà Nyng', 'Đà Nẵng'), ('Khack sạn', 'Khách sạn'), ('nệnh vieejn', 'bệnh viện'), ('Nguyen Văn Lin', 'Nguyễn Văn Linh'), ('lhách sạn', 'Khách sạn'), ('Nguydn Văn Ljnh', 'Nguyễn Văn Linh'), ('Ngũ Hành Sin', 'Ngũ Hành Sơn'), ('ơSn Tro', 'Sơn Trà'), ('Xdn Trà', 'Sơn Trà'), ('Khádh sạn', 'Khách sạn'), ('Đà Nawxgn', 'Đà Nẵng'), ('Hoang Djệu', 'Hoàng Diệu'), ('Nguyễn Tháf Học', 'Nguyễn Thái Học'), ('vệnh vieejn', 'bệnh viện'), ('Ngu Hafnh Sơn', 'Ngũ Hành Sơn'), ('hà Hànu', 'Nhà Hàng'), ('Nguyeexn Thasi Học', 'Nguyễn Thái Học'), ('bệwh viện', 'bệnh viện'), ('Hoàng Diệj', 'Hoàng Diệu'), ('Kháck sajn', 'Khách sạn'), ('Sơn Tsà', 'Sơn Trà'), ('Sơn Trp', 'Sơn Trà'), ('Sơn Cà', 'Sơn Trà'), ('zệnh viện', 'bệnh viện'), ('Khzch sạn', 'Khách sạn'), ('Ngyễn Văn iLnh', 'Nguyễn Văn Linh'), ('bệnh ivện', 'bệnh viện'), ('Sob Trà', 'Sơn Trà'), ('Ngũ Hành lơn', 'Ngũ Hành Sơn'), ('Hoàng Giaệu', 'Hoàng Diệu'), ('Ngeyễn Thái Hoc', 'Nguyễn Thái Học'), ('Nguyễn Thá iHojc', 'Nguyễn Thái Học'), ('Đà Nẵnu', 'Đà Nẵng'), ('Nguyễn Văn linh', 'Nguyễn Văn Linh'), ('jệnh việ', 'bệnh viện'), ('Nguyễj Thái Hok', 'Nguyễn Thái Học'), ('jhasch sạn', 'Khách sạn'), ('guyễn Thasi Học', 'Nguyễn Thái Học'), ('Đaf ẵng', 'Đà Nẵng'), ('Nguyễn Văn Liwh', 'Nguyễn Văn Linh'), ('Nguyễn Văn Likh', 'Nguyễn Văn Linh'), ('Nũg Hành Sơn', 'Ngũ Hành Sơn'), ('Hoànb Diệu', 'Hoàng Diệu'), ('Khch sạw', 'Khách sạn'), ('Nguyễn Văn dinh', 'Nguyễn Văn Linh'), ('Hoànk Diệu', 'Hoàng Diệu'), ('Sơ nTà', 'Sơn Trà'), ('Nguyễn ăn Ljnh', 'Nguyễn Văn Linh'), ('Ngũ Hành aơ', 'Ngũ Hành Sơn'), ('Đà Nẵgg', 'Đà Nẵng'), ('Ngũ àHnh Sơn', 'Ngũ Hành Sơn'), ('Ng ũHành Xơn', 'Ngũ Hành Sơn'), ('Nhà yàg', 'Nhà Hàng'), ('Hoang Giiệ', 'Hoàng Diệu'), ('Hoang Diệu', 'Hoàng Diệu'), ('Nuyễn Văn Linh', 'Nguyễn Văn Linh'), ('Hobng Diệu', 'Hoàng Diệu'), ('Ngũ Hàqh Sơn', 'Ngũ Hành Sơn'), ('ệbnk viện', 'bệnh viện'), ('Nguyễn Văn Linw', 'Nguyễn Văn Linh'), ('Ngũ Hành cơn', 'Ngũ Hành Sơn'), ('Khasch sạ', 'Khách sạn'), ('Ngukễn Vn Ljnh', 'Nguyễn Văn Linh'), ('Sơi Trà', 'Sơn Trà'), ('Nguyễn Thái dọc', 'Nguyễn Thái Học'), ('Nguyễn Thái Họd', 'Nguyễn Thái Học'), ('Dà Lng', 'Đà Nẵng'), ('Khách sbn', 'Khách sạn'), ('Ngũ Hành Sơy', 'Ngũ Hành Sơn'), ('Khách xạs', 'Khách sạn'), ('Ddà Nẵb', 'Đà Nẵng'), ('Nguyễn Tkasi Học', 'Nguyễn Thái Học'), ('bệnh vieej', 'bệnh viện'), ('Đà xẵng', 'Đà Nẵng'), ('Hoàng ciệu', 'Hoàng Diệu'), ('oHàng Djệ', 'Hoàng Diệu'), ('Xqn Trà', 'Sơn Trà'), ('Ngũ Hành Sơb', 'Ngũ Hành Sơn'), ('Xơn rb', 'Sơn Trà'), ('Ngũ Hành qơ', 'Ngũ Hành Sơn'), ('Ng ũành Sơn', 'Ngũ Hành Sơn'), ('Nha Hàjg', 'Nhà Hàng'), ('Đ Nung', 'Đà Nẵng'), ('Khách oajn', 'Khách sạn'), ('Nruyễn Văn Linh', 'Nguyễn Văn Linh'), ('Nhà Hàbg', 'Nhà Hàng'), ('Xơn Trg', 'Sơn Trà'), ('gũ Hafnh Sơn', 'Ngũ Hành Sơn'), ('bệnh vibn', 'bệnh viện'), ('Nkà Hnàg', 'Nhà Hàng'), ('Ngkyễn Văn Ninh', 'Nguyễn Văn Linh'), ('Nguyyn Văn Linh', 'Nguyễn Văn Linh'), ('Nguyễn Táhi Hojc', 'Nguyễn Thái Học'), ('Ngf Hành Sơ', 'Ngũ Hành Sơn'), ('Đà awxng', 'Đà Nẵng'), ('bệnh việc', 'bệnh viện'), ('xơn Trà', 'Sơn Trà'), ('Nguyễn Thá Họ', 'Nguyễn Thái Học'), ('Khácp sạn', 'Khách sạn'), ('Nuà àHng', 'Nhà Hàng'), ('hhà Hafng', 'Nhà Hàng'), ('Nguyễn Văn vinh', 'Nguyễn Văn Linh'), ('Khhc sạf', 'Khách sạn'), ('Nhà Hafwg', 'Nhà Hàng'), ('Ngux àHnh Sơn', 'Ngũ Hành Sơn'), ('Ngujễn Thái Học', 'Nguyễn Thái Học'), ('Ngũ Hanh own', 'Ngũ Hành Sơn'), ('Nnuyễn Thái Học', 'Nguyễn Thái Học'), ('menh viện', 'bệnh viện'), ('beejnh ivện', 'bệnh viện'), ('Đà Nong', 'Đà Nẵng'), ('Ngũ Hànj Sơn', 'Ngũ Hành Sơn'), ('Nguyễn Thai Họ', 'Nguyễn Thái Học'), ('Hoafn Diệu', 'Hoàng Diệu'), ('oà ẵng', 'Đà Nẵng'), ('Đà Nung', 'Đà Nẵng'), ('gNuyễn Văn Linh', 'Nguyễn Văn Linh'), ('Xơn Tr', 'Sơn Trà'), ('nà Nẵn', 'Đà Nẵng'), ('Nguyn Thi Hojc', 'Nguyễn Thái Học'), ('Đà Nẵvg', 'Đà Nẵng'), ('Hoàkg Diệu', 'Hoàng Diệu'), ('bệnh vjệj', 'bệnh viện'), ('bệah viện', 'bệnh viện'), ('Đà Nẵnk', 'Đà Nẵng'), ('Ngyễn Văn Linh', 'Nguyễn Văn Linh'), ('bệnh viwn', 'bệnh viện'), ('Khasch sạw', 'Khách sạn'), ('Đà dang', 'Đà Nẵng'), ('Nhd Hàng', 'Nhà Hàng'), ('bệth viện', 'bệnh viện'), ('Hoàgn Dieeju', 'Hoàng Diệu'), ('Kháck ạn', 'Khách sạn'), ('Nhuyễn Thái Học', 'Nguyễn Thái Học'), ('Sown Trd', 'Sơn Trà'), ('Hoafng Diuệ', 'Hoàng Diệu'), ('Nguyn Thasi Hk', 'Nguyễn Thái Học'), ('Ngũ Hknh Sơn', 'Ngũ Hành Sơn'), ('Ngũ Hành sơn', 'Ngũ Hành Sơn'), ('Nguycn Văn Linh', 'Nguyễn Văn Linh'), ('Kháhc xạn', 'Khách sạn'), ('gũ Haflh Sơw', 'Ngũ Hành Sơn'), ('bệnx viện', 'bệnh viện'), ('bệnh ệin', 'bệnh viện'), ('Khách lajn', 'Khách sạn'), ('Ngũ knàh Sơn', 'Ngũ Hành Sơn'), ('gNuyn Thái Học', 'Nguyễn Thái Học'), ('Hong Dieeju', 'Hoàng Diệu'), ('Hmàng Diệ', 'Hoàng Diệu'), ('Sơn Tzà', 'Sơn Trà'), ('Nhaf àHng', 'Nhà Hàng'), ('àĐ Nẵn', 'Đà Nẵng'), ('ơSn Tra', 'Sơn Trà'), ('Đaf Lang', 'Đà Nẵng'), ('Ng Hàng', 'Nhà Hàng'), ('bhách sạn', 'Khách sạn'), ('Nguyễn Văn einh', 'Nguyễn Văn Linh'), ('bệnh viun', 'bệnh viện'), ('Hoàng ieu', 'Hoàng Diệu'), ('Khhch sạn', 'Khách sạn'), ('Nguyễn jhái Học', 'Nguyễn Thái Học'), ('Hoàlg Djệu', 'Hoàng Diệu'), ('Nuyễn Văn Ljnh', 'Nguyễn Văn Linh'), ('Đg Nẵng', 'Đà Nẵng'), ('Neà dàng', 'Nhà Hàng'), ('àĐ Nnẵg', 'Đà Nẵng'), ('bdnh viện', 'bệnh viện'), ('gNũ Hafnh Sơn', 'Ngũ Hành Sơn'), ('Nguyễn rhái Học', 'Nguyễn Thái Học'), ('Sơl Tre', 'Sơn Trà'), ('Nha Hàne', 'Nhà Hàng'), ('Nhà Hgng', 'Nhà Hàng'), ('Nxaf Hàn', 'Nhà Hàng'), ('Nbryễn Văn Ninh', 'Nguyễn Văn Linh'), ('Ngũ Hàni Xơn', 'Ngũ Hành Sơn'), ('Dà Nẵnp', 'Đà Nẵng'), ('Ngủ Hànk Xơ', 'Ngũ Hành Sơn'), ('Khác hsạn', 'Khách sạn'), ('Nguyễn Thá iHọc', 'Nguyễn Thái Học'), ('Ng ũHnh Sn', 'Ngũ Hành Sơn'), ('Nguyễn an Linh', 'Nguyễn Văn Linh'), ('Nhà Hàmg', 'Nhà Hàng'), ('Son Tr', 'Sơn Trà'), ('Ngũ Hàng Sown', 'Ngũ Hành Sơn'), ('oà Nawxg', 'Đà Nẵng'), ('qà Lẵng', 'Đà Nẵng'), ('bện hvieejn', 'bệnh viện'), ('Kháak sạn', 'Khách sạn'), ('guyễn Thái Học', 'Nguyễn Thái Học'), ('Hoàg Diệ', 'Hoàng Diệu'), ('Đà Nẵhg', 'Đà Nẵng'), ('Nguyễn Tqái Hojc', 'Nguyễn Thái Học'), ('Ngũ Hành Se', 'Ngũ Hành Sơn'), ('Ngayễn Tháj Học', 'Nguyễn Thái Học'), ('uháck sạn', 'Khách sạn'), ('Sơn Chà', 'Sơn Trà'), ('Ngu àHnh Sơn', 'Ngũ Hành Sơn'), ('Ngũ Hànk Xn', 'Ngũ Hành Sơn'), ('oàng Djeu', 'Hoàng Diệu'), ('Noũ Hnàh Sơn', 'Ngũ Hành Sơn'), ('Hoàng Disu', 'Hoàng Diệu'), ('Đà Nẵcg', 'Đà Nẵng'), ('Nguễyn Văn Link', 'Nguyễn Văn Linh'), ('Nguyeexn Văn Lmnh', 'Nguyễn Văn Linh'), ('Ngũ Hrnh Sơn', 'Ngũ Hành Sơn'), ('bệnh vgện', 'bệnh viện'), ('Xơ Chà', 'Sơn Trà'), ('Xơn rrà', 'Sơn Trà'), ('bệnh vih', 'bệnh viện'), ('Đf Ndng', 'Đà Nẵng'), ('Khlch sm', 'Khách sạn'), ('Hoàng Giiuệ', 'Hoàng Diệu'), ('Đà Nẵnc', 'Đà Nẵng'), ('gNuyễn Thái Họ', 'Nguyễn Thái Học'), ('Hoàng Diệc', 'Hoàng Diệu'), ('Nka Hafgn', 'Nhà Hàng'), ('Hoàng Die', 'Hoàng Diệu'), ('Khasth sạn', 'Khách sạn'), ('Shn Chà', 'Sơn Trà'), ('Nguyễ Vln Link', 'Nguyễn Văn Linh'), ('Nguễn Văn Lqnh', 'Nguyễn Văn Linh'), ('bệny vieejn', 'bệnh viện'), ('Khách szn', 'Khách sạn'), ('Khácu sạn', 'Khách sạn'), ('Ngubễn Thái Học', 'Nguyễn Thái Học'), ('Sơu Trà', 'Sơn Trà'), ('Hoàg Diệu', 'Hoàng Diệu'), ('Nguyễn Thái Họe', 'Nguyễn Thái Học'), ('Nmuyễn Văn Linh', 'Nguyễn Văn Linh'), ('Nguyễn hTái Họ', 'Nguyễn Thái Học'), ('Nguyễk Thái Học', 'Nguyễn Thái Học'), ('bệnh liện', 'bệnh viện'), ('Đà Nawxg', 'Đà Nẵng'), ('bệnh việh', 'bệnh viện'), ('Sơp Trà', 'Sơn Trà'), ('Khach ạsn', 'Khách sạn'), ('Nguyễn Táj Học', 'Nguyễn Thái Học'), ('Nguynễ Tkái Học', 'Nguyễn Thái Học'), ('bệnh việg', 'bệnh viện'), ('Nguyễx Thái Học', 'Nguyễn Thái Học'), ('Nhà kàng', 'Nhà Hàng'), ('Đà Neng', 'Đà Nẵng'), ('Kmách xạn', 'Khách sạn'), ('Xn Trà', 'Sơn Trà'), ('bệnh vkện', 'bệnh viện'), ('Ngũ Hafnk Xơn', 'Ngũ Hành Sơn'), ('Nũ Hành Sơn', 'Ngũ Hành Sơn'), ('Hoàng jiệu', 'Hoàng Diệu'), ('Nguyễn Thasi Hk', 'Nguyễn Thái Học'), ('Nguyễn Văn Linp', 'Nguyễn Văn Linh'), ('hKáck sạn', 'Khách sạn'), ('và Nẵn', 'Đà Nẵng'), ('Honàg Diru', 'Hoàng Diệu'), ('gNyuễn Thái Học', 'Nguyễn Thái Học'), ('Ngũ cành Sơn', 'Ngũ Hành Sơn'), ('Ngũ Hành fơn', 'Ngũ Hành Sơn'), ('Nguyễn Tháy Học', 'Nguyễn Thái Học'), ('Hozng Djệ', 'Hoàng Diệu'), ('Kách sen', 'Khách sạn'), ('bệnt viện', 'bệnh viện'), ('xà Nẵng', 'Đà Nẵng'), ('fhà àng', 'Nhà Hàng'), ('benh vibn', 'bệnh viện'), ('Ngũ Hafnh Son', 'Ngũ Hành Sơn'), ('brnh viện', 'bệnh viện'), ('aệnh viện', 'bệnh viện'), ('Đà Nẵnv', 'Đà Nẵng'), ('Khach sn', 'Khách sạn'), ('bệvh viện', 'bệnh viện'), ('Hotng Diệu', 'Hoàng Diệu'), ('fệnh viện', 'bệnh viện'), ('Nguyễn Thas iHọc', 'Nguyễn Thái Học'), ('Hoàng Dqeeju', 'Hoàng Diệu'), ('qhà Hàn', 'Nhà Hàng'), ('Đa Lawxng', 'Đà Nẵng'), ('Hoàng Dieej', 'Hoàng Diệu'), ('bệnh việl', 'bệnh viện'), ('Kháci sạ', 'Khách sạn'), ('Nglyễn Thái Học', 'Nguyễn Thái Học'), ('Sơw Trà', 'Sơn Trà'), ('Hoàng Diau', 'Hoàng Diệu'), ('Nhà Hànn', 'Nhà Hàng'), ('ha Hang', 'Nhà Hàng'), ('Dà Lẵng', 'Đà Nẵng'), ('bệni vipn', 'bệnh viện'), ('Nguyễn ăVn Lnih', 'Nguyễn Văn Linh'), ('yguyễn Văn Linh', 'Nguyễn Văn Linh'), ('Nguyễn Thán Hok', 'Nguyễn Thái Học'), ('Nlũ Hành Sơn', 'Ngũ Hành Sơn'), ('oàng iệu', 'Hoàng Diệu'), ('Hoàng Diuệ', 'Hoàng Diệu'), ('ioàn gDiệu', 'Hoàng Diệu'), ('Nguyễn hái Hok', 'Nguyễn Thái Học'), ('Khasqh sạn', 'Khách sạn'), ('bệnh ojện', 'bệnh viện'), ('bệnh việz', 'bệnh viện'), ('Nguyễn Tkmi Học', 'Nguyễn Thái Học'), ('Nguễyn ăVn Linh', 'Nguyễn Văn Linh'), ('ơn Tra', 'Sơn Trà'), ('Ngũ Hàdh Sơn', 'Ngũ Hành Sơn'), ('fơn Trà', 'Sơn Trà'), ('dà Nẵng', 'Đà Nẵng'), ('eơn Trà', 'Sơn Trà'), ('Ngudễn Văn Linh', 'Nguyễn Văn Linh'), ('Sqn Tjà', 'Sơn Trà'), ('Kháhc sạn', 'Khách sạn'), ('Ngyuễn Tháj Học', 'Nguyễn Thái Học'), ('Nũg Hành Xơn', 'Ngũ Hành Sơn'), ('Ngũ Hành wơn', 'Ngũ Hành Sơn'), ('Ngủ Hành Sơ', 'Ngũ Hành Sơn'), ('àĐ Lawxng', 'Đà Nẵng'), ('bhà Hàng', 'Nhà Hàng'), ('Nguyễn Vnă Ljnh', 'Nguyễn Văn Linh'), ('Hdàng Djệ', 'Hoàng Diệu'), ('sguyễn Văn Linh', 'Nguyễn Văn Linh'), ('Hoàng Diệy', 'Hoàng Diệu'), ('Nguynễ Văn Liqh', 'Nguyễn Văn Linh'), ('Ddà Nẵgn', 'Đà Nẵng'), ('Hodng Diuệ', 'Hoàng Diệu'), ('Nh àHàng', 'Nhà Hàng'), ('Nguyễn Thái Hsk', 'Nguyễn Thái Học'), ('guyễn Văn Link', 'Nguyễn Văn Linh'), ('Xin Trà', 'Sơn Trà'), ('voàng Diệu', 'Hoàng Diệu'), ('Ngũ Hafnh Sn', 'Ngũ Hành Sơn'), ('Hoàng Diệs', 'Hoàng Diệu'), ('Sơn Traf', 'Sơn Trà'), ('Khjch sạn', 'Khách sạn'), ('Ngũ zành Sơn', 'Ngũ Hành Sơn'), ('bệnh vyệ', 'bệnh viện'), ('Đà gẵng', 'Đà Nẵng'), ('Kách sn', 'Khách sạn'), ('rguyễn Thái Hok', 'Nguyễn Thái Học'), ('Khcáh sạn', 'Khách sạn'), ('Ntà Hafng', 'Nhà Hàng'), ('Ngũ Hànk own', 'Ngũ Hành Sơn'), ('bệna vien', 'bệnh viện'), ('Đy Nẵng', 'Đà Nẵng'), ('Ngũ Hàn hSon', 'Ngũ Hành Sơn'), ('Sơs Traf', 'Sơn Trà'), ('Ngupễn Thái Hok', 'Nguyễn Thái Học'), ('Nugyeexn Văn Linh', 'Nguyễn Văn Linh'), ('Khasc sajn', 'Khách sạn'), ('Nguyễn ohái Hok', 'Nguyễn Thái Học'), ('Ngũ nành Xơn', 'Ngũ Hành Sơn'), ('gNuyễn Văn Lnih', 'Nguyễn Văn Linh'), ('ện viện', 'bệnh viện'), ('Ngy Hành Sơn', 'Ngũ Hành Sơn'), ('bệnh zieejn', 'bệnh viện'), ('Ngũ Hành Sowv', 'Ngũ Hành Sơn'), ('benh vjện', 'bệnh viện'), ('Nguyễn Thái Huk', 'Nguyễn Thái Học'), ('Đ Nẵag', 'Đà Nẵng'), ('Khách sajn', 'Khách sạn'), ('Nguwễn Thái Học', 'Nguyễn Thái Học'), ('Ngũ Henh Xơn', 'Ngũ Hành Sơn'), ('yệnh viện', 'bệnh viện'), ('Nhw Hàng', 'Nhà Hàng'), ('Sơn rTaf', 'Sơn Trà'), ('Khasck sạn', 'Khách sạn'), ('Nquyễn Thái Học', 'Nguyễn Thái Học'), ('Hoàdg Djệu', 'Hoàng Diệu'), ('Sox Trà', 'Sơn Trà'), ('Nguyễn Văn Nink', 'Nguyễn Văn Linh'), ('Nhà Hafg', 'Nhà Hàng'), ('hNà Hàfg', 'Nhà Hàng'), ('Hàong Diệ', 'Hoàng Diệu'), ('Ndũ Hành Sơf', 'Ngũ Hành Sơn'), ('Hàng Dieu', 'Hoàng Diệu'), ('Ngủ Hành So', 'Ngũ Hành Sơn'), ('Khách sxn', 'Khách sạn'), ('wà Nẵng', 'Đà Nẵng'), ('bệnh vicn', 'bệnh viện'), ('Nguyễn Vău Linh', 'Nguyễn Văn Linh'), ('Sơn Tlà', 'Sơn Trà'), ('Hong Diệu', 'Hoàng Diệu'), ('benh vj', 'bệnh viện'), ('bsnh viện', 'bệnh viện'), ('Nh àHafng', 'Nhà Hàng'), ('Nguyễn Thác Học', 'Nguyễn Thái Học'), ('Đà jawxng', 'Đà Nẵng'), ('Sơn raf', 'Sơn Trà'), ('oàng Dhệu', 'Hoàng Diệu'), ('Ngũ Hnàh Sơn', 'Ngũ Hành Sơn'), ('Nhà Hfng', 'Nhà Hàng'), ('Khácu xạn', 'Khách sạn'), ('yown Trà', 'Sơn Trà'), ('Khch ạn', 'Khách sạn'), ('Đa Nẵnj', 'Đà Nẵng'), ('ơ Trà', 'Sơn Trà'), ('Đaf Lnẵg', 'Đà Nẵng'), ('oàng Djệu', 'Hoàng Diệu'), ('Ng Hành Sown', 'Ngũ Hành Sơn'), ('Hoang Giieeju', 'Hoàng Diệu'), ('Nguyễn Tká iHok', 'Nguyễn Thái Học'), ('Nà Hàng', 'Nhà Hàng'), ('zơn Traf', 'Sơn Trà'), ('bệnh tieejn', 'bệnh viện'), ('Hoànv Diệu', 'Hoàng Diệu'), ('Nguyễn Văn Linu', 'Nguyễn Văn Linh'), ('nhách sạn', 'Khách sạn'), ('beejnh việ', 'bệnh viện'), ('Khách cạn', 'Khách sạn'), ('Ngzyễ nVawn Linh', 'Nguyễn Văn Linh'), ('Nhà Hàkg', 'Nhà Hàng'), ('Hoàng Dihu', 'Hoàng Diệu'), ('Khách yạn', 'Khách sạn'), ('Nguyễn Thasi Họq', 'Nguyễn Thái Học'), ('Ngũ Hành So', 'Ngũ Hành Sơn'), ('Nguyễn Văn Lina', 'Nguyễn Văn Linh'), ('Hàong iệu', 'Hoàng Diệu'), ('Nguyn Van Linh', 'Nguyễn Văn Linh'), ('Son Tra', 'Sơn Trà'), ('Kxách sạn', 'Khách sạn'), ('Nguyễn Văj Linh', 'Nguyễn Văn Linh'), ('Nhà Hàwg', 'Nhà Hàng'), ('Hoafgn Diệu', 'Hoàng Diệu'), ('Ngũ Hanh Sơn', 'Ngũ Hành Sơn'), ('Sơn Czà', 'Sơn Trà'), ('Hony Diệu', 'Hoàng Diệu'), ('àĐ Nẵng', 'Đà Nẵng'), ('Hcàng Diệu', 'Hoàng Diệu'), ('kơn Tà', 'Sơn Trà'), ('Nggyễn Văn yjnh', 'Nguyễn Văn Linh'), ('Nguyễn Vbn Linh', 'Nguyễn Văn Linh'), ('Hoang Dixu', 'Hoàng Diệu'), ('Honà gDiệu', 'Hoàng Diệu'), ('bệnh vipn', 'bệnh viện'), ('bệmh việ', 'bệnh viện'), ('Nguyễn Thai ọc', 'Nguyễn Thái Học'), ('Hoàng Dwệu', 'Hoàng Diệu'), ('Nguyen Thai Học', 'Nguyễn Thái Học'), ('Ngũ Hsnh Sơn', 'Ngũ Hành Sơn'), ('Hoqng Diệu', 'Hoàng Diệu'), ('Nguyễn Văn xinh', 'Nguyễn Văn Linh'), ('Đ Nẵn', 'Đà Nẵng'), ('Khách fạn', 'Khách sạn'), ('Ngyunễ Thái Học', 'Nguyễn Thái Học'), ('Khách sạj', 'Khách sạn'), ('Ngucễn Văn Linh', 'Nguyễn Văn Linh'), ('own Tàr', 'Sơn Trà'), ('Nguyễn Thái Hfc', 'Nguyễn Thái Học'), ('Nguynễ Văn inh', 'Nguyễn Văn Linh'), ('aơn Trà', 'Sơn Trà'), ('Kháh xạn', 'Khách sạn'), ('Hoafng Dieeju', 'Hoàng Diệu'), ('Khasco sạn', 'Khách sạn'), ('Nguyeexn ăn Linh', 'Nguyễn Văn Linh'), ('Khich sạn', 'Khách sạn'), ('Nh àHwng', 'Nhà Hàng'), ('Sơn Chb', 'Sơn Trà'), ('Nguyễn Thár ọc', 'Nguyễn Thái Học'), ('Khách sạo', 'Khách sạn'), ('Honàg Dieeju', 'Hoàng Diệu'), ('hKách sạn', 'Khách sạn'), ('jà Nẵng', 'Đà Nẵng'), ('Nuyễn Văn Link', 'Nguyễn Văn Linh'), ('Ngũ Hành jown', 'Ngũ Hành Sơn'), ('Hoàng Diwu', 'Hoàng Diệu'), ('xệnh việ', 'bệnh viện'), ('beejnk vpện', 'bệnh viện'), ('Ngeyễn Van Linh', 'Nguyễn Văn Linh'), ('Nhaf Hnz', 'Nhà Hàng'), ('Sơn Ceaf', 'Sơn Trà'), ('Nugytn Thái Học', 'Nguyễn Thái Học'), ('Nguyễn Táhi Hoc', 'Nguyễn Thái Học'), ('nhà Hàgn', 'Nhà Hàng'), ('Ngũ Hành yơn', 'Ngũ Hành Sơn'), ('Sin Trà', 'Sơn Trà'), ('bnệh vvện', 'bệnh viện'), ('Ngeyễn Thái Học', 'Nguyễn Thái Học'), ('Khach xajn', 'Khách sạn'), ('shà Hng', 'Nhà Hàng'), ('Ngũ Hành on', 'Ngũ Hành Sơn'), ('Nguyễy Văn Lin', 'Nguyễn Văn Linh'), ('Sơn Cuà', 'Sơn Trà'), ('Nuyễn Văn iinh', 'Nguyễn Văn Linh'), ('Nguyen Tkái Học', 'Nguyễn Thái Học'), ('Nvà Hafng', 'Nhà Hàng'), ('Ngũ Hànp Sơn', 'Ngũ Hành Sơn'), ('Sơn qrà', 'Sơn Trà'), ('Khách snn', 'Khách sạn'), ('Nguyễn Tkái Hhc', 'Nguyễn Thái Học'), ('Nguễn Văn Nink', 'Nguyễn Văn Linh'), ('lơn Trà', 'Sơn Trà'), ('Nhà Hànf', 'Nhà Hàng'), ('Hoàn Djệu', 'Hoàng Diệu'), ('gNuyễn Thái Hojc', 'Nguyễn Thái Học'), ('Xơn Tra', 'Sơn Trà'), (' àNẵng', 'Đà Nẵng'), ('Nhà ng', 'Nhà Hàng'), ('Nguyễn Văn Ltnh', 'Nguyễn Văn Linh'), ('Sơn Tàr', 'Sơn Trà'), ('Nguyễn zăn Linh', 'Nguyễn Văn Linh'), ('beejnh mieejn', 'bệnh viện'), ('Hoafng Dệiu', 'Hoàng Diệu'), ('Ngũ Hanh Xơn', 'Ngũ Hành Sơn'), ('Đaf Nẵni', 'Đà Nẵng'), ('Nguyễn Tdi Học', 'Nguyễn Thái Học'), ('hhà Hàng', 'Nhà Hàng'), ('Đà oẵn', 'Đà Nẵng'), ('Hràng Diệu', 'Hoàng Diệu'), ('bệnh vuện', 'bệnh viện'), ('Đà Lẵng', 'Đà Nẵng'), ('Nguyễn Tkáj Học', 'Nguyễn Thái Học'), ('Hoàng Digu', 'Hoàng Diệu'), ('Nguyen Văn Nin', 'Nguyễn Văn Linh'), ('doàng Diệu', 'Hoàng Diệu'), ('Khách xạy', 'Khách sạn'), ('Ngux Hànv Sown', 'Ngũ Hành Sơn'), ('Kiách xạn', 'Khách sạn'), ('Sơq Trà', 'Sơn Trà'), ('Hoànt Diệu', 'Hoàng Diệu'), ('Ngd Hanh Sơn', 'Ngũ Hành Sơn'), ('Nguyễn Văv Linh', 'Nguyễn Văn Linh'), ('Khasch sạs', 'Khách sạn'), ('Đà Nẵnb', 'Đà Nẵng'), ('benh vieejn', 'bệnh viện'), ('bnh vệin', 'bệnh viện'), ('Nuũ Hafnh Sơn', 'Ngũ Hành Sơn'), ('Khasch xan', 'Khách sạn'), ('Ngũ Hàvh Xơn', 'Ngũ Hành Sơn'), ('Nguyễ nVawn Linh', 'Nguyễn Văn Linh'), ('Hoàn gDcu', 'Hoàng Diệu'), ('Ngyễn Thái Hok', 'Nguyễn Thái Học'), ('yà Nẵng', 'Đà Nẵng'), ('v Nẵng', 'Đà Nẵng'), ('Khwch sạn', 'Khách sạn'), ('Đà Nẵns', 'Đà Nẵng'), ('bệxh viện', 'bệnh viện'), ('Khách xạp', 'Khách sạn'), ('Nguyễn Thi Học', 'Nguyễn Thái Học'), ('Ngũ Hafnh ơSn', 'Ngũ Hành Sơn'), ('Khách xfn', 'Khách sạn'), ('bệnk ajện', 'bệnh viện'), ('bệnh vjn', 'bệnh viện'), ('Sơu Traf', 'Sơn Trà'), ('Khtch sạn', 'Khách sạn'), ('Nguyan Văn Lin', 'Nguyễn Văn Linh'), ('Nguyễn răn Linh', 'Nguyễn Văn Linh'), ('Ddà Nhng', 'Đà Nẵng'), ('Đb Nawxng', 'Đà Nẵng'), ('Ngủ Hanh Sơn', 'Ngũ Hành Sơn'), ('Đà Lcng', 'Đà Nẵng'), ('Ngũ Hàjh Xơn', 'Ngũ Hành Sơn'), ('lệnh viện', 'bệnh viện'), ('Nkà àng', 'Nhà Hàng'), ('Sowi Trà', 'Sơn Trà'), ('Hoàgn Dkệu', 'Hoàng Diệu'), ('Ngryễn Văn Linh', 'Nguyễn Văn Linh'), ('Hsàng Djệu', 'Hoàng Diệu'), ('Nguyễn Tkai Học', 'Nguyễn Thái Học'), ('Đaf Nẵgg', 'Đà Nẵng'), ('Hoàag Dicu', 'Hoàng Diệu'), ('mhà Hàng', 'Nhà Hàng'), ('Nguyễn Vnn Linh', 'Nguyễn Văn Linh'), ('agũ Hành Sơn', 'Ngũ Hành Sơn'), ('Đà rẵng', 'Đà Nẵng'), ('bệnh vwện', 'bệnh viện'), ('bệhn vien', 'bệnh viện'), ('Skn Trà', 'Sơn Trà'), ('Nguyễ Thasi Học', 'Nguyễn Thái Học'), ('Nguyễa Thái Học', 'Nguyễn Thái Học'), ('Đà Nẵnd', 'Đà Nẵng'), ('Đà Ndng', 'Đà Nẵng'), ('Htàng Diệu', 'Hoàng Diệu'), ('Nhà eàng', 'Nhà Hàng'), ('Khascr sạn', 'Khách sạn'), ('ihà Hàng', 'Nhà Hàng'), ('Hoàng iDku', 'Hoàng Diệu'), ('Nguyễn kái Hok', 'Nguyễn Thái Học'), ('Sown brà', 'Sơn Trà'), ('Nàh Hnx', 'Nhà Hàng'), ('Đà yẵog', 'Đà Nẵng'), ('Son hà', 'Sơn Trà'), ('Nguynn Văn Nink', 'Nguyễn Văn Linh'), ('Hoàng Dbệu', 'Hoàng Diệu'), ('poàng Diệu', 'Hoàng Diệu'), ('Sơn Tnà', 'Sơn Trà'), ('bệnh viin', 'bệnh viện'), ('Ngũ Hàn Sown', 'Ngũ Hành Sơn'), ('Khácn sạn', 'Khách sạn'), ('Hsàng Giiệu', 'Hoàng Diệu'), ('Nhà Hàig', 'Nhà Hàng'), ('qệnh viện', 'bệnh viện'), ('bệnh việx', 'bệnh viện'), ('Nguynễ Tháj ọc', 'Nguyễn Thái Học'), ('Xơn Chaf', 'Sơn Trà'), ('Nguyễn Thái pọc', 'Nguyễn Thái Học'), ('Sơy Tr', 'Sơn Trà'), ('Kcách sạn', 'Khách sạn'), ('Honàg Dieu', 'Hoàng Diệu'), ('Ngũ Hnh Sơn', 'Ngũ Hành Sơn'), ('vơn Chà', 'Sơn Trà'), ('Nguyễn Văn Lixh', 'Nguyễn Văn Linh'), ('Xơn yrà', 'Sơn Trà'), ('Nhà Hafng', 'Nhà Hàng'), ('Sơ rà', 'Sơn Trà'), ('Nhà Haflg', 'Nhà Hàng'), ('Ngwyễn Thái Học', 'Nguyễn Thái Học'), ('Ngũ Hành Sn', 'Ngũ Hành Sơn'), ('Nàh wàng', 'Nhà Hàng'), ('Ngủ Hành Son', 'Ngũ Hành Sơn'), ('Hoang Diu', 'Hoàng Diệu'), ('Nguyễn Vn Ljnh', 'Nguyễn Văn Linh'), ('xhách sạn', 'Khách sạn'), ('Sơn jrà', 'Sơn Trà'), ('bệbh viện', 'bệnh viện'), ('Ngũ Hàfh Sơn', 'Ngũ Hành Sơn'), ('bệnk vện', 'bệnh viện'), ('tgũ Hành Sơn', 'Ngũ Hành Sơn'), ('Nguyễn Tkái Ho', 'Nguyễn Thái Học'), ('Dà Lẵn', 'Đà Nẵng'), ('Ngũ oành Sơn', 'Ngũ Hành Sơn'), ('Đà gawxn', 'Đà Nẵng'), ('Nhà Hjn', 'Nhà Hàng'), ('beejnh iện', 'bệnh viện'), ('Sown hrà', 'Sơn Trà'), ('nà Nawxng', 'Đà Nẵng'), ('zguyễn Thai Học', 'Nguyễn Thái Học'), ('uệnh viện', 'bệnh viện'), ('Ddà Nawxng', 'Đà Nẵng'), ('bệnh việv', 'bệnh viện'), ('Nguyễn dă nLinh', 'Nguyễn Văn Linh'), ('Đc Nẵlg', 'Đà Nẵng'), ('Ngũ Hinh Sơn', 'Ngũ Hành Sơn'), ('Hoàng Diệw', 'Hoàng Diệu'), ('Nhk Hàng', 'Nhà Hàng'), ('Hoàng Dieeju', 'Hoàng Diệu'), ('beejnh jiện', 'bệnh viện'), ('Nhà yàng', 'Nhà Hàng'), ('S Trà', 'Sơn Trà'), ('Hoang Dibu', 'Hoàng Diệu'), ('bệnh vjeej', 'bệnh viện'), ('Ngũ Hành Sov', 'Ngũ Hành Sơn'), ('Hoàn Giieeju', 'Hoàng Diệu'), ('Nguyễn Văn iinh', 'Nguyễn Văn Linh'), ('ihà Hàgn', 'Nhà Hàng'), ('Khech sạn', 'Khách sạn'), ('dguyễn Văn Linh', 'Nguyễn Văn Linh'), ('Hoàxg Diệu', 'Hoàng Diệu'), ('Khách an', 'Khách sạn'), ('Nguyễn Văn Ljn', 'Nguyễn Văn Linh'), ('hKách san', 'Khách sạn'), ('Ngũ Hành ơS', 'Ngũ Hành Sơn'), ('Nguyễn Văn Linj', 'Nguyễn Văn Linh'), ('Ngũ Hành ơ', 'Ngũ Hành Sơn'), ('Đà Nẵbg', 'Đà Nẵng'), ('Ngũ Hafnk Sơ', 'Ngũ Hành Sơn'), ('Nhaf Hàng', 'Nhà Hàng'), ('Kácy sạn', 'Khách sạn'), ('cơn Trà', 'Sơn Trà'), ('Kmách sạn', 'Khách sạn'), ('Xnơ Chà', 'Sơn Trà'), ('bynh viện', 'bệnh viện'), ('Sơn Cfà', 'Sơn Trà'), ('Nhà Hafnj', 'Nhà Hàng'), ('bsnh việ', 'bệnh viện'), ('Sown Trm', 'Sơn Trà'), ('Kháck scn', 'Khách sạn'), ('Nhà Hànw', 'Nhà Hàng'), ('Nguynễ Van Linh', 'Nguyễn Văn Linh'), ('haf Hàng', 'Nhà Hàng'), ('Nh Hang', 'Nhà Hàng'), ('bện hvện', 'bệnh viện'), ('Ngũ Hành Sơx', 'Ngũ Hành Sơn'), ('Nh àHànt', 'Nhà Hàng'), ('Sơn Trm', 'Sơn Trà'), ('Nauyễn Văn Linh', 'Nguyễn Văn Linh'), ('Dà Nng', 'Đà Nẵng'), ('Ddà Nng', 'Đà Nẵng'), ('Sown Tà', 'Sơn Trà'), ('Sơn erà', 'Sơn Trà'), ('Xown Trà', 'Sơn Trà'), ('Khácl san', 'Khách sạn'), ('Nguynễ Tkiá Hok', 'Nguyễn Thái Học'), ('Nugyễn Thái Ho', 'Nguyễn Thái Học'), ('ben việ', 'bệnh viện'), ('Nguyễn Văn Liph', 'Nguyễn Văn Linh'), ('Xơ nTrà', 'Sơn Trà'), ('Ngũ Hàn hXơn', 'Ngũ Hành Sơn'), ('Kách sạ', 'Khách sạn'), ('Đa Nnẵg', 'Đà Nẵng'), ('Hoàng iệu', 'Hoàng Diệu'), ('Ngũ Hành Sơg', 'Ngũ Hành Sơn'), ('Nhà Hàf', 'Nhà Hàng'), ('Hdàng Diệu', 'Hoàng Diệu'), ('Xơn trà', 'Sơn Trà'), ('bệnn viện', 'bệnh viện'), ('Nguynễ Văn Lin', 'Nguyễn Văn Linh'), ('Neuyễn Văn Linh', 'Nguyễn Văn Linh'), ('Nhi Hnàg', 'Nhà Hàng'), ('Khlwh xạn', 'Khách sạn'), ('Nguyeexn Thái Hojc', 'Nguyễn Thái Học'), ('Khghc sạ', 'Khách sạn'), ('Nhà Hàh', 'Nhà Hàng'), ('Nguyễn Văx Linh', 'Nguyễn Văn Linh'), ('Ngũ Hafnh Xơn', 'Ngũ Hành Sơn'), ('hasch sạ', 'Khách sạn'), ('bện viện', 'bệnh viện'), ('Đà Nmng', 'Đà Nẵng'), ('beejah viện', 'bệnh viện'), ('Káhch san', 'Khách sạn'), ('Nh ààn', 'Nhà Hàng'), ('Khasch xnạ', 'Khách sạn'), ('Ngu Hành Sown', 'Ngũ Hành Sơn'), ('Xơn Tyà', 'Sơn Trà'), ('Nguyễn Văn Ln', 'Nguyễn Văn Linh'), ('Nugyễn Thái wọc', 'Nguyễn Thái Học'), ('Ngux Hàne Snơ', 'Ngũ Hành Sơn'), ('Scn Trà', 'Sơn Trà'), ('Ngũ àHnk Sơ', 'Ngũ Hành Sơn'), ('Káhck xạn', 'Khách sạn'), ('lguyễn Văn Linh', 'Nguyễn Văn Linh'), ('Nguyeexn Thá Học', 'Nguyễn Thái Học'), ('Ngũ Hành eơn', 'Ngũ Hành Sơn'), ('Nguyễn Thasj Học', 'Nguyễn Thái Học'), ('Ngumễn Thai Học', 'Nguyễn Thái Học'), ('bệnh qện', 'bệnh viện'), ('Xơn Tàr', 'Sơn Trà'), ('Nhà ràn', 'Nhà Hàng'), ('Khách sqn', 'Khách sạn'), ('bxnh viện', 'bệnh viện'), ('bệnh việa', 'bệnh viện'), ('bệnh việw', 'bệnh viện'), ('Nhà Hàn', 'Nhà Hàng'), ('Nguxễn Thái Học', 'Nguyễn Thái Học'), ('Nguyễn Văn iLnh', 'Nguyễn Văn Linh'), ('Nguyễn Van Linh', 'Nguyễn Văn Linh'), ('Đe Lẵng', 'Đà Nẵng'), ('beejnh vjện', 'bệnh viện'), ('Nhà àHg', 'Nhà Hàng'), ('gux Hành Sơn', 'Ngũ Hành Sơn'), ('Ngũ Hành Sơ', 'Ngũ Hành Sơn'), ('Đaf Nang', 'Đà Nẵng'), ('Nguyeexn Tfái Hok', 'Nguyễn Thái Học'), ('Nuyễn Thái Học', 'Nguyễn Thái Học'), ('kà Nẵng', 'Đà Nẵng'), ('Đà Nkng', 'Đà Nẵng'), ('Hoàqg Giiệu', 'Hoàng Diệu'), ('Khádh sạ', 'Khách sạn'), ('xhà Hàn', 'Nhà Hàng'), ('Ngũ Hành Srn', 'Ngũ Hành Sơn'), ('Nguyễ săn Linh', 'Nguyễn Văn Linh'), ('Ngj Hành Xơn', 'Ngũ Hành Sơn'), ('Xơn Trd', 'Sơn Trà'), ('Ngux Hànk Sơn', 'Ngũ Hành Sơn'), ('Nguyễn Thái ọH', 'Nguyễn Thái Học'), ('Sơ Tra', 'Sơn Trà'), ('Ngũ Hhnh Sơn', 'Ngũ Hành Sơn'), ('Nga Hành Sơn', 'Ngũ Hành Sơn'), ('Nhb Hàn', 'Nhà Hàng'), ('Đà Nẵsg', 'Đà Nẵng'), ('lhác hsạn', 'Khách sạn'), ('Hoàng eiệu', 'Hoàng Diệu'), ('Nguyễ Vă nLinh', 'Nguyễn Văn Linh'), ('Sown Trj', 'Sơn Trà'), ('Nguyễq Văn Lin', 'Nguyễn Văn Linh'), ('Đà Ning', 'Đà Nẵng'), ('Nguyễn Van iinh', 'Nguyễn Văn Linh'), ('Nguyễn Thái Họp', 'Nguyễn Thái Học'), ('Daf Nawxng', 'Đà Nẵng'), ('oHàng Dieeju', 'Hoàng Diệu'), ('Nguyen Văn Li', 'Nguyễn Văn Linh'), ('Đà Nẵzg', 'Đà Nẵng'), ('Nugyễd Văn Linh', 'Nguyễn Văn Linh'), ('bện việy', 'bệnh viện'), ('Ngũ Hànd Sơn', 'Ngũ Hành Sơn'), ('vguyễn Thái Họ', 'Nguyễn Thái Học'), ('Kwách sạn', 'Khách sạn'), ('Ngũ iành Sơn', 'Ngũ Hành Sơn'), ('Sơn Tkà', 'Sơn Trà'), ('Khmch sạn', 'Khách sạn'), ('Hoàtg Giiệu', 'Hoàng Diệu'), ('Nxuễn Văn Linh', 'Nguyễn Văn Linh'), ('Sơn Ctà', 'Sơn Trà'), ('Nguyễn Văa Ninh', 'Nguyễn Văn Linh'), ('Haàng Diệu', 'Hoàng Diệu'), ('Nguyễo Văn Linh', 'Nguyễn Văn Linh'), ('Khasch ạn', 'Khách sạn'), ('Hoàng Diệo', 'Hoàng Diệu'), ('Sơn Chaf', 'Sơn Trà'), ('Xơp Trà', 'Sơn Trà'), ('Kháyh sajn', 'Khách sạn'), ('bệnq viện', 'bệnh viện'), ('bệnd vimn', 'bệnh viện'), ('mơn Chà', 'Sơn Trà'), ('Sơn Trl', 'Sơn Trà'), ('Ngũ ànk Sơn', 'Ngũ Hành Sơn'), ('Nũ Hafnh Sơn', 'Ngũ Hành Sơn'), ('benh in', 'bệnh viện'), ('Đ àNẵng', 'Đà Nẵng'), ('bệnh vyện', 'bệnh viện'), ('Kháck san', 'Khách sạn'), ('Hoàng Giệiu', 'Hoàng Diệu'), ('sơn Trà', 'Sơn Trà'), ('Đà cẵng', 'Đà Nẵng'), ('Nguyễn Thai ok', 'Nguyễn Thái Học'), ('Nha Hàbg', 'Nhà Hàng'), ('Nhà Hàsg', 'Nhà Hàng'), ('Sown Trà', 'Sơn Trà'), ('Ngũ Hanh ơn', 'Ngũ Hành Sơn'), ('bệnh yiện', 'bệnh viện'), ('nhà Hàng', 'Nhà Hàng'), ('Ngũ ành Sown', 'Ngũ Hành Sơn'), ('Khábh sạn', 'Khách sạn'), ('Ngũ Hành Smn', 'Ngũ Hành Sơn'), ('Sơ rTà', 'Sơn Trà'), ('bnệh viện', 'bệnh viện'), ('Hoàng Djru', 'Hoàng Diệu'), ('Nguyễn Táki Hok', 'Nguyễn Thái Học'), ('Ngũ Hàhn Xơn', 'Ngũ Hành Sơn'), ('bệnh voện', 'bệnh viện'), ('Nguyễn Thái họ', 'Nguyễn Thái Học'), ('bệnh vqệ', 'bệnh viện'), ('Snơ Tàr', 'Sơn Trà'), ('benh việk', 'bệnh viện'), ('Khfch sạn', 'Khách sạn'), ('Đà Long', 'Đà Nẵng'), ('Đà Nẵrg', 'Đà Nẵng'), ('Hoafgn Djệu', 'Hoàng Diệu'), ('Ngũ Hànk Skn', 'Ngũ Hành Sơn'), ('Nguyễn Văn Ljns', 'Nguyễn Văn Linh'), ('Ngyễn Văn Ljnh', 'Nguyễn Văn Linh'), ('bệnp viện', 'bệnh viện'), ('Nkà Hàng', 'Nhà Hàng'), ('dệnh viện', 'bệnh viện'), ('Sơn Trf', 'Sơn Trà'), ('Đo Nẵng', 'Đà Nẵng'), ('Dà Nan', 'Đà Nẵng'), ('Ngyễn Thái Học', 'Nguyễn Thái Học'), ('àĐ Lẵng', 'Đà Nẵng'), ('Nguyễn Thái Hcọ', 'Nguyễn Thái Học'), ('Đe Nawxng', 'Đà Nẵng'), ('Khhch sạ', 'Khách sạn'), ('Nguyễn kTái Học', 'Nguyễn Thái Học'), ('dhà Hàng', 'Nhà Hàng'), ('Ngũ Hnh Sown', 'Ngũ Hành Sơn'), ('bệnh vqện', 'bệnh viện'), ('Hoàng Giinu', 'Hoàng Diệu'), ('Khách sạg', 'Khách sạn'), ('Ng ũHàk Sơn', 'Ngũ Hành Sơn'), ('Hoàn Dieeju', 'Hoàng Diệu'), ('Ngb Hành Sơn', 'Ngũ Hành Sơn'), ('pà Nẵng', 'Đà Nẵng'), ('Ngyễn Vnă Linh', 'Nguyễn Văn Linh'), ('bệnh vjệf', 'bệnh viện'), ('Đà oẵng', 'Đà Nẵng'), ('Ngwyễn Thái Hok', 'Nguyễn Thái Học'), ('ệnk viện', 'bệnh viện'), ('Nugyễn Tháj Học', 'Nguyễn Thái Học'), ('Nguyễn Văn Lint', 'Nguyễn Văn Linh'), ('Khách sại', 'Khách sạn'), ('Đà yẵng', 'Đà Nẵng'), ('Ngũ Hành zown', 'Ngũ Hành Sơn'), ('Nhaf aàng', 'Nhà Hàng'), ('Ngũ Hàn Son', 'Ngũ Hành Sơn'), ('bện hvien', 'bệnh viện'), ('Sown Trv', 'Sơn Trà'), ('Nguyễn Vqn Linh', 'Nguyễn Văn Linh'), ('Hoàng iDuệ', 'Hoàng Diệu'), ('hNa Hàng', 'Nhà Hàng'), ('Đà Lẵnf', 'Đà Nẵng'), ('Hnàng Diệu', 'Hoàng Diệu'), ('Nguyễn Thág Học', 'Nguyễn Thái Học'), ('Hoàng việu', 'Hoàng Diệu'), ('Nguyễn Văn Link', 'Nguyễn Văn Linh'), ('Xun Trà', 'Sơn Trà'), ('Đz Nẵng', 'Đà Nẵng'), ('Đà Lyng', 'Đà Nẵng'), ('Nha Hng', 'Nhà Hàng'), ('ubà Hàng', 'Nhà Hàng'), ('thà Hàng', 'Nhà Hàng'), ('bjnh viện', 'bệnh viện'), ('Hoàng Duệ', 'Hoàng Diệu'), ('ơSt Trà', 'Sơn Trà'), ('Hoàng Diệh', 'Hoàng Diệu'), ('Hoàng hiệu', 'Hoàng Diệu'), ('Nh ààHn', 'Nhà Hàng'), ('benh vjệ', 'bệnh viện'), ('Nguyễ Văn Link', 'Nguyễn Văn Linh'), ('sgux Hành Sơn', 'Ngũ Hành Sơn'), ('enh viện', 'bệnh viện'), ('Đà Nẵlg', 'Đà Nẵng'), ('tệnh viện', 'bệnh viện'), ('Hoàug Diệu', 'Hoàng Diệu'), ('Ngũ Hànf Sơn', 'Ngũ Hành Sơn'), ('Hoàng Diệp', 'Hoàng Diệu'), ('Kháeh sạn', 'Khách sạn'), ('Ngugễn Thasi Hok', 'Nguyễn Thái Học'), ('Kasch sạ', 'Khách sạn'), ('fguyễn Văn Ninh', 'Nguyễn Văn Linh'), ('Nks Hàng', 'Nhà Hàng'), ('beejnn viện', 'bệnh viện'), ('Đa Nang', 'Đà Nẵng'), ('Nguyễn Thái sọc', 'Nguyễn Thái Học'), ('Khasch uajn', 'Khách sạn'), ('Ngux Hàn Sơn', 'Ngũ Hành Sơn'), ('Nkl Hàng', 'Nhà Hàng'), ('Ngũ Hcnh Sơn', 'Ngũ Hành Sơn'), ('Nguyễn Vawn Lnh', 'Nguyễn Văn Linh'), ('Nh vàng', 'Nhà Hàng'), ('Hoafng Dxệu', 'Hoàng Diệu'), ('Đà Lng', 'Đà Nẵng'), ('Nguyễn Văn jnk', 'Nguyễn Văn Linh'), ('Đà Nqng', 'Đà Nẵng'), ('Nhà tàn', 'Nhà Hàng'), ('bệnh vcện', 'bệnh viện'), ('Nguyn Văn Ninh', 'Nguyễn Văn Linh'), ('bệno viện', 'bệnh viện'), ('Ngjyễn Văn Ninh', 'Nguyễn Văn Linh'), ('Ngyễn Thái Họ', 'Nguyễn Thái Học'), ('Nha Hànz', 'Nhà Hàng'), ('Khwch xạn', 'Khách sạn'), ('Nguyễn Tái Hok', 'Nguyễn Thái Học'), ('Đk Nẵng', 'Đà Nẵng'), ('Sơn Cjà', 'Sơn Trà'), ('Ngũ Hwnh Sơn', 'Ngũ Hành Sơn'), ('Đà Nawxrg', 'Đà Nẵng'), ('Nguyễn Thiá Hok', 'Nguyễn Thái Học'), ('Khah sạn', 'Khách sạn'), ('Sơn xrà', 'Sơn Trà'), ('Hoang Diuệ', 'Hoàng Diệu'), ('bệnh vie', 'bệnh viện'), ('Ngũ Hành Sơu', 'Ngũ Hành Sơn'), ('oệnh viện', 'bệnh viện'), ('Ngunễn Văn Linh', 'Nguyễn Văn Linh'), ('Nkuyễn Văn Linh', 'Nguyễn Văn Linh'), ('aơn Chà', 'Sơn Trà'), ('jơn Traf', 'Sơn Trà'), ('Đaf sẵng', 'Đà Nẵng'), ('bệnk viện', 'bệnh viện'), ('Nhà Habg', 'Nhà Hàng'), ('Nguyễn Thj Hko', 'Nguyễn Thái Học'), ('Nguyễn Thasi Hoc', 'Nguyễn Thái Học'), ('Khasck sạ', 'Khách sạn'), ('Nkk Hàng', 'Nhà Hàng'), ('Ngũ Hàn kSơn', 'Ngũ Hành Sơn'), ('bệnh viln', 'bệnh viện'), ('Xơn Tià', 'Sơn Trà'), ('Nguyễn Văn Ldnh', 'Nguyễn Văn Linh'), ('bệnh sieejn', 'bệnh viện'), ('Khákc sxn', 'Khách sạn'), ('Đà Nẵnn', 'Đà Nẵng'), ('bệnh vxện', 'bệnh viện'), ('bệnh vien', 'bệnh viện'), ('Nguyễn Vun Linh', 'Nguyễn Văn Linh'), ('Nguyeexn Văn Link', 'Nguyễn Văn Linh'), ('bệnh fiện', 'bệnh viện'), ('Nhv Hàng', 'Nhà Hàng'), ('Sơn r', 'Sơn Trà'), ('Đà Nẵag', 'Đà Nẵng'), ('Ddà Nẵog', 'Đà Nẵng'), ('Ngũ Hành Sơi', 'Ngũ Hành Sơn'), ('Nguyen Vin Ljnh', 'Nguyễn Văn Linh'), ('bệdh viện', 'bệnh viện'), ('heejnh viện', 'bệnh viện'), ('Ngiyễn Văn Linh', 'Nguyễn Văn Linh'), ('Dà Nmng', 'Đà Nẵng'), ('Nge Hành Snơ', 'Ngũ Hành Sơn'), ('beejh viện', 'bệnh viện'), ('Khách shn', 'Khách sạn'), ('Svn Trà', 'Sơn Trà'), ('oHàng Dệu', 'Hoàng Diệu'), ('Ngủ Hnàh Xơn', 'Ngũ Hành Sơn'), ('Hoahg Diệu', 'Hoàng Diệu'), ('Ngbyễn Văn Link', 'Nguyễn Văn Linh'), ('Snơ Trà', 'Sơn Trà'), ('bệnh xiện', 'bệnh viện'), ('Hoàng Deệu', 'Hoàng Diệu'), ('bệqh viện', 'bệnh viện'), ('Nguyễn Tká Học', 'Nguyễn Thái Học'), ('Ngs Hành Sơ', 'Ngũ Hành Sơn'), ('Da Nẵng', 'Đà Nẵng'), ('Ngucễn Thái Hok', 'Nguyễn Thái Học'), ('Nguễyn Thái Học', 'Nguyễn Thái Học'), ('Nwuyễn Thái Hok', 'Nguyễn Thái Học'), ('ioàng Diệu', 'Hoàng Diệu'), ('Son Tjà', 'Sơn Trà'), ('Hoàng Diệq', 'Hoàng Diệu'), ('vơn Trà', 'Sơn Trà'), ('Sơd Trà', 'Sơn Trà'), ('Sơ Trz', 'Sơn Trà'), ('Đaf Nẵgn', 'Đà Nẵng'), ('à Lẵng', 'Đà Nẵng'), ('roàn gDiệu', 'Hoàng Diệu'), ('tguyễn Thái Hok', 'Nguyễn Thái Học'), ('Nguyễo Thái Học', 'Nguyễn Thái Học'), ('Nguyễn Văn Lunh', 'Nguyễn Văn Linh'), ('bện hviệ', 'bệnh viện'), ('bznh vieejn', 'bệnh viện'), ('Đà sẵng', 'Đà Nẵng'), ('bệnh iệ', 'bệnh viện'), ('Sơn Toà', 'Sơn Trà'), ('Đaf Ngng', 'Đà Nẵng'), ('Đà Nẵ', 'Đà Nẵng'), ('Nhà Hàrg', 'Nhà Hàng'), ('Sln Trà', 'Sơn Trà'), ('Hàong Dieeju', 'Hoàng Diệu'), ('Kách sạn', 'Khách sạn'), ('Nguyễn Thas iHok', 'Nguyễn Thái Học'), ('Snn Trà', 'Sơn Trà'), ('Xơn Teà', 'Sơn Trà'), ('Hoàng Dieejg', 'Hoàng Diệu'), ('hà Nẵn', 'Đà Nẵng'), ('bệnc vien', 'bệnh viện'), ('Nguyeexn Thiá Hcọ', 'Nguyễn Thái Học'), ('Nkà àgn', 'Nhà Hàng'), ('Ngũ Hành Sxn', 'Ngũ Hành Sơn'), ('Hàng Diệ', 'Hoàng Diệu'), ('Noũ Hành Sơn', 'Ngũ Hành Sơn'), ('gNủ Hafnh Sơ', 'Ngũ Hành Sơn'), ('Hoàng iDệ', 'Hoàng Diệu'), ('Hoang Giiệu', 'Hoàng Diệu'), ('Nha Hjng', 'Nhà Hàng'), ('hà Nẵng', 'Đà Nẵng'), ('Nguyeexn Vawn Lin', 'Nguyễn Văn Linh'), ('Khkh sạn', 'Khách sạn'), ('Nhà Hng', 'Nhà Hàng'), ('Xon Tr', 'Sơn Trà'), ('Nhà Hàno', 'Nhà Hàng'), ('bệh viện', 'bệnh viện'), ('Nhà Hjng', 'Nhà Hàng'), ('Nguyễn Vzn Linh', 'Nguyễn Văn Linh'), ('Nguyễ nVăn Lin', 'Nguyễn Văn Linh'), ('Hoafng Giiệ', 'Hoàng Diệu'), ('Nguyeexn Văs Lin', 'Nguyễn Văn Linh'), ('Sơn Txà', 'Sơn Trà'), ('Ngũ Hafnh Xơ', 'Ngũ Hành Sơn'), ('Nhà aàn', 'Nhà Hàng'), ('Sơn Tuaf', 'Sơn Trà'), ('Nguyễn Táhi Học', 'Nguyễn Thái Học'), ('Hoàng Dieu', 'Hoàng Diệu'), ('Ngũ Hàsh Sơn', 'Ngũ Hành Sơn'), ('Kháci sạn', 'Khách sạn'), ('Nhaf Hànl', 'Nhà Hàng'), ('oàng Dieeju', 'Hoàng Diệu'), ('Nhà dàng', 'Nhà Hàng'), ('Nguyễn ăVn Lin', 'Nguyễn Văn Linh'), ('Niũ Hành Sơn', 'Ngũ Hành Sơn'), ('Hpàn gDiệu', 'Hoàng Diệu'), ('Nhà Hcn', 'Nhà Hàng'), ('rhà Hàng', 'Nhà Hàng'), ('tà Nẵng', 'Đà Nẵng'), ('Nhà Hàpg', 'Nhà Hàng'), ('bệnh vjeejn', 'bệnh viện'), ('Kháck sfn', 'Khách sạn'), ('hNà Hàn', 'Nhà Hàng'), ('Hoàfg Dilu', 'Hoàng Diệu'), ('Đà kẵlg', 'Đà Nẵng'), ('Nàh àHng', 'Nhà Hàng'), ('Sơu Tra', 'Sơn Trà'), ('Nguyễn Vah Linh', 'Nguyễn Văn Linh'), ('Kháh uạn', 'Khách sạn'), ('Hàong Giiệu', 'Hoàng Diệu'), ('Ngủ Hàh Sơn', 'Ngũ Hành Sơn'), ('Sơn irà', 'Sơn Trà'), ('Nh àpàng', 'Nhà Hàng'), ('Ngũ nành Sơ', 'Ngũ Hành Sơn'), ('Nguyễn Văa Linh', 'Nguyễn Văn Linh'), ('Ngũ Hàkn Sơn', 'Ngũ Hành Sơn'), ('Nguyvn Văn Lknh', 'Nguyễn Văn Linh'), ('goàng Diệu', 'Hoàng Diệu'), ('Nugyễn Văn Liph', 'Nguyễn Văn Linh'), ('Nguyễn Vun Linu', 'Nguyễn Văn Linh'), ('Ngyuễn Văn Ljnh', 'Nguyễn Văn Linh'), ('Nsaf Hàng', 'Nhà Hàng'), ('Nguyeexn Thi Học', 'Nguyễn Thái Học'), ('Holng Diệu', 'Hoàng Diệu'), ('Nguyễn Vwn Nin', 'Nguyễn Văn Linh'), ('Sơn Trw', 'Sơn Trà'), ('Hoàng Dmệu', 'Hoàng Diệu'), ('xệnh viện', 'bệnh viện'), ('Nguyễn Thci Học', 'Nguyễn Thái Học'), ('Nguyễn Thasi Ho', 'Nguyễn Thái Học'), ('Ngxyễn Văn Lin', 'Nguyễn Văn Linh'), ('Nha Hàeg', 'Nhà Hàng'), ('fhasch san', 'Khách sạn'), ('Xown Traf', 'Sơn Trà'), ('Sơn Tfaf', 'Sơn Trà'), ('Nguyễz Thái Học', 'Nguyễn Thái Học'), ('Nguyeexn Thasj Học', 'Nguyễn Thái Học'), ('zoàng Drệu', 'Hoàng Diệu'), ('bệnh việi', 'bệnh viện'), ('Đà bẵng', 'Đà Nẵng'), ('Szn Trà', 'Sơn Trà'), ('Hoàng Difu', 'Hoàng Diệu'), ('Nhaf Hàg', 'Nhà Hàng'), ('Ngũ gànk Sơn', 'Ngũ Hành Sơn'), ('Nguyễn Thoi Học', 'Nguyễn Thái Học'), ('Nguyen Thiá Học', 'Nguyễn Thái Học'), ('Nguyễn Thti Hok', 'Nguyễn Thái Học'), ('Khách xạ', 'Khách sạn'), ('Nguyễn Thái ojc', 'Nguyễn Thái Học'), ('Sown arà', 'Sơn Trà'), ('guyễn Văn Linh', 'Nguyễn Văn Linh'), ('Hoafng Diệu', 'Hoàng Diệu'), ('Ngũ Hành aơn', 'Ngũ Hành Sơn'), ('bệnm viện', 'bệnh viện'), ('Sơd Chà', 'Sơn Trà'), ('Hyàng Diệu', 'Hoàng Diệu'), ('gNủ Hành Sơn', 'Ngũ Hành Sơn'), ('Khách sạv', 'Khách sạn'), ('ckà Hàng', 'Nhà Hàng'), ('Nguyfn Thái Hok', 'Nguyễn Thái Học'), ('Nguyễn Văn Lmnh', 'Nguyễn Văn Linh'), ('Đaf Lẵn', 'Đà Nẵng'), ('Sơc Trà', 'Sơn Trà'), ('Đq Nẵng', 'Đà Nẵng'), ('Khách oạn', 'Khách sạn'), ('Nguyễn Văn Lihh', 'Nguyễn Văn Linh'), ('Nga Hành ơS', 'Ngũ Hành Sơn'), ('cà Nawxng', 'Đà Nẵng'), ('Nguyễn hái Họ', 'Nguyễn Thái Học'), ('Hoàgn Diệ', 'Hoàng Diệu'), ('qgũ Hành Sơn', 'Ngũ Hành Sơn'), ('Đà Lang', 'Đà Nẵng'), ('Kháxh sạn', 'Khách sạn'), ('Nmũ Hafnh Sơn', 'Ngũ Hành Sơn'), ('Hoàng Divu', 'Hoàng Diệu'), ('Hoxng Diệ', 'Hoàng Diệu'), ('Ngũ Hàah Sơn', 'Ngũ Hành Sơn'), ('Dà Nẵgg', 'Đà Nẵng'), ('Đr Nng', 'Đà Nẵng'), ('Nguyễn Văn Lish', 'Nguyễn Văn Linh'), ('Ngvyễn Tháj Học', 'Nguyễn Thái Học'), ('Ng Hànk Sơ', 'Ngũ Hành Sơn'), ('Dà Nẵg', 'Đà Nẵng'), ('Nuyễn Văn Lin', 'Nguyễn Văn Linh'), ('Đà Nẵfg', 'Đà Nẵng'), ('Hiàng Diệu', 'Hoàng Diệu'), ('Đr Nẵng', 'Đà Nẵng'), ('qơn Trà', 'Sơn Trà'), ('Khác hzajn', 'Khách sạn'), ('bệnn việ', 'bệnh viện'), ('uguyễn Văn Linh', 'Nguyễn Văn Linh'), ('Kháck pạn', 'Khách sạn'), ('Hoànq Diệu', 'Hoàng Diệu'), ('joàng Diệu', 'Hoàng Diệu'), ('Hoàng Dbệr', 'Hoàng Diệu'), ('Xan Trà', 'Sơn Trà'), ('Nhà Hàns', 'Nhà Hàng'), ('wệnh viện', 'bệnh viện'), ('bệnk vieejn', 'bệnh viện'), ('Daf Nẵng', 'Đà Nẵng'), ('Nguyeexn Vawn Ljnh', 'Nguyễn Văn Linh'), ('Nhaf Hnàg', 'Nhà Hàng'), ('Nha Hafng', 'Nhà Hàng'), ('bvnh vjện', 'bệnh viện'), ('Káhch zạn', 'Khách sạn'), ('Nguyễn Văn Lizh', 'Nguyễn Văn Linh'), ('Nguyễn Tái ọc', 'Nguyễn Thái Học'), ('Ndà Hàng', 'Nhà Hàng'), ('Khách uạ', 'Khách sạn'), ('Kház hsạn', 'Khách sạn'), ('Ngũ Hànk Son', 'Ngũ Hành Sơn'), ('Nguyễn Thasi Hojc', 'Nguyễn Thái Học'), ('Ddà Nang', 'Đà Nẵng'), ('nguyễn Thái Hoc', 'Nguyễn Thái Học'), ('gNuyễn Thái Học', 'Nguyễn Thái Học'), ('lhà Hàn', 'Nhà Hàng'), ('Nàh Hàn', 'Nhà Hàng'), ('Sen Trà', 'Sơn Trà'), ('aguyễn Văn Linh', 'Nguyễn Văn Linh'), ('bhm Hàng', 'Nhà Hàng'), ('Nugyễn Văn Ninh', 'Nguyễn Văn Linh'), ('Ngupễn Thái Học', 'Nguyễn Thái Học'), ('mơn Traf', 'Sơn Trà'), ('Hoàgn Dệiu', 'Hoàng Diệu'), ('Dà Lhng', 'Đà Nẵng'), ('Knách sạ', 'Khách sạn'), ('Đa Lẵn', 'Đà Nẵng'), ('Nguyeexn Thái Hko', 'Nguyễn Thái Học'), ('là Nawxng', 'Đà Nẵng'), ('Nguyễc Thái Học', 'Nguyễn Thái Học'), ('oHàng Djệu', 'Hoàng Diệu'), ('bệnh eiện', 'bệnh viện'), ('Khách sạl', 'Khách sạn'), ('Đa Nawxg', 'Đà Nẵng'), ('Nhj Hàng', 'Nhà Hàng'), ('Đa Nẵgn', 'Đà Nẵng'), ('gNuyễn Văn yin', 'Nguyễn Văn Linh'), ('bnệh vinệ', 'bệnh viện'), ('Đà Lẵg', 'Đà Nẵng'), ('Ngũ Hànk ơSn', 'Ngũ Hành Sơn'), ('Ngsyễn Thái Hok', 'Nguyễn Thái Học'), ('Nguễ Thái Hok', 'Nguyễn Thái Học'), ('ohà Hàng', 'Nhà Hàng'), ('Hoàng Dqệu', 'Hoàng Diệu'), ('Ngũ Hafnh Sown', 'Ngũ Hành Sơn'), ('Nguyễx Văn Linh', 'Nguyễn Văn Linh'), ('bệnh piện', 'bệnh viện'), ('Nhà Hành', 'Nhà Hàng'), ('sà Nẵng', 'Đà Nẵng'), ('Nguyễn Táhj Học', 'Nguyễn Thái Học'), ('bệnh uiện', 'bệnh viện'), ('Ktách sạn', 'Khách sạn'), ('Nht Hàn', 'Nhà Hàng'), ('Sơs Chà', 'Sơn Trà'), ('hNà jafng', 'Nhà Hàng'), ('Hoàn Doeeju', 'Hoàng Diệu'), ('Hoàng diệ', 'Hoàng Diệu'), ('Nha Hanw', 'Nhà Hàng'), ('Đà yng', 'Đà Nẵng'), ('Kházh sạn', 'Khách sạn'), ('Nouynễ Văn Linh', 'Nguyễn Văn Linh'), ('Nguygn Văn Linh', 'Nguyễn Văn Linh'), ('Đh Nẵng', 'Đà Nẵng'), ('Ng Hành Sơa', 'Ngũ Hành Sơn'), ('Hoàng Dsệu', 'Hoàng Diệu'), ('Nà Hafng', 'Nhà Hàng'), ('Ngũ Hànm Sơn', 'Ngũ Hành Sơn'), ('Hoang Dilu', 'Hoàng Diệu'), ('gNuyễn măn Linh', 'Nguyễn Văn Linh'), ('bgnh viện', 'bệnh viện'), ('Nhà nàg', 'Nhà Hàng'), ('guyễn Văn Ninh', 'Nguyễn Văn Linh'), ('Sn Tra', 'Sơn Trà'), ('benh iện', 'bệnh viện'), ('Ngu Hpnk Sơn', 'Ngũ Hành Sơn'), ('qguyễn Thai Hok', 'Nguyễn Thái Học'), ('Hoàqg Diệu', 'Hoàng Diệu'), ('gủ ành Sơn', 'Ngũ Hành Sơn'), ('Ngyễn Vawn iLnh', 'Nguyễn Văn Linh'), ('Nguễn Vn Linh', 'Nguyễn Văn Linh'), ('Nguyeexn Văn Lin', 'Nguyễn Văn Linh'), ('Hoafnw Dieeju', 'Hoàng Diệu'), ('Ngayễn Thái Học', 'Nguyễn Thái Học'), ('Nguyễn Tzái Học', 'Nguyễn Thái Học'), ('Ngũ jành Sơn', 'Ngũ Hành Sơn'), ('Đaf ẵNng', 'Đà Nẵng'), ('Nhl Hànk', 'Nhà Hàng'), ('Ngũ Hafn hSơn', 'Ngũ Hành Sơn'), ('Sơn bra', 'Sơn Trà'), ('Sơn trà', 'Sơn Trà'), ('Di Nẵng', 'Đà Nẵng'), ('Ngũ Hanh Sow', 'Ngũ Hành Sơn'), ('Nhà Hnn', 'Nhà Hàng'), ('Khách jạn', 'Khách sạn'), ('hà Hàn', 'Nhà Hàng'), ('Ngyuen Thái Học', 'Nguyễn Thái Học'), ('khaf Hàng', 'Nhà Hàng'), ('Xon rà', 'Sơn Trà'), ('bệdh vjện', 'bệnh viện'), ('Ngũ Hnàh Xơn', 'Ngũ Hành Sơn'), ('Honc Diệu', 'Hoàng Diệu'), ('Nhà H', 'Nhà Hàng'), ('Nhà eafg', 'Nhà Hàng'), ('Nxaf Hàng', 'Nhà Hàng'), ('Skn Chà', 'Sơn Trà'), ('Nha pàng', 'Nhà Hàng'), ('bpnh viện', 'bệnh viện'), ('Nguyễn Tkái Huk', 'Nguyễn Thái Học'), ('Đaf Nvng', 'Đà Nẵng'), ('Nguyeex nThái Học', 'Nguyễn Thái Học'), ('Nhà Hàqg', 'Nhà Hàng'), ('gũ Hành Sơn', 'Ngũ Hành Sơn'), ('Hoàng Djệu', 'Hoàng Diệu'), ('Hoàng Giieu', 'Hoàng Diệu'), ('Nguễyn aăn Linh', 'Nguyễn Văn Linh'), ('guyễn Thai Hok', 'Nguyễn Thái Học'), ('Hoàgg Diệ', 'Hoàng Diệu'), ('Sơn Ta', 'Sơn Trà'), ('Nguyễn Văl Linh', 'Nguyễn Văn Linh'), ('Ngũ Hành Sơt', 'Ngũ Hành Sơn'), ('fguyễn Thái Học', 'Nguyễn Thái Học'), ('Ngũ Hành ơSn', 'Ngũ Hành Sơn'), ('San Trà', 'Sơn Trà'), ('bệnf viện', 'bệnh viện'), ('bệnh vinn', 'bệnh viện'), ('hach sạn', 'Khách sạn'), ('Đà Lẵnv', 'Đà Nẵng'), ('beejnh vwện', 'bệnh viện'), ('Khasch sạa', 'Khách sạn'), ('Ngũ àh Sơn', 'Ngũ Hành Sơn'), ('Ngbyeexn Văn Linh', 'Nguyễn Văn Linh'), ('Đaf Npn', 'Đà Nẵng'), ('bznh viện', 'bệnh viện'), ('hà Hàng', 'Nhà Hàng'), ('à Hàng', 'Nhà Hàng'), ('Kách ssn', 'Khách sạn'), ('Đà Nẵnx', 'Đà Nẵng'), ('Sown Chà', 'Sơn Trà'), ('Nguễyn Vawn Linh', 'Nguyễn Văn Linh'), ('beejnk iện', 'bệnh viện'), ('bệnh iện', 'bệnh viện'), ('Nguyễn Văn Lins', 'Nguyễn Văn Linh'), ('Đ Nawxng', 'Đà Nẵng'), ('Ngũ Hành Sơr', 'Ngũ Hành Sơn'), ('Đà Njng', 'Đà Nẵng'), ('Ngu Hành Xơn', 'Ngũ Hành Sơn'), ('Ngũ Hàng Sơ', 'Ngũ Hành Sơn'), ('Hoàng Gikệu', 'Hoàng Diệu'), ('Đt Nẵng', 'Đà Nẵng'), ('bnệk vjện', 'bệnh viện'), ('Nguyễ Thái Họp', 'Nguyễn Thái Học'), ('Nhà Hàag', 'Nhà Hàng'), ('Nguyễ Thái Học', 'Nguyễn Thái Học'), ('wà ẵNng', 'Đà Nẵng'), ('Xhn Trà', 'Sơn Trà'), ('benh viện', 'bệnh viện'), ('Đà dẵng', 'Đà Nẵng'), ('beejnh vệin', 'bệnh viện'), ('Đaf tẵng', 'Đà Nẵng'), ('Nguyen Thái Họ', 'Nguyễn Thái Học'), ('Soy Trà', 'Sơn Trà'), ('Nhà Hàp', 'Nhà Hàng'), ('Honàg Diệu', 'Hoàng Diệu'), ('Sơ Tr', 'Sơn Trà'), ('kguyễn Văn Linh', 'Nguyễn Văn Linh'), ('Nguyễ Táhi Học', 'Nguyễn Thái Học'), ('Khách aj', 'Khách sạn'), ('Nguyễn Văn Lanh', 'Nguyễn Văn Linh'), ('Khácg sạn', 'Khách sạn'), ('Nguyen Vawn Linh', 'Nguyễn Văn Linh'), ('Nguyễn Tkái Học', 'Nguyễn Thái Học'), ('banh viện', 'bệnh viện'), ('Khákc xạn', 'Khách sạn'), ('Đaf Nẵyg', 'Đà Nẵng'), ('jơn Trà', 'Sơn Trà'), ('Sơn Trs', 'Sơn Trà'), ('Đb Nẵn', 'Đà Nẵng'), ('Nguễn Thái Hok', 'Nguyễn Thái Học'), ('bnk viện', 'bệnh viện'), ('Đà wẵng', 'Đà Nẵng'), ('Nguyễ Thár Học', 'Nguyễn Thái Học'), ('Nguyun Van Linh', 'Nguyễn Văn Linh'), ('Ddà Nẵyg', 'Đà Nẵng'), ('Khách dạn', 'Khách sạn'), ('Npà Hàng', 'Nhà Hàng'), ('Ngd Hành Sơn', 'Ngũ Hành Sơn'), ('qhà màng', 'Nhà Hàng'), ('Nguyễn eáhi Học', 'Nguyễn Thái Học'), ('Hoàng Dizu', 'Hoàng Diệu'), ('Đz Nẵn', 'Đà Nẵng'), ('Khcáh sajn', 'Khách sạn'), ('Ngũ àHnk Sơn', 'Ngũ Hành Sơn'), ('Ngygễn Vawn Lnih', 'Nguyễn Văn Linh'), ('hà Hang', 'Nhà Hàng'), ('Ngũ Hanh ơSy', 'Ngũ Hành Sơn'), ('fha Hàng', 'Nhà Hàng'), ('Xown Tra', 'Sơn Trà'), ('Hoong biệu', 'Hoàng Diệu'), ('cà Nẵnj', 'Đà Nẵng'), ('Ngg Hành Sơn', 'Ngũ Hành Sơn'), ('Nh àHàn', 'Nhà Hàng'), ('Đà Nfng', 'Đà Nẵng'), ('Nguyễn Văn Liqh', 'Nguyễn Văn Linh'), ('Nhà jng', 'Nhà Hàng'), ('Khácr sạn', 'Khách sạn'), ('Nguydn Thái Học', 'Nguyễn Thái Học'), ('Nguyễn Văn Nnih', 'Nguyễn Văn Linh'), ('Nha Hàni', 'Nhà Hàng'), ('bệnk vhện', 'bệnh viện'), ('Ngũ Hàny Sơ', 'Ngũ Hành Sơn'), ('Nu Hành Sơn', 'Ngũ Hành Sơn'), ('Nguyen Văn Ninh', 'Nguyễn Văn Linh'), ('bệnh vtện', 'bệnh viện'), ('Nguyễn Thái Họ', 'Nguyễn Thái Học'), ('bnh vien', 'bệnh viện'), ('Nguvễn Thái Học', 'Nguyễn Thái Học'), ('Nguyễn Vă nLinh', 'Nguyễn Văn Linh'), ('Hoàng Dtệ', 'Hoàng Diệu'), ('ơn Trv', 'Sơn Trà'), ('Hoàng diệu', 'Hoàng Diệu'), ('Nguyễn Văn Lvnh', 'Nguyễn Văn Linh'), ('Ngtyễn Thái Hok', 'Nguyễn Thái Học'), ('Ngux Hành Sown', 'Ngũ Hành Sơn'), ('oơn Chà', 'Sơn Trà'), ('Nguyễj Văn Linh', 'Nguyễn Văn Linh'), ('Honàg Diệ', 'Hoàng Diệu'), ('bệnh sện', 'bệnh viện'), ('Hong Diu', 'Hoàng Diệu'), ('Hàon gDiệu', 'Hoàng Diệu'), ('bệnh virn', 'bệnh viện'), ('chách sạn', 'Khách sạn'), ('Đà Nawxnf', 'Đà Nẵng'), ('beejnh vien', 'bệnh viện'), ('zguyễn Văn Lin', 'Nguyễn Văn Linh'), ('Khac hsạn', 'Khách sạn'), ('Khách xạu', 'Khách sạn'), ('Nguyễn Thái Họg', 'Nguyễn Thái Học'), ('Sơn Trv', 'Sơn Trà'), ('Hohng Diệu', 'Hoàng Diệu'), ('Nguyễn Toái Học', 'Nguyễn Thái Học'), ('Kháce sạn', 'Khách sạn'), ('Ngũ Hànk Sen', 'Ngũ Hành Sơn'), ('Đo Lẵng', 'Đà Nẵng'), ('Nhà uàng', 'Nhà Hàng'), ('Ngũ Hành mơn', 'Ngũ Hành Sơn'), ('Nguyễn fhái Hok', 'Nguyễn Thái Học'), ('bệkk viện', 'bệnh viện'), ('Nguyrn Tkái Hok', 'Nguyễn Thái Học'), ('Nhà wànr', 'Nhà Hàng'), ('Đà Nẵj', 'Đà Nẵng'), ('Nguyễn Thái Hot', 'Nguyễn Thái Học'), ('Kzách sạn', 'Khách sạn'), ('whà Hànv', 'Nhà Hàng'), ('sà Nawxng', 'Đà Nẵng'), ('Nguyễn Tqái Học', 'Nguyễn Thái Học'), ('Nũ Hành Son', 'Ngũ Hành Sơn'), ('Hoafng Djeeju', 'Hoàng Diệu'), ('Nguyen Thasi Hok', 'Nguyễn Thái Học'), ('Hoàng Deeju', 'Hoàng Diệu'), ('Đà Nrng', 'Đà Nẵng'), ('à Nẵng', 'Đà Nẵng'), ('Nguyễl Văn Linh', 'Nguyễn Văn Linh'), ('bệnw viện', 'bệnh viện'), ('Khách iạn', 'Khách sạn'), ('bệk viện', 'bệnh viện'), ('Hoàng Dipu', 'Hoàng Diệu'), ('Khácy san', 'Khách sạn'), ('bqnh viện', 'bệnh viện'), ('Hoàog Diệu', 'Hoàng Diệu'), ('Ngủ Hàn Sơn', 'Ngũ Hành Sơn'), ('bệch việ', 'bệnh viện'), ('Snn Traf', 'Sơn Trà'), ('Hoàng Dfệu', 'Hoàng Diệu'), ('Nũg Hành Snơ', 'Ngũ Hành Sơn'), ('ơSn nra', 'Sơn Trà'), ('Nguyễn Văq Linh', 'Nguyễn Văn Linh'), ('Nhà Hafn', 'Nhà Hàng'), ('Son Trc', 'Sơn Trà'), ('bệnh vvện', 'bệnh viện'), ('Nguyeexn Tkái Hok', 'Nguyễn Thái Học'), ('Nguyễn Vawn Ljnh', 'Nguyễn Văn Linh'), ('Hoàwg Diệu', 'Hoàng Diệu'), ('Ngũ Hàrh Sơn', 'Ngũ Hành Sơn'), ('Sơl Tra', 'Sơn Trà'), ('yhách sạn', 'Khách sạn'), ('Hoafnl Djệu', 'Hoàng Diệu'), ('hà Hng', 'Nhà Hàng'), ('bnh vieejn', 'bệnh viện'), ('Ngu Hành Snơ', 'Ngũ Hành Sơn'), ('Nguyan Thái Hok', 'Nguyễn Thái Học'), ('Nguyễn Thá Hok', 'Nguyễn Thái Học'), ('Ngũ Hnàh Sơ', 'Ngũ Hành Sơn'), ('Nguyễn Vgn Linh', 'Nguyễn Văn Linh'), ('Nguyen Thasi Học', 'Nguyễn Thái Học'), ('Sơm Trà', 'Sơn Trà'), ('Nguaễn Thái Học', 'Nguyễn Thái Học'), ('Ngũ Hbnk Sơn', 'Ngũ Hành Sơn'), ('Sơn mrà', 'Sơn Trà'), ('Nguyễn Vaw nLynh', 'Nguyễn Văn Linh'), ('Nguyễn Văn Njhn', 'Nguyễn Văn Linh'), ('Nhm Hàng', 'Nhà Hàng'), ('ơSn Tr', 'Sơn Trà'), ('Nguhễn Thái Hok', 'Nguyễn Thái Học'), ('Khách sq', 'Khách sạn'), ('banh vjệ', 'bệnh viện'), ('Sơn Tjà', 'Sơn Trà'), ('Khácl xạn', 'Khách sạn'), ('Sơn hCà', 'Sơn Trà'), ('Ddb Lẵng', 'Đà Nẵng'), ('Nguyễn Văn Ljnh', 'Nguyễn Văn Linh'), ('Xnơ Trà', 'Sơn Trà')]\n"
          ],
          "name": "stdout"
        }
      ]
    },
    {
      "cell_type": "code",
      "metadata": {
        "id": "EAaM6wFDJWOb",
        "colab_type": "code",
        "colab": {
          "base_uri": "https://localhost:8080/",
          "height": 34
        },
        "outputId": "410f5512-853d-423f-b47d-b1b039c0b411"
      },
      "source": [
        "len(train_data)//BATCH_TRAIN_SIZE"
      ],
      "execution_count": null,
      "outputs": [
        {
          "output_type": "execute_result",
          "data": {
            "text/plain": [
              "0"
            ]
          },
          "metadata": {
            "tags": []
          },
          "execution_count": 29
        }
      ]
    },
    {
      "cell_type": "code",
      "metadata": {
        "id": "IAOuYeq1zyzN",
        "colab_type": "code",
        "colab": {}
      },
      "source": [
        ""
      ],
      "execution_count": null,
      "outputs": []
    },
    {
      "cell_type": "code",
      "metadata": {
        "id": "qWvXnmWGfDDv",
        "colab_type": "code",
        "colab": {
          "base_uri": "https://localhost:8080/",
          "height": 1000
        },
        "outputId": "fbc54c89-0c50-4ae5-c371-7145e50a07a9"
      },
      "source": [
        "# model.fit_generator(train_generator, steps_per_epoch=len(train_data)//BATCH_SIZE, epochs=50,\n",
        "#                     validation_data=validation_generator, validation_steps=len(valid_data)//BATCH_SIZE,\n",
        "#                     callbacks=[checkpointer])\n",
        "\n",
        "now = datetime.now()\n",
        "current_time = now.strftime(\"%H:%M:%S_%d%m%y\")\n",
        "# OVERFITTING \n",
        "es = EarlyStopping(monitor='val_accuracy', min_delta = 0.993, mode='max', \n",
        "                   verbose = 1, patience = 20)\n",
        "\n",
        "checkpointer = ModelCheckpoint(filepath=os.path.join('./model/spell_{}.h5'.format(current_time)),save_best_only=True, verbose=1)\n",
        "# model.fit_generator(train_generator, steps_per_epoch= len(train_data), epochs=20,\n",
        "#                     validation_data=validation_generator, validation_steps = len(valid_data),callbacks=[checkpointer])\n",
        "\n",
        "# ========================\n",
        "# model spell.h5 + [\"Đà Nẵng\", \" Srứaơn Trà\"]: spell_09:04:45_060820.h5\n",
        "# model spell.h5 + [\"Đà Nẵng\", \"Sơn Trà\", \"Bệnh Viện\"]: spell_07:55:18_070820.h5\n",
        "# model spell.h5 + 19 loại dữ liệu: spell_09:16:05_070820.h5\n",
        "# model = load_model(\"./model/spell.h5\")\n",
        "start_time = time.time()\n",
        "seqModel = model.fit_generator(train_generator, steps_per_epoch=len(train_non_encode)//256, epochs=20,\n",
        "                    validation_data=validation_generator, validation_steps=len(validation_non_encode)//256, callbacks=[checkpointer, es])\n",
        "print(\"--- %s seconds ---\" % (time.time() - start_time))\n"
      ],
      "execution_count": null,
      "outputs": [
        {
          "output_type": "stream",
          "text": [
            "WARNING:tensorflow:From /usr/local/lib/python3.6/dist-packages/tensorflow_core/python/ops/math_grad.py:1424: where (from tensorflow.python.ops.array_ops) is deprecated and will be removed in a future version.\n",
            "Instructions for updating:\n",
            "Use tf.where in 2.0, which has the same broadcast rule as np.where\n",
            "WARNING:tensorflow:From /usr/local/lib/python3.6/dist-packages/keras/backend/tensorflow_backend.py:422: The name tf.global_variables is deprecated. Please use tf.compat.v1.global_variables instead.\n",
            "\n",
            "Epoch 1/20\n",
            "18/18 [==============================] - 7s 381ms/step - loss: 2.4904 - accuracy: 0.5780 - val_loss: 1.3192 - val_accuracy: 0.7444\n",
            "\n",
            "Epoch 00001: val_loss improved from inf to 1.31920, saving model to ./model/spell_07:03:42_100820.h5\n",
            "Epoch 2/20\n",
            "18/18 [==============================] - 4s 222ms/step - loss: 1.1177 - accuracy: 0.7379 - val_loss: 0.9839 - val_accuracy: 0.7236\n",
            "\n",
            "Epoch 00002: val_loss improved from 1.31920 to 0.98391, saving model to ./model/spell_07:03:42_100820.h5\n",
            "Epoch 3/20\n",
            "18/18 [==============================] - 4s 225ms/step - loss: 0.9490 - accuracy: 0.7444 - val_loss: 0.9276 - val_accuracy: 0.7487\n",
            "\n",
            "Epoch 00003: val_loss improved from 0.98391 to 0.92755, saving model to ./model/spell_07:03:42_100820.h5\n",
            "Epoch 4/20\n",
            "18/18 [==============================] - 4s 226ms/step - loss: 0.9066 - accuracy: 0.7475 - val_loss: 0.8934 - val_accuracy: 0.7732\n",
            "\n",
            "Epoch 00004: val_loss improved from 0.92755 to 0.89340, saving model to ./model/spell_07:03:42_100820.h5\n",
            "Epoch 5/20\n",
            "18/18 [==============================] - 4s 228ms/step - loss: 0.8659 - accuracy: 0.7826 - val_loss: 0.8360 - val_accuracy: 0.7861\n",
            "\n",
            "Epoch 00005: val_loss improved from 0.89340 to 0.83600, saving model to ./model/spell_07:03:42_100820.h5\n",
            "Epoch 6/20\n",
            "18/18 [==============================] - 4s 229ms/step - loss: 0.8051 - accuracy: 0.7867 - val_loss: 0.7680 - val_accuracy: 0.7891\n",
            "\n",
            "Epoch 00006: val_loss improved from 0.83600 to 0.76798, saving model to ./model/spell_07:03:42_100820.h5\n",
            "Epoch 7/20\n",
            "18/18 [==============================] - 4s 228ms/step - loss: 0.7442 - accuracy: 0.7872 - val_loss: 0.7127 - val_accuracy: 0.7898\n",
            "\n",
            "Epoch 00007: val_loss improved from 0.76798 to 0.71272, saving model to ./model/spell_07:03:42_100820.h5\n",
            "Epoch 8/20\n",
            "18/18 [==============================] - 4s 231ms/step - loss: 0.6927 - accuracy: 0.7914 - val_loss: 0.6617 - val_accuracy: 0.7977\n",
            "\n",
            "Epoch 00008: val_loss improved from 0.71272 to 0.66170, saving model to ./model/spell_07:03:42_100820.h5\n",
            "Epoch 9/20\n",
            "18/18 [==============================] - 4s 232ms/step - loss: 0.6465 - accuracy: 0.8032 - val_loss: 0.6171 - val_accuracy: 0.8144\n",
            "\n",
            "Epoch 00009: val_loss improved from 0.66170 to 0.61715, saving model to ./model/spell_07:03:42_100820.h5\n",
            "Epoch 10/20\n",
            "18/18 [==============================] - 4s 229ms/step - loss: 0.6009 - accuracy: 0.8146 - val_loss: 0.5721 - val_accuracy: 0.8229\n",
            "\n",
            "Epoch 00010: val_loss improved from 0.61715 to 0.57210, saving model to ./model/spell_07:03:42_100820.h5\n",
            "Epoch 11/20\n",
            "18/18 [==============================] - 4s 230ms/step - loss: 0.5575 - accuracy: 0.8218 - val_loss: 0.5319 - val_accuracy: 0.8286\n",
            "\n",
            "Epoch 00011: val_loss improved from 0.57210 to 0.53187, saving model to ./model/spell_07:03:42_100820.h5\n",
            "Epoch 12/20\n",
            "18/18 [==============================] - 4s 230ms/step - loss: 0.5161 - accuracy: 0.8303 - val_loss: 0.4893 - val_accuracy: 0.8415\n",
            "\n",
            "Epoch 00012: val_loss improved from 0.53187 to 0.48927, saving model to ./model/spell_07:03:42_100820.h5\n",
            "Epoch 13/20\n",
            "18/18 [==============================] - 4s 228ms/step - loss: 0.4767 - accuracy: 0.8434 - val_loss: 0.4483 - val_accuracy: 0.8568\n",
            "\n",
            "Epoch 00013: val_loss improved from 0.48927 to 0.44826, saving model to ./model/spell_07:03:42_100820.h5\n",
            "Epoch 14/20\n",
            "18/18 [==============================] - 4s 231ms/step - loss: 0.4397 - accuracy: 0.8580 - val_loss: 0.4183 - val_accuracy: 0.8633\n",
            "\n",
            "Epoch 00014: val_loss improved from 0.44826 to 0.41833, saving model to ./model/spell_07:03:42_100820.h5\n",
            "Epoch 15/20\n",
            "18/18 [==============================] - 4s 233ms/step - loss: 0.4042 - accuracy: 0.8731 - val_loss: 0.3746 - val_accuracy: 0.8864\n",
            "\n",
            "Epoch 00015: val_loss improved from 0.41833 to 0.37463, saving model to ./model/spell_07:03:42_100820.h5\n",
            "Epoch 16/20\n",
            "18/18 [==============================] - 4s 235ms/step - loss: 0.3652 - accuracy: 0.8905 - val_loss: 0.3346 - val_accuracy: 0.9073\n",
            "\n",
            "Epoch 00016: val_loss improved from 0.37463 to 0.33463, saving model to ./model/spell_07:03:42_100820.h5\n",
            "Epoch 17/20\n",
            "18/18 [==============================] - 4s 228ms/step - loss: 0.3280 - accuracy: 0.9049 - val_loss: 0.2972 - val_accuracy: 0.9157\n",
            "\n",
            "Epoch 00017: val_loss improved from 0.33463 to 0.29724, saving model to ./model/spell_07:03:42_100820.h5\n",
            "Epoch 18/20\n",
            "18/18 [==============================] - 4s 236ms/step - loss: 0.2924 - accuracy: 0.9188 - val_loss: 0.2617 - val_accuracy: 0.9326\n",
            "\n",
            "Epoch 00018: val_loss improved from 0.29724 to 0.26175, saving model to ./model/spell_07:03:42_100820.h5\n",
            "Epoch 19/20\n",
            "18/18 [==============================] - 4s 236ms/step - loss: 0.2606 - accuracy: 0.9322 - val_loss: 0.2470 - val_accuracy: 0.9343\n",
            "\n",
            "Epoch 00019: val_loss improved from 0.26175 to 0.24703, saving model to ./model/spell_07:03:42_100820.h5\n",
            "Epoch 20/20\n",
            "18/18 [==============================] - 4s 237ms/step - loss: 0.2372 - accuracy: 0.9412 - val_loss: 0.2032 - val_accuracy: 0.9536\n",
            "\n",
            "Epoch 00020: val_loss improved from 0.24703 to 0.20324, saving model to ./model/spell_07:03:42_100820.h5\n",
            "--- 92.27936053276062 seconds ---\n"
          ],
          "name": "stdout"
        }
      ]
    },
    {
      "cell_type": "code",
      "metadata": {
        "id": "DSCHe9zFbvj2",
        "colab_type": "code",
        "colab": {}
      },
      "source": [
        "def plot_model_history(model_history):\n",
        "    fig, axs = plt.subplots(1,2,figsize=(15,5))\n",
        "    # summarize history for accuracy\n",
        "    axs[0].plot(range(1,len(model_history.history['accuracy'])+1),model_history.history['accuracy'])\n",
        "    axs[0].plot(range(1,len(model_history.history['val_accuracy'])+1),model_history.history['val_accuracy'])\n",
        "    axs[0].set_title('Model Accuracy')\n",
        "    axs[0].set_ylabel('Accuracy')\n",
        "    axs[0].set_xlabel('Epoch')\n",
        "    axs[0].set_xticks(np.arange(1,len(model_history.history['accuracy'])+1),len(model_history.history['accuracy'])/10)\n",
        "    axs[0].legend(['train', 'val'], loc='best')\n",
        "    # summarize history for loss\n",
        "    axs[1].plot(range(1,len(model_history.history['loss'])+1),model_history.history['loss'])\n",
        "    axs[1].plot(range(1,len(model_history.history['val_loss'])+1),model_history.history['val_loss'])\n",
        "    axs[1].set_title('Model Loss')\n",
        "    axs[1].set_ylabel('Loss')\n",
        "    axs[1].set_xlabel('Epoch')\n",
        "    axs[1].set_xticks(np.arange(1,len(model_history.history['loss'])+1),len(model_history.history['loss'])/10)\n",
        "    axs[1].legend(['train', 'val'], loc='best')\n",
        "    plt.show()"
      ],
      "execution_count": null,
      "outputs": []
    },
    {
      "cell_type": "code",
      "metadata": {
        "id": "46Y3qtM6Phzf",
        "colab_type": "code",
        "colab": {
          "base_uri": "https://localhost:8080/",
          "height": 421
        },
        "outputId": "c41624d1-29dc-4228-f86b-ec0085a792dd"
      },
      "source": [
        "plot_model_history(seqModel)\n"
      ],
      "execution_count": null,
      "outputs": [
        {
          "output_type": "stream",
          "text": [
            "/usr/local/lib/python3.6/dist-packages/ipykernel_launcher.py:9: MatplotlibDeprecationWarning: Passing the minor parameter of set_xticks() positionally is deprecated since Matplotlib 3.2; the parameter will become keyword-only two minor releases later.\n",
            "  if __name__ == '__main__':\n",
            "/usr/local/lib/python3.6/dist-packages/ipykernel_launcher.py:17: MatplotlibDeprecationWarning: Passing the minor parameter of set_xticks() positionally is deprecated since Matplotlib 3.2; the parameter will become keyword-only two minor releases later.\n"
          ],
          "name": "stderr"
        },
        {
          "output_type": "display_data",
          "data": {
            "image/png": "[encoded data removed]",
            "text/plain": [
              "<Figure size 1080x360 with 2 Axes>"
            ]
          },
          "metadata": {
            "tags": [],
            "needs_background": "light"
          }
        }
      ]
    },
    {
      "cell_type": "code",
      "metadata": {
        "id": "eCwzCZr8Cthw",
        "colab_type": "code",
        "colab": {}
      },
      "source": [
        "BATCH_TEST_SIZE = 512\n",
        "test_non_encode = generate_data_non_encode([\"NGuyễn Văn Linh\"], batch_size = BATCH_TRAIN_SIZE)\n",
        "test_generator = generate_data_encode(test_non_encode, batch_size = BATCH_TRAIN_SIZE)\n"
      ],
      "execution_count": null,
      "outputs": []
    },
    {
      "cell_type": "code",
      "metadata": {
        "id": "evKHiMRuC_88",
        "colab_type": "code",
        "colab": {
          "base_uri": "https://localhost:8080/",
          "height": 51
        },
        "outputId": "f4c6dce3-0810-4993-c4cf-6db23545574d"
      },
      "source": [
        "eval_model = load_model('./model/spell_07:55:18_070820.h5')\n",
        "eval_model.evaluate_generator(test_generator,steps=1,verbose=1)\n"
      ],
      "execution_count": null,
      "outputs": [
        {
          "output_type": "stream",
          "text": [
            "\r1/1 [==============================] - 1s 1s/step\n"
          ],
          "name": "stdout"
        },
        {
          "output_type": "execute_result",
          "data": {
            "text/plain": [
              "[0.45884695649147034, 0.904589831829071]"
            ]
          },
          "metadata": {
            "tags": []
          },
          "execution_count": 41
        }
      ]
    },
    {
      "cell_type": "code",
      "metadata": {
        "id": "OpCQvev7Ewqi",
        "colab_type": "code",
        "colab": {
          "base_uri": "https://localhost:8080/",
          "height": 51
        },
        "outputId": "298a2836-fab0-45f5-85ae-f5a610a7233b"
      },
      "source": [
        "eval_model = load_model('./model/spell_09:04:45_060820.h5')\n",
        "eval_model.evaluate_generator(test_generator,steps=1,verbose=1)\n"
      ],
      "execution_count": null,
      "outputs": [
        {
          "output_type": "stream",
          "text": [
            "\r1/1 [==============================] - 2s 2s/step\n"
          ],
          "name": "stdout"
        },
        {
          "output_type": "execute_result",
          "data": {
            "text/plain": [
              "[0.04761025309562683, 0.9862060546875]"
            ]
          },
          "metadata": {
            "tags": []
          },
          "execution_count": 90
        }
      ]
    },
    {
      "cell_type": "code",
      "metadata": {
        "id": "YcX1-AEnaT_X",
        "colab_type": "code",
        "colab": {
          "base_uri": "https://localhost:8080/",
          "height": 34
        },
        "outputId": "6f452440-6366-472f-c5d9-107e8e405bca"
      },
      "source": [
        "model = load_model(\"./model/spell_09:04:45_060820.h5\")\n",
        "model._make_predict_function()\n",
        "0.00062"
      ],
      "execution_count": null,
      "outputs": [
        {
          "output_type": "execute_result",
          "data": {
            "text/plain": [
              "0.00062"
            ]
          },
          "metadata": {
            "tags": []
          },
          "execution_count": 126
        }
      ]
    },
    {
      "cell_type": "code",
      "metadata": {
        "id": "otf6TYhkbtRO",
        "colab_type": "code",
        "colab": {
          "base_uri": "https://localhost:8080/",
          "height": 34
        },
        "outputId": "bf89c921-d025-458f-dc77-55e6f88d3c9d"
      },
      "source": [
        "preds = model.predict(np.array([encoder_data(\"Nhà Hàng\")]), verbose=0)\n",
        "print(decoder_data(preds[0]).strip('\\x00'))"
      ],
      "execution_count": null,
      "outputs": [
        {
          "output_type": "stream",
          "text": [
            "Nhà Hàng\n"
          ],
          "name": "stdout"
        }
      ]
    },
    {
      "cell_type": "code",
      "metadata": {
        "id": "v54UJJQTp0WH",
        "colab_type": "code",
        "colab": {}
      },
      "source": [
        "NGRAM=4\n",
        "MAXLEN=40\n",
        "MAXNGRAM = 4\n",
        "alphabet = ['\\x00', ' ', '_', 'a', 'b', 'c', 'd', 'e', 'f', 'g', 'h', 'i', 'j', 'k', 'l', 'm', 'n', 'o', 'p', 'q', 'r', 's', 't', 'u', 'v', 'w', 'x', 'y', 'z', 'A', 'B', 'C', 'D', 'E', 'F', 'G', 'H', 'I', 'J', 'K', 'L', 'M', 'N', 'O', 'P', 'Q', 'R', 'S', 'T', 'U', 'V', 'W', 'X', 'Y', 'Z', '0', '1', '2', '3', '4', '5', '6', '7', '8', '9', 'á', 'à', 'ả', 'ã', 'ạ', 'â', 'ấ', 'ầ', 'ẩ', 'ẫ', 'ậ', 'ă', 'ắ', 'ằ', 'ẳ', 'ẵ', 'ặ', 'ó', 'ò', 'ỏ', 'õ', 'ọ', 'ô', 'ố', 'ồ', 'ổ', 'ỗ', 'ộ', 'ơ', 'ớ', 'ờ', 'ở', 'ỡ', 'ợ', 'é', 'è', 'ẻ', 'ẽ', 'ẹ', 'ê', 'ế', 'ề', 'ể', 'ễ', 'ệ', 'ú', 'ù', 'ủ', 'ũ', 'ụ', 'ư', 'ứ', 'ừ', 'ử', 'ữ', 'ự', 'í', 'ì', 'ỉ', 'ĩ', 'ị', 'ý', 'ỳ', 'ỷ', 'ỹ', 'ỵ', 'đ', 'Á', 'À', 'Ả', 'Ã', 'Ạ', 'Â', 'Ấ', 'Ầ', 'Ẩ', 'Ẫ', 'Ậ', 'Ă', 'Ắ', 'Ằ', 'Ẳ', 'Ẵ', 'Ặ', 'Ó', 'Ò', 'Ỏ', 'Õ', 'Ọ', 'Ô', 'Ố', 'Ồ', 'Ổ', 'Ỗ', 'Ộ', 'Ơ', 'Ớ', 'Ờ', 'Ở', 'Ỡ', 'Ợ', 'É', 'È', 'Ẻ', 'Ẽ', 'Ẹ', 'Ê', 'Ế', 'Ề', 'Ể', 'Ễ', 'Ệ', 'Ú', 'Ù', 'Ủ', 'Ũ', 'Ụ', 'Ư', 'Ứ', 'Ừ', 'Ử', 'Ữ', 'Ự', 'Í', 'Ì', 'Ỉ', 'Ĩ', 'Ị', 'Ý', 'Ỳ', 'Ỷ', 'Ỹ', 'Ỵ', 'Đ']\n",
        "letters=list(\"abcdefghijklmnopqrstuvwxyzáàảãạâấầẩẫậăắằẳẵặóòỏõọôốồổỗộơớờởỡợéèẻẽẹêếềểễệúùủũụưứừửữựíìỉĩịýỳỷỹỵđABCDEFGHIJKLMNOPQRSTUVWXYZÁÀẢÃẠÂẤẦẨẪẬĂẮẰẲẴẶÓÒỎÕỌÔỐỒỔỖỘƠỚỜỞỠỢÉÈẺẼẸÊẾỀỂỄỆÚÙỦŨỤƯỨỪỬỮỰÍÌỈĨỊÝỲỶỸỴĐ\")\n",
        "accepted_char=list((string.digits + ''.join(letters)))\n",
        "\n",
        "def extract_phrases(text):\n",
        "    pattern = r'\\w[\\w ]*|\\s\\W+|\\W+'\n",
        "    return re.findall(pattern, text)\n",
        "\n",
        "def encoder_data(text, maxlen=MAXLEN):\n",
        "        text = \"\\x00\" + text\n",
        "        x = np.zeros((maxlen, len(alphabet)))\n",
        "        for i, c in enumerate(text[:maxlen]):\n",
        "            x[i, alphabet.index(c)] = 1\n",
        "        if i < maxlen - 1:\n",
        "          for j in range(i+1, maxlen):\n",
        "            x[j, 0] = 1\n",
        "        return x\n",
        "      \n",
        "def decoder_data(x):\n",
        "    x = x.argmax(axis=-1)\n",
        "    return ''.join(alphabet[i] for i in x)\n",
        "\n",
        "\n",
        "def nltk_ngrams(words, n=5):\n",
        "    return ngrams(words.split(), n)\n",
        "      \n",
        "def guess(ngram):\n",
        "    text = ' '.join(ngram)\n",
        "    preds = model.predict(np.array([encoder_data(text)]), verbose=0)\n",
        "    return decoder_data(preds[0]).strip('\\x00')\n",
        "\n",
        "def correct(sentence):\n",
        "    for i in sentence:\n",
        "        if i not in accepted_char:\n",
        "            sentence=sentence.replace(i,\" \")\n",
        "    output = []\n",
        "    for NGRAM in range(2, MAXNGRAM + 1):\n",
        "        ngrams = list(nltk_ngrams(sentence, n=NGRAM))\n",
        "        guessed_ngrams = list(guess(ngram) for ngram in ngrams)\n",
        "        candidates = [Counter() for _ in range(len(guessed_ngrams) + NGRAM - 1)]\n",
        "        for nid, ngram in (enumerate(guessed_ngrams)):\n",
        "            for wid, word in (enumerate(re.split(' +', ngram))):\n",
        "                candidates[nid + wid].update([word])        \n",
        "        try:\n",
        "          output.append(' '.join(c.most_common(1)[0][0] for c in candidates))\n",
        "        except:\n",
        "          output.append(sentence)\n",
        "    return output\n"
      ],
      "execution_count": null,
      "outputs": []
    },
    {
      "cell_type": "code",
      "metadata": {
        "id": "aeMxMm0DhdfR",
        "colab_type": "code",
        "colab": {
          "base_uri": "https://localhost:8080/",
          "height": 71
        },
        "outputId": "a7ec0c23-def7-4a6e-9724-7b4a0abf7502"
      },
      "source": [
        "correct(\"Hoanh Diệu\")"
      ],
      "execution_count": null,
      "outputs": [
        {
          "output_type": "stream",
          "text": [
            "/usr/local/lib/python3.6/dist-packages/ipykernel_launcher.py:41: DeprecationWarning: generator 'ngrams' raised StopIteration\n"
          ],
          "name": "stderr"
        },
        {
          "output_type": "execute_result",
          "data": {
            "text/plain": [
              "['Hoàng Diệu', 'Hoang Diệu', 'Hoang Diệu']"
            ]
          },
          "metadata": {
            "tags": []
          },
          "execution_count": 91
        }
      ]
    },
    {
      "cell_type": "code",
      "metadata": {
        "id": "z1lN3OUNhzu9",
        "colab_type": "code",
        "colab": {}
      },
      "source": [
        ""
      ],
      "execution_count": null,
      "outputs": []
    }
  ]
}